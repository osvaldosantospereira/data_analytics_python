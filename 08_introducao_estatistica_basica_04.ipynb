{
 "cells": [
  {
   "cell_type": "markdown",
   "metadata": {},
   "source": [
    "# Discussão de casos"
   ]
  },
  {
   "cell_type": "markdown",
   "metadata": {},
   "source": [
    "## Caso 1: Simulando exploração de Dados em dataset financeiro\n",
    "\n",
    "**O Dataset: Inadimplência em cartões de crédito** <br>\n",
    "Esse dataset está disponível no [Kaggle](https://www.kaggle.com/uciml/default-of-credit-card-clients-dataset/data?select=UCI_Credit_Card.csv). No link constam informações detalhadas sobre as variáveis presentes, bem como o contexto do negócio.\n",
    "\n",
    "Em resumo, o dataset contém informações sobre pagamentos, fatores demográficos e inadimplência/adimplência da fatura do cartão de crédito.\n",
    "\n",
    "\n",
    "**Conteúdo:**\n",
    "* ID: ID de cada cliente\n",
    "* SEX: 1 = homem, 2 = mulher\n",
    "* EDUCATION: 1=graduate school, 2=university, 3=high school, 4=others, 5=unknown, 6=unknown\n",
    "* MARRIAGE: Marital status (1=married, 2=single, 3=others)\n",
    "* AGE: Age in years\n",
    "* default.payment.next.month: Default payment (1=yes, 0=no)\n",
    "\n",
    "\n",
    "Inspiration\n",
    "Some ideas for exploration:\n",
    "\n",
    "How does the probability of default payment vary by categories of different demographic variables?\n",
    "Which variables are the strongest predictors of default payment?\n",
    "\n",
    "**Problema:** Você é um analista de crédito em uma empresa financeira que cobra juros diferentes de seus clientes de acordo com o score de risco. Hoje o score divide os clientes em faixas de acordo com a idade, no entanto o CFO lhe encarregou de avaliar se esse método é eficiente. Caso positivo ou negativo, ele espera que um formato de ajuste do score seja proposto.\n",
    "\n",
    "Para tanto, você tem acesso a variáveis demográficas e financeiras dos clientes, bem como a indicação de inadimplência e deve explorar a base histórica."
   ]
  },
  {
   "cell_type": "code",
   "execution_count": 1,
   "metadata": {
    "ExecuteTime": {
     "end_time": "2020-12-03T16:56:56.322643Z",
     "start_time": "2020-12-03T16:56:55.382159Z"
    }
   },
   "outputs": [],
   "source": [
    "import pandas as pd\n",
    "df = pd.read_csv('UCI_Credit_Card.csv')\n",
    "\n",
    "df['inadimplente'] = df['default.payment.next.month']\n",
    "df['sexo'] = df['SEX']\n",
    "df['educacao'] = df['EDUCATION']\n",
    "df['estado_civil'] = df['MARRIAGE']\n",
    "df['idade'] = df['AGE']\n",
    "df['vl_fatura'] = df['BILL_AMT6']\n",
    "\n",
    "df = df[['sexo', 'educacao', 'estado_civil','idade', 'vl_fatura', 'inadimplente']]\n",
    "\n",
    "df.to_csv('UCI_Cartao_Credito.csv', index = False)"
   ]
  },
  {
   "cell_type": "code",
   "execution_count": 2,
   "metadata": {
    "ExecuteTime": {
     "end_time": "2020-12-03T16:56:56.355565Z",
     "start_time": "2020-12-03T16:56:56.324641Z"
    }
   },
   "outputs": [],
   "source": [
    "import pandas as pd\n",
    "df = pd.read_csv('UCI_Cartao_Credito.csv')"
   ]
  },
  {
   "cell_type": "code",
   "execution_count": 3,
   "metadata": {
    "ExecuteTime": {
     "end_time": "2020-12-03T16:56:56.378493Z",
     "start_time": "2020-12-03T16:56:56.358548Z"
    }
   },
   "outputs": [
    {
     "data": {
      "text/plain": [
       "sexo              int64\n",
       "educacao          int64\n",
       "estado_civil      int64\n",
       "idade             int64\n",
       "vl_fatura       float64\n",
       "inadimplente      int64\n",
       "dtype: object"
      ]
     },
     "execution_count": 3,
     "metadata": {},
     "output_type": "execute_result"
    }
   ],
   "source": [
    "df.dtypes "
   ]
  },
  {
   "cell_type": "code",
   "execution_count": 4,
   "metadata": {
    "ExecuteTime": {
     "end_time": "2020-12-03T16:56:56.437338Z",
     "start_time": "2020-12-03T16:56:56.381486Z"
    }
   },
   "outputs": [
    {
     "data": {
      "text/html": [
       "<div>\n",
       "<style scoped>\n",
       "    .dataframe tbody tr th:only-of-type {\n",
       "        vertical-align: middle;\n",
       "    }\n",
       "\n",
       "    .dataframe tbody tr th {\n",
       "        vertical-align: top;\n",
       "    }\n",
       "\n",
       "    .dataframe thead th {\n",
       "        text-align: right;\n",
       "    }\n",
       "</style>\n",
       "<table border=\"1\" class=\"dataframe\">\n",
       "  <thead>\n",
       "    <tr style=\"text-align: right;\">\n",
       "      <th></th>\n",
       "      <th>sexo</th>\n",
       "      <th>educacao</th>\n",
       "      <th>estado_civil</th>\n",
       "      <th>idade</th>\n",
       "      <th>vl_fatura</th>\n",
       "      <th>inadimplente</th>\n",
       "    </tr>\n",
       "  </thead>\n",
       "  <tbody>\n",
       "    <tr>\n",
       "      <th>count</th>\n",
       "      <td>30000.000000</td>\n",
       "      <td>30000.000000</td>\n",
       "      <td>30000.000000</td>\n",
       "      <td>30000.000000</td>\n",
       "      <td>30000.000000</td>\n",
       "      <td>30000.000000</td>\n",
       "    </tr>\n",
       "    <tr>\n",
       "      <th>mean</th>\n",
       "      <td>1.603733</td>\n",
       "      <td>1.853133</td>\n",
       "      <td>1.551867</td>\n",
       "      <td>35.485500</td>\n",
       "      <td>38871.760400</td>\n",
       "      <td>0.221200</td>\n",
       "    </tr>\n",
       "    <tr>\n",
       "      <th>std</th>\n",
       "      <td>0.489129</td>\n",
       "      <td>0.790349</td>\n",
       "      <td>0.521970</td>\n",
       "      <td>9.217904</td>\n",
       "      <td>59554.107537</td>\n",
       "      <td>0.415062</td>\n",
       "    </tr>\n",
       "    <tr>\n",
       "      <th>min</th>\n",
       "      <td>1.000000</td>\n",
       "      <td>0.000000</td>\n",
       "      <td>0.000000</td>\n",
       "      <td>21.000000</td>\n",
       "      <td>-339603.000000</td>\n",
       "      <td>0.000000</td>\n",
       "    </tr>\n",
       "    <tr>\n",
       "      <th>25%</th>\n",
       "      <td>1.000000</td>\n",
       "      <td>1.000000</td>\n",
       "      <td>1.000000</td>\n",
       "      <td>28.000000</td>\n",
       "      <td>1256.000000</td>\n",
       "      <td>0.000000</td>\n",
       "    </tr>\n",
       "    <tr>\n",
       "      <th>50%</th>\n",
       "      <td>2.000000</td>\n",
       "      <td>2.000000</td>\n",
       "      <td>2.000000</td>\n",
       "      <td>34.000000</td>\n",
       "      <td>17071.000000</td>\n",
       "      <td>0.000000</td>\n",
       "    </tr>\n",
       "    <tr>\n",
       "      <th>75%</th>\n",
       "      <td>2.000000</td>\n",
       "      <td>2.000000</td>\n",
       "      <td>2.000000</td>\n",
       "      <td>41.000000</td>\n",
       "      <td>49198.250000</td>\n",
       "      <td>0.000000</td>\n",
       "    </tr>\n",
       "    <tr>\n",
       "      <th>max</th>\n",
       "      <td>2.000000</td>\n",
       "      <td>6.000000</td>\n",
       "      <td>3.000000</td>\n",
       "      <td>79.000000</td>\n",
       "      <td>961664.000000</td>\n",
       "      <td>1.000000</td>\n",
       "    </tr>\n",
       "  </tbody>\n",
       "</table>\n",
       "</div>"
      ],
      "text/plain": [
       "               sexo      educacao  estado_civil         idade      vl_fatura  \\\n",
       "count  30000.000000  30000.000000  30000.000000  30000.000000   30000.000000   \n",
       "mean       1.603733      1.853133      1.551867     35.485500   38871.760400   \n",
       "std        0.489129      0.790349      0.521970      9.217904   59554.107537   \n",
       "min        1.000000      0.000000      0.000000     21.000000 -339603.000000   \n",
       "25%        1.000000      1.000000      1.000000     28.000000    1256.000000   \n",
       "50%        2.000000      2.000000      2.000000     34.000000   17071.000000   \n",
       "75%        2.000000      2.000000      2.000000     41.000000   49198.250000   \n",
       "max        2.000000      6.000000      3.000000     79.000000  961664.000000   \n",
       "\n",
       "       inadimplente  \n",
       "count  30000.000000  \n",
       "mean       0.221200  \n",
       "std        0.415062  \n",
       "min        0.000000  \n",
       "25%        0.000000  \n",
       "50%        0.000000  \n",
       "75%        0.000000  \n",
       "max        1.000000  "
      ]
     },
     "execution_count": 4,
     "metadata": {},
     "output_type": "execute_result"
    }
   ],
   "source": [
    "df.describe()"
   ]
  },
  {
   "cell_type": "code",
   "execution_count": 5,
   "metadata": {
    "ExecuteTime": {
     "end_time": "2020-12-03T16:56:56.452299Z",
     "start_time": "2020-12-03T16:56:56.439366Z"
    }
   },
   "outputs": [
    {
     "data": {
      "text/html": [
       "<div>\n",
       "<style scoped>\n",
       "    .dataframe tbody tr th:only-of-type {\n",
       "        vertical-align: middle;\n",
       "    }\n",
       "\n",
       "    .dataframe tbody tr th {\n",
       "        vertical-align: top;\n",
       "    }\n",
       "\n",
       "    .dataframe thead th {\n",
       "        text-align: right;\n",
       "    }\n",
       "</style>\n",
       "<table border=\"1\" class=\"dataframe\">\n",
       "  <thead>\n",
       "    <tr style=\"text-align: right;\">\n",
       "      <th></th>\n",
       "      <th>sexo</th>\n",
       "      <th>educacao</th>\n",
       "      <th>estado_civil</th>\n",
       "      <th>idade</th>\n",
       "      <th>vl_fatura</th>\n",
       "      <th>inadimplente</th>\n",
       "    </tr>\n",
       "  </thead>\n",
       "  <tbody>\n",
       "    <tr>\n",
       "      <th>0</th>\n",
       "      <td>2</td>\n",
       "      <td>2</td>\n",
       "      <td>1</td>\n",
       "      <td>24</td>\n",
       "      <td>0.0</td>\n",
       "      <td>1</td>\n",
       "    </tr>\n",
       "    <tr>\n",
       "      <th>1</th>\n",
       "      <td>2</td>\n",
       "      <td>2</td>\n",
       "      <td>2</td>\n",
       "      <td>26</td>\n",
       "      <td>3261.0</td>\n",
       "      <td>1</td>\n",
       "    </tr>\n",
       "  </tbody>\n",
       "</table>\n",
       "</div>"
      ],
      "text/plain": [
       "   sexo  educacao  estado_civil  idade  vl_fatura  inadimplente\n",
       "0     2         2             1     24        0.0             1\n",
       "1     2         2             2     26     3261.0             1"
      ]
     },
     "execution_count": 5,
     "metadata": {},
     "output_type": "execute_result"
    }
   ],
   "source": [
    "df.head(2)"
   ]
  },
  {
   "cell_type": "code",
   "execution_count": 6,
   "metadata": {
    "ExecuteTime": {
     "end_time": "2020-12-03T16:56:56.585939Z",
     "start_time": "2020-12-03T16:56:56.458284Z"
    }
   },
   "outputs": [],
   "source": [
    "# Corrigindo tipos\n",
    "df['sexo'] = df['sexo'].astype(str)\n",
    "df['educacao'] = df['educacao'].astype(str)\n",
    "df['estado_civil'] = df['estado_civil'].astype(str)\n",
    "df['inadimplente'] = df['inadimplente'].astype(str)"
   ]
  },
  {
   "cell_type": "code",
   "execution_count": 7,
   "metadata": {
    "ExecuteTime": {
     "end_time": "2020-12-03T16:56:56.617855Z",
     "start_time": "2020-12-03T16:56:56.588934Z"
    }
   },
   "outputs": [
    {
     "data": {
      "text/html": [
       "<div>\n",
       "<style scoped>\n",
       "    .dataframe tbody tr th:only-of-type {\n",
       "        vertical-align: middle;\n",
       "    }\n",
       "\n",
       "    .dataframe tbody tr th {\n",
       "        vertical-align: top;\n",
       "    }\n",
       "\n",
       "    .dataframe thead th {\n",
       "        text-align: right;\n",
       "    }\n",
       "</style>\n",
       "<table border=\"1\" class=\"dataframe\">\n",
       "  <thead>\n",
       "    <tr style=\"text-align: right;\">\n",
       "      <th></th>\n",
       "      <th>idade</th>\n",
       "      <th>vl_fatura</th>\n",
       "    </tr>\n",
       "  </thead>\n",
       "  <tbody>\n",
       "    <tr>\n",
       "      <th>count</th>\n",
       "      <td>30000.000000</td>\n",
       "      <td>30000.000000</td>\n",
       "    </tr>\n",
       "    <tr>\n",
       "      <th>mean</th>\n",
       "      <td>35.485500</td>\n",
       "      <td>38871.760400</td>\n",
       "    </tr>\n",
       "    <tr>\n",
       "      <th>std</th>\n",
       "      <td>9.217904</td>\n",
       "      <td>59554.107537</td>\n",
       "    </tr>\n",
       "    <tr>\n",
       "      <th>min</th>\n",
       "      <td>21.000000</td>\n",
       "      <td>-339603.000000</td>\n",
       "    </tr>\n",
       "    <tr>\n",
       "      <th>25%</th>\n",
       "      <td>28.000000</td>\n",
       "      <td>1256.000000</td>\n",
       "    </tr>\n",
       "    <tr>\n",
       "      <th>50%</th>\n",
       "      <td>34.000000</td>\n",
       "      <td>17071.000000</td>\n",
       "    </tr>\n",
       "    <tr>\n",
       "      <th>75%</th>\n",
       "      <td>41.000000</td>\n",
       "      <td>49198.250000</td>\n",
       "    </tr>\n",
       "    <tr>\n",
       "      <th>max</th>\n",
       "      <td>79.000000</td>\n",
       "      <td>961664.000000</td>\n",
       "    </tr>\n",
       "  </tbody>\n",
       "</table>\n",
       "</div>"
      ],
      "text/plain": [
       "              idade      vl_fatura\n",
       "count  30000.000000   30000.000000\n",
       "mean      35.485500   38871.760400\n",
       "std        9.217904   59554.107537\n",
       "min       21.000000 -339603.000000\n",
       "25%       28.000000    1256.000000\n",
       "50%       34.000000   17071.000000\n",
       "75%       41.000000   49198.250000\n",
       "max       79.000000  961664.000000"
      ]
     },
     "execution_count": 7,
     "metadata": {},
     "output_type": "execute_result"
    }
   ],
   "source": [
    "df.describe()"
   ]
  },
  {
   "cell_type": "code",
   "execution_count": 8,
   "metadata": {
    "ExecuteTime": {
     "end_time": "2020-12-03T16:56:56.638799Z",
     "start_time": "2020-12-03T16:56:56.621843Z"
    }
   },
   "outputs": [],
   "source": [
    "# Removendo faturas com valor <= 0\n",
    "df = df[df['vl_fatura']> 0].reset_index(drop=True)"
   ]
  },
  {
   "cell_type": "code",
   "execution_count": 9,
   "metadata": {
    "ExecuteTime": {
     "end_time": "2020-12-03T16:56:56.665726Z",
     "start_time": "2020-12-03T16:56:56.641824Z"
    }
   },
   "outputs": [
    {
     "data": {
      "text/html": [
       "<div>\n",
       "<style scoped>\n",
       "    .dataframe tbody tr th:only-of-type {\n",
       "        vertical-align: middle;\n",
       "    }\n",
       "\n",
       "    .dataframe tbody tr th {\n",
       "        vertical-align: top;\n",
       "    }\n",
       "\n",
       "    .dataframe thead th {\n",
       "        text-align: right;\n",
       "    }\n",
       "</style>\n",
       "<table border=\"1\" class=\"dataframe\">\n",
       "  <thead>\n",
       "    <tr style=\"text-align: right;\">\n",
       "      <th></th>\n",
       "      <th>idade</th>\n",
       "      <th>vl_fatura</th>\n",
       "    </tr>\n",
       "  </thead>\n",
       "  <tbody>\n",
       "    <tr>\n",
       "      <th>count</th>\n",
       "      <td>25292.000000</td>\n",
       "      <td>25292.000000</td>\n",
       "    </tr>\n",
       "    <tr>\n",
       "      <th>mean</th>\n",
       "      <td>35.437451</td>\n",
       "      <td>46191.209197</td>\n",
       "    </tr>\n",
       "    <tr>\n",
       "      <th>std</th>\n",
       "      <td>9.244178</td>\n",
       "      <td>62103.183037</td>\n",
       "    </tr>\n",
       "    <tr>\n",
       "      <th>min</th>\n",
       "      <td>21.000000</td>\n",
       "      <td>1.000000</td>\n",
       "    </tr>\n",
       "    <tr>\n",
       "      <th>25%</th>\n",
       "      <td>28.000000</td>\n",
       "      <td>6634.500000</td>\n",
       "    </tr>\n",
       "    <tr>\n",
       "      <th>50%</th>\n",
       "      <td>34.000000</td>\n",
       "      <td>22635.000000</td>\n",
       "    </tr>\n",
       "    <tr>\n",
       "      <th>75%</th>\n",
       "      <td>41.000000</td>\n",
       "      <td>59188.250000</td>\n",
       "    </tr>\n",
       "    <tr>\n",
       "      <th>max</th>\n",
       "      <td>79.000000</td>\n",
       "      <td>961664.000000</td>\n",
       "    </tr>\n",
       "  </tbody>\n",
       "</table>\n",
       "</div>"
      ],
      "text/plain": [
       "              idade      vl_fatura\n",
       "count  25292.000000   25292.000000\n",
       "mean      35.437451   46191.209197\n",
       "std        9.244178   62103.183037\n",
       "min       21.000000       1.000000\n",
       "25%       28.000000    6634.500000\n",
       "50%       34.000000   22635.000000\n",
       "75%       41.000000   59188.250000\n",
       "max       79.000000  961664.000000"
      ]
     },
     "execution_count": 9,
     "metadata": {},
     "output_type": "execute_result"
    }
   ],
   "source": [
    "df.describe()"
   ]
  },
  {
   "cell_type": "code",
   "execution_count": 10,
   "metadata": {
    "ExecuteTime": {
     "end_time": "2020-12-03T16:56:58.186678Z",
     "start_time": "2020-12-03T16:56:56.668717Z"
    }
   },
   "outputs": [
    {
     "data": {
      "image/png": "[encoded data removed]",
      "text/plain": [
       "<Figure size 540x360 with 1 Axes>"
      ]
     },
     "metadata": {
      "needs_background": "light"
     },
     "output_type": "display_data"
    }
   ],
   "source": [
    "# Vamos avaliar a distribuição de dados para variáveis categóricas\n",
    "import matplotlib.pyplot as plt\n",
    "import seaborn as sns\n",
    "\n",
    "plt.figure(figsize=(7.5,5))\n",
    "\n",
    "variaveis_plt = ['inadimplente']\n",
    "for i, var in enumerate(variaveis_plt):\n",
    "    plt.subplot(1,1,i+1)\n",
    "    sns.countplot(df[var])\n",
    "    plt.title(\"Grafico de Barras para \" + var)   \n",
    "    if var == 'idade':\n",
    "        plt.xticks(rotation = 90, size = 7)"
   ]
  },
  {
   "cell_type": "code",
   "execution_count": 11,
   "metadata": {
    "ExecuteTime": {
     "end_time": "2020-12-03T16:56:59.669378Z",
     "start_time": "2020-12-03T16:56:58.189669Z"
    }
   },
   "outputs": [
    {
     "data": {
      "image/png": "[encoded data removed]",
      "text/plain": [
       "<Figure size 1080x720 with 4 Axes>"
      ]
     },
     "metadata": {
      "needs_background": "light"
     },
     "output_type": "display_data"
    }
   ],
   "source": [
    "# Vamos avaliar a distribuição de dados para os fatores\n",
    "import matplotlib.pyplot as plt\n",
    "import seaborn as sns\n",
    "\n",
    "# Idade tratada como categoria: https://www.ncbi.nlm.nih.gov/pmc/articles/PMC5806344/\n",
    "\n",
    "plt.figure(figsize=(15,10))\n",
    "\n",
    "variaveis_plt = ['sexo', 'educacao', 'estado_civil', 'idade']\n",
    "for i, var in enumerate(variaveis_plt):\n",
    "    plt.subplot(2,2,i+1)\n",
    "    sns.countplot(x = var, data = df)\n",
    "    plt.title(\"Grafico de Barras para \" + var)   \n",
    "    if var == 'idade':\n",
    "        plt.xticks(rotation = 90, size = 7)"
   ]
  },
  {
   "cell_type": "code",
   "execution_count": 12,
   "metadata": {
    "ExecuteTime": {
     "end_time": "2020-12-03T16:57:01.438155Z",
     "start_time": "2020-12-03T16:56:59.672405Z"
    }
   },
   "outputs": [
    {
     "data": {
      "image/png": "[encoded data removed]",
      "text/plain": [
       "<Figure size 1080x720 with 4 Axes>"
      ]
     },
     "metadata": {
      "needs_background": "light"
     },
     "output_type": "display_data"
    }
   ],
   "source": [
    "# Vamos avaliar a distribuição de dados para variáveis categóricas, separando inadimplentes de adimplentes\n",
    "\n",
    "import matplotlib.pyplot as plt\n",
    "import seaborn as sns\n",
    "\n",
    "plt.figure(figsize=(15,10))\n",
    "\n",
    "variaveis_plt = ['sexo', 'educacao', 'estado_civil', 'idade']\n",
    "for i, var in enumerate(variaveis_plt):\n",
    "    plt.subplot(2,2,i+1)\n",
    "    sns.countplot(x = var, hue = 'inadimplente', data = df)\n",
    "    plt.title(\"Grafico de Barras para \" + var)   \n",
    "    if var == 'idade':\n",
    "        plt.xticks(rotation = 90, size = 7)"
   ]
  },
  {
   "cell_type": "code",
   "execution_count": 13,
   "metadata": {
    "ExecuteTime": {
     "end_time": "2020-12-03T16:57:01.514952Z",
     "start_time": "2020-12-03T16:57:01.441148Z"
    }
   },
   "outputs": [
    {
     "data": {
      "text/html": [
       "<div>\n",
       "<style scoped>\n",
       "    .dataframe tbody tr th:only-of-type {\n",
       "        vertical-align: middle;\n",
       "    }\n",
       "\n",
       "    .dataframe tbody tr th {\n",
       "        vertical-align: top;\n",
       "    }\n",
       "\n",
       "    .dataframe thead th {\n",
       "        text-align: right;\n",
       "    }\n",
       "</style>\n",
       "<table border=\"1\" class=\"dataframe\">\n",
       "  <thead>\n",
       "    <tr style=\"text-align: right;\">\n",
       "      <th></th>\n",
       "      <th>sexo</th>\n",
       "      <th>pct_inad</th>\n",
       "    </tr>\n",
       "  </thead>\n",
       "  <tbody>\n",
       "    <tr>\n",
       "      <th>2</th>\n",
       "      <td>1</td>\n",
       "      <td>44.0</td>\n",
       "    </tr>\n",
       "    <tr>\n",
       "      <th>3</th>\n",
       "      <td>2</td>\n",
       "      <td>56.0</td>\n",
       "    </tr>\n",
       "  </tbody>\n",
       "</table>\n",
       "</div>"
      ],
      "text/plain": [
       "  sexo  pct_inad\n",
       "2    1      44.0\n",
       "3    2      56.0"
      ]
     },
     "execution_count": 13,
     "metadata": {},
     "output_type": "execute_result"
    }
   ],
   "source": [
    "# Calculando porcentagem de inadimplentes por cada categoria\n",
    "var = 'sexo'\n",
    "df['pct_inad'] = df['vl_fatura']\n",
    "\n",
    "df_2 = df.groupby(['inadimplente', var]).count()[['pct_inad']].groupby(level=[0]).apply(lambda g: round(100*g / g.sum())).reset_index()\n",
    "df_var = df_2[df_2['inadimplente'] == '1'][[var, 'pct_inad']]\n",
    "\n",
    "df_var"
   ]
  },
  {
   "cell_type": "code",
   "execution_count": 14,
   "metadata": {
    "ExecuteTime": {
     "end_time": "2020-12-03T16:57:01.570800Z",
     "start_time": "2020-12-03T16:57:01.517940Z"
    }
   },
   "outputs": [
    {
     "data": {
      "text/html": [
       "<div>\n",
       "<style scoped>\n",
       "    .dataframe tbody tr th:only-of-type {\n",
       "        vertical-align: middle;\n",
       "    }\n",
       "\n",
       "    .dataframe tbody tr th {\n",
       "        vertical-align: top;\n",
       "    }\n",
       "\n",
       "    .dataframe thead th {\n",
       "        text-align: right;\n",
       "    }\n",
       "</style>\n",
       "<table border=\"1\" class=\"dataframe\">\n",
       "  <thead>\n",
       "    <tr style=\"text-align: right;\">\n",
       "      <th></th>\n",
       "      <th>educacao</th>\n",
       "      <th>pct_inad</th>\n",
       "    </tr>\n",
       "  </thead>\n",
       "  <tbody>\n",
       "    <tr>\n",
       "      <th>7</th>\n",
       "      <td>1</td>\n",
       "      <td>29.0</td>\n",
       "    </tr>\n",
       "    <tr>\n",
       "      <th>8</th>\n",
       "      <td>2</td>\n",
       "      <td>52.0</td>\n",
       "    </tr>\n",
       "    <tr>\n",
       "      <th>9</th>\n",
       "      <td>3</td>\n",
       "      <td>19.0</td>\n",
       "    </tr>\n",
       "    <tr>\n",
       "      <th>10</th>\n",
       "      <td>4</td>\n",
       "      <td>0.0</td>\n",
       "    </tr>\n",
       "    <tr>\n",
       "      <th>11</th>\n",
       "      <td>5</td>\n",
       "      <td>0.0</td>\n",
       "    </tr>\n",
       "    <tr>\n",
       "      <th>12</th>\n",
       "      <td>6</td>\n",
       "      <td>0.0</td>\n",
       "    </tr>\n",
       "  </tbody>\n",
       "</table>\n",
       "</div>"
      ],
      "text/plain": [
       "   educacao  pct_inad\n",
       "7         1      29.0\n",
       "8         2      52.0\n",
       "9         3      19.0\n",
       "10        4       0.0\n",
       "11        5       0.0\n",
       "12        6       0.0"
      ]
     },
     "execution_count": 14,
     "metadata": {},
     "output_type": "execute_result"
    }
   ],
   "source": [
    "# Calculando porcentagem de inadimplentes por cada categoria\n",
    "var = 'educacao'\n",
    "df['pct_inad'] = df['vl_fatura']\n",
    "\n",
    "df_2 = df.groupby(['inadimplente', var]).count()[['pct_inad']].groupby(level=[0]).apply(lambda g: round(100*g / g.sum())).reset_index()\n",
    "df_var = df_2[df_2['inadimplente'] == '1'][[var, 'pct_inad']]\n",
    "\n",
    "df_var"
   ]
  },
  {
   "cell_type": "code",
   "execution_count": 15,
   "metadata": {
    "ExecuteTime": {
     "end_time": "2020-12-03T16:57:04.522532Z",
     "start_time": "2020-12-03T16:57:01.574791Z"
    }
   },
   "outputs": [
    {
     "data": {
      "image/png": "[encoded data removed]",
      "text/plain": [
       "<Figure size 1080x1440 with 8 Axes>"
      ]
     },
     "metadata": {
      "needs_background": "light"
     },
     "output_type": "display_data"
    }
   ],
   "source": [
    "# Vamos avaliar a distribuição de dados para variáveis categóricas, separando inadimplentes de adimplentes e unindo a avaliação de porcentagem\n",
    "import matplotlib.pyplot as plt\n",
    "import seaborn as sns\n",
    "\n",
    "plt.figure(figsize=(15,20))\n",
    "\n",
    "df['pct_inad'] = df['vl_fatura']\n",
    "\n",
    "variaveis_plt = ['sexo', 'educacao', 'estado_civil', 'idade']\n",
    "i = 0\n",
    "for var in variaveis_plt:\n",
    "    \n",
    "    # Gráfico de Barras\n",
    "    i = i+1\n",
    "    plt.subplot(4,2,i)\n",
    "    sns.countplot(x = var, hue = 'inadimplente', data = df)\n",
    "    plt.title(\"Grafico de Barras para \" + var)   \n",
    "    if var == 'idade':\n",
    "        plt.xticks(rotation = 90, size = 7)\n",
    "        \n",
    "    \n",
    "    # Plot porcentagem\n",
    "    i = i+1\n",
    "    plt.subplot(4,2,i)\n",
    "    df_2 = df.groupby(['inadimplente', var]).count()[['pct_inad']].groupby(level=[0]).apply(lambda g: round(100*g / g.sum())).reset_index()\n",
    "    df_var = df_2[df_2['inadimplente'] == '1'][[var, 'pct_inad']]\n",
    "\n",
    "    sns.scatterplot(x = var, y = 'pct_inad', data = df_var)\n",
    " "
   ]
  },
  {
   "cell_type": "code",
   "execution_count": 16,
   "metadata": {
    "ExecuteTime": {
     "end_time": "2020-12-03T16:57:04.549461Z",
     "start_time": "2020-12-03T16:57:04.532468Z"
    }
   },
   "outputs": [],
   "source": [
    "# Vamos aprimorar a análise para idade, criando faixas\n",
    "# Cria faixa de idade\n",
    "category = pd.cut(df['idade'],bins=[0,20,30,40,50,60,70,80,90,100],\n",
    "                  labels=['<20','20-30','30-40','40-50','50-60','60-70','70-80','80-90','90-100'])\n",
    "df.insert(5,'faixa_idade',category)\n",
    "df['faixa_idade'] = df['faixa_idade'].astype(str)\n"
   ]
  },
  {
   "cell_type": "code",
   "execution_count": 17,
   "metadata": {
    "ExecuteTime": {
     "end_time": "2020-12-03T16:57:04.567377Z",
     "start_time": "2020-12-03T16:57:04.551418Z"
    }
   },
   "outputs": [
    {
     "data": {
      "text/html": [
       "<div>\n",
       "<style scoped>\n",
       "    .dataframe tbody tr th:only-of-type {\n",
       "        vertical-align: middle;\n",
       "    }\n",
       "\n",
       "    .dataframe tbody tr th {\n",
       "        vertical-align: top;\n",
       "    }\n",
       "\n",
       "    .dataframe thead th {\n",
       "        text-align: right;\n",
       "    }\n",
       "</style>\n",
       "<table border=\"1\" class=\"dataframe\">\n",
       "  <thead>\n",
       "    <tr style=\"text-align: right;\">\n",
       "      <th></th>\n",
       "      <th>sexo</th>\n",
       "      <th>educacao</th>\n",
       "      <th>estado_civil</th>\n",
       "      <th>idade</th>\n",
       "      <th>vl_fatura</th>\n",
       "      <th>faixa_idade</th>\n",
       "      <th>inadimplente</th>\n",
       "      <th>pct_inad</th>\n",
       "    </tr>\n",
       "  </thead>\n",
       "  <tbody>\n",
       "    <tr>\n",
       "      <th>0</th>\n",
       "      <td>2</td>\n",
       "      <td>2</td>\n",
       "      <td>2</td>\n",
       "      <td>26</td>\n",
       "      <td>3261.0</td>\n",
       "      <td>20-30</td>\n",
       "      <td>1</td>\n",
       "      <td>3261.0</td>\n",
       "    </tr>\n",
       "    <tr>\n",
       "      <th>1</th>\n",
       "      <td>2</td>\n",
       "      <td>2</td>\n",
       "      <td>2</td>\n",
       "      <td>34</td>\n",
       "      <td>15549.0</td>\n",
       "      <td>30-40</td>\n",
       "      <td>0</td>\n",
       "      <td>15549.0</td>\n",
       "    </tr>\n",
       "    <tr>\n",
       "      <th>2</th>\n",
       "      <td>2</td>\n",
       "      <td>2</td>\n",
       "      <td>1</td>\n",
       "      <td>37</td>\n",
       "      <td>29547.0</td>\n",
       "      <td>30-40</td>\n",
       "      <td>0</td>\n",
       "      <td>29547.0</td>\n",
       "    </tr>\n",
       "    <tr>\n",
       "      <th>3</th>\n",
       "      <td>1</td>\n",
       "      <td>2</td>\n",
       "      <td>1</td>\n",
       "      <td>57</td>\n",
       "      <td>19131.0</td>\n",
       "      <td>50-60</td>\n",
       "      <td>0</td>\n",
       "      <td>19131.0</td>\n",
       "    </tr>\n",
       "    <tr>\n",
       "      <th>4</th>\n",
       "      <td>1</td>\n",
       "      <td>1</td>\n",
       "      <td>2</td>\n",
       "      <td>37</td>\n",
       "      <td>20024.0</td>\n",
       "      <td>30-40</td>\n",
       "      <td>0</td>\n",
       "      <td>20024.0</td>\n",
       "    </tr>\n",
       "  </tbody>\n",
       "</table>\n",
       "</div>"
      ],
      "text/plain": [
       "  sexo educacao estado_civil  idade  vl_fatura faixa_idade inadimplente  \\\n",
       "0    2        2            2     26     3261.0       20-30            1   \n",
       "1    2        2            2     34    15549.0       30-40            0   \n",
       "2    2        2            1     37    29547.0       30-40            0   \n",
       "3    1        2            1     57    19131.0       50-60            0   \n",
       "4    1        1            2     37    20024.0       30-40            0   \n",
       "\n",
       "   pct_inad  \n",
       "0    3261.0  \n",
       "1   15549.0  \n",
       "2   29547.0  \n",
       "3   19131.0  \n",
       "4   20024.0  "
      ]
     },
     "execution_count": 17,
     "metadata": {},
     "output_type": "execute_result"
    }
   ],
   "source": [
    "df.head()"
   ]
  },
  {
   "cell_type": "code",
   "execution_count": 18,
   "metadata": {
    "ExecuteTime": {
     "end_time": "2020-12-03T16:57:05.022162Z",
     "start_time": "2020-12-03T16:57:04.570368Z"
    }
   },
   "outputs": [
    {
     "data": {
      "image/png": "[encoded data removed]",
      "text/plain": [
       "<Figure size 1080x1440 with 2 Axes>"
      ]
     },
     "metadata": {
      "needs_background": "light"
     },
     "output_type": "display_data"
    }
   ],
   "source": [
    "# Visualizando faixas de idade\n",
    "import matplotlib.pyplot as plt\n",
    "import seaborn as sns\n",
    "\n",
    "plt.figure(figsize=(15,20))\n",
    "\n",
    "df['pct_inad'] = df['vl_fatura']\n",
    "\n",
    "variaveis_plt = ['faixa_idade']\n",
    "i = 0\n",
    "for var in variaveis_plt:\n",
    "    \n",
    "    # Gráfico de Barras\n",
    "    i = i+1\n",
    "    plt.subplot(4,2,i)\n",
    "    sns.countplot(x = var, hue = 'inadimplente', data = df)\n",
    "    plt.title(\"Grafico de Barras para \" + var)   \n",
    "    if var == 'idade':\n",
    "        plt.xticks(rotation = 90, size = 7)\n",
    "        \n",
    "    \n",
    "    # Plot porcentagem\n",
    "    i = i+1\n",
    "    plt.subplot(4,2,i)\n",
    "    df_2 = df.groupby(['inadimplente', var]).count()[['pct_inad']].groupby(level=[0]).apply(lambda g: round(100*g / g.sum())).reset_index()\n",
    "    df_var = df_2[df_2['inadimplente'] == '1'][[var, 'pct_inad']]\n",
    "\n",
    "    sns.scatterplot(x = var, y = 'pct_inad', data = df_var)\n",
    " "
   ]
  },
  {
   "cell_type": "code",
   "execution_count": 19,
   "metadata": {
    "ExecuteTime": {
     "end_time": "2020-12-03T16:57:05.047128Z",
     "start_time": "2020-12-03T16:57:05.025153Z"
    }
   },
   "outputs": [
    {
     "name": "stdout",
     "output_type": "stream",
     "text": [
      "Estatística descritiva para valor da fatura\n"
     ]
    },
    {
     "data": {
      "text/html": [
       "<div>\n",
       "<style scoped>\n",
       "    .dataframe tbody tr th:only-of-type {\n",
       "        vertical-align: middle;\n",
       "    }\n",
       "\n",
       "    .dataframe tbody tr th {\n",
       "        vertical-align: top;\n",
       "    }\n",
       "\n",
       "    .dataframe thead th {\n",
       "        text-align: right;\n",
       "    }\n",
       "</style>\n",
       "<table border=\"1\" class=\"dataframe\">\n",
       "  <thead>\n",
       "    <tr style=\"text-align: right;\">\n",
       "      <th></th>\n",
       "      <th>vl_fatura</th>\n",
       "    </tr>\n",
       "  </thead>\n",
       "  <tbody>\n",
       "    <tr>\n",
       "      <th>count</th>\n",
       "      <td>25292.000000</td>\n",
       "    </tr>\n",
       "    <tr>\n",
       "      <th>mean</th>\n",
       "      <td>46191.209197</td>\n",
       "    </tr>\n",
       "    <tr>\n",
       "      <th>std</th>\n",
       "      <td>62103.183037</td>\n",
       "    </tr>\n",
       "    <tr>\n",
       "      <th>min</th>\n",
       "      <td>1.000000</td>\n",
       "    </tr>\n",
       "    <tr>\n",
       "      <th>25%</th>\n",
       "      <td>6634.500000</td>\n",
       "    </tr>\n",
       "    <tr>\n",
       "      <th>50%</th>\n",
       "      <td>22635.000000</td>\n",
       "    </tr>\n",
       "    <tr>\n",
       "      <th>75%</th>\n",
       "      <td>59188.250000</td>\n",
       "    </tr>\n",
       "    <tr>\n",
       "      <th>max</th>\n",
       "      <td>961664.000000</td>\n",
       "    </tr>\n",
       "  </tbody>\n",
       "</table>\n",
       "</div>"
      ],
      "text/plain": [
       "           vl_fatura\n",
       "count   25292.000000\n",
       "mean    46191.209197\n",
       "std     62103.183037\n",
       "min         1.000000\n",
       "25%      6634.500000\n",
       "50%     22635.000000\n",
       "75%     59188.250000\n",
       "max    961664.000000"
      ]
     },
     "execution_count": 19,
     "metadata": {},
     "output_type": "execute_result"
    }
   ],
   "source": [
    "# E a variável quantitativa?\n",
    "\n",
    "# Precisamos investigar se o valor da fatura apresenta indícios de relação com a inadimplência\n",
    "print('Estatística descritiva para valor da fatura')\n",
    "df[['vl_fatura']].describe()"
   ]
  },
  {
   "cell_type": "code",
   "execution_count": 20,
   "metadata": {
    "ExecuteTime": {
     "end_time": "2020-12-03T16:57:05.073059Z",
     "start_time": "2020-12-03T16:57:05.049087Z"
    }
   },
   "outputs": [
    {
     "name": "stdout",
     "output_type": "stream",
     "text": [
      "Estatística descritiva para valor da fatura filtrando adimplentes\n"
     ]
    },
    {
     "data": {
      "text/html": [
       "<div>\n",
       "<style scoped>\n",
       "    .dataframe tbody tr th:only-of-type {\n",
       "        vertical-align: middle;\n",
       "    }\n",
       "\n",
       "    .dataframe tbody tr th {\n",
       "        vertical-align: top;\n",
       "    }\n",
       "\n",
       "    .dataframe thead th {\n",
       "        text-align: right;\n",
       "    }\n",
       "</style>\n",
       "<table border=\"1\" class=\"dataframe\">\n",
       "  <thead>\n",
       "    <tr style=\"text-align: right;\">\n",
       "      <th></th>\n",
       "      <th>vl_fatura</th>\n",
       "    </tr>\n",
       "  </thead>\n",
       "  <tbody>\n",
       "    <tr>\n",
       "      <th>count</th>\n",
       "      <td>19742.000000</td>\n",
       "    </tr>\n",
       "    <tr>\n",
       "      <th>mean</th>\n",
       "      <td>46279.407507</td>\n",
       "    </tr>\n",
       "    <tr>\n",
       "      <th>std</th>\n",
       "      <td>62080.088643</td>\n",
       "    </tr>\n",
       "    <tr>\n",
       "      <th>min</th>\n",
       "      <td>1.000000</td>\n",
       "    </tr>\n",
       "    <tr>\n",
       "      <th>25%</th>\n",
       "      <td>6139.500000</td>\n",
       "    </tr>\n",
       "    <tr>\n",
       "      <th>50%</th>\n",
       "      <td>22330.500000</td>\n",
       "    </tr>\n",
       "    <tr>\n",
       "      <th>75%</th>\n",
       "      <td>60048.250000</td>\n",
       "    </tr>\n",
       "    <tr>\n",
       "      <th>max</th>\n",
       "      <td>961664.000000</td>\n",
       "    </tr>\n",
       "  </tbody>\n",
       "</table>\n",
       "</div>"
      ],
      "text/plain": [
       "           vl_fatura\n",
       "count   19742.000000\n",
       "mean    46279.407507\n",
       "std     62080.088643\n",
       "min         1.000000\n",
       "25%      6139.500000\n",
       "50%     22330.500000\n",
       "75%     60048.250000\n",
       "max    961664.000000"
      ]
     },
     "execution_count": 20,
     "metadata": {},
     "output_type": "execute_result"
    }
   ],
   "source": [
    "# Vamos agora separar as contas inadimplentes das adimplentes\n",
    "print('Estatística descritiva para valor da fatura filtrando adimplentes')\n",
    "df[df['inadimplente'] == '0' ][['vl_fatura']].describe()"
   ]
  },
  {
   "cell_type": "code",
   "execution_count": 21,
   "metadata": {
    "ExecuteTime": {
     "end_time": "2020-12-03T16:57:05.099986Z",
     "start_time": "2020-12-03T16:57:05.079006Z"
    }
   },
   "outputs": [
    {
     "name": "stdout",
     "output_type": "stream",
     "text": [
      "Estatística descritiva para valor da fatura filtrando inadimplentes\n"
     ]
    },
    {
     "data": {
      "text/html": [
       "<div>\n",
       "<style scoped>\n",
       "    .dataframe tbody tr th:only-of-type {\n",
       "        vertical-align: middle;\n",
       "    }\n",
       "\n",
       "    .dataframe tbody tr th {\n",
       "        vertical-align: top;\n",
       "    }\n",
       "\n",
       "    .dataframe thead th {\n",
       "        text-align: right;\n",
       "    }\n",
       "</style>\n",
       "<table border=\"1\" class=\"dataframe\">\n",
       "  <thead>\n",
       "    <tr style=\"text-align: right;\">\n",
       "      <th></th>\n",
       "      <th>vl_fatura</th>\n",
       "    </tr>\n",
       "  </thead>\n",
       "  <tbody>\n",
       "    <tr>\n",
       "      <th>count</th>\n",
       "      <td>5550.000000</td>\n",
       "    </tr>\n",
       "    <tr>\n",
       "      <th>mean</th>\n",
       "      <td>45877.477477</td>\n",
       "    </tr>\n",
       "    <tr>\n",
       "      <th>std</th>\n",
       "      <td>62189.847870</td>\n",
       "    </tr>\n",
       "    <tr>\n",
       "      <th>min</th>\n",
       "      <td>10.000000</td>\n",
       "    </tr>\n",
       "    <tr>\n",
       "      <th>25%</th>\n",
       "      <td>8254.000000</td>\n",
       "    </tr>\n",
       "    <tr>\n",
       "      <th>50%</th>\n",
       "      <td>23173.000000</td>\n",
       "    </tr>\n",
       "    <tr>\n",
       "      <th>75%</th>\n",
       "      <td>55495.000000</td>\n",
       "    </tr>\n",
       "    <tr>\n",
       "      <th>max</th>\n",
       "      <td>514975.000000</td>\n",
       "    </tr>\n",
       "  </tbody>\n",
       "</table>\n",
       "</div>"
      ],
      "text/plain": [
       "           vl_fatura\n",
       "count    5550.000000\n",
       "mean    45877.477477\n",
       "std     62189.847870\n",
       "min        10.000000\n",
       "25%      8254.000000\n",
       "50%     23173.000000\n",
       "75%     55495.000000\n",
       "max    514975.000000"
      ]
     },
     "execution_count": 21,
     "metadata": {},
     "output_type": "execute_result"
    }
   ],
   "source": [
    "# Vamos agora separar as contas inadimplentes das adimplentes\n",
    "print('Estatística descritiva para valor da fatura filtrando inadimplentes')\n",
    "df[df['inadimplente'] == '1' ][['vl_fatura']].describe()"
   ]
  },
  {
   "cell_type": "code",
   "execution_count": 22,
   "metadata": {
    "ExecuteTime": {
     "end_time": "2020-12-03T16:57:05.276478Z",
     "start_time": "2020-12-03T16:57:05.102942Z"
    }
   },
   "outputs": [
    {
     "data": {
      "text/plain": [
       "Text(0.5, 1.0, 'Inadimplência por valor da fatura')"
      ]
     },
     "execution_count": 22,
     "metadata": {},
     "output_type": "execute_result"
    },
    {
     "data": {
      "image/png": "[encoded data removed]",
      "text/plain": [
       "<Figure size 432x288 with 1 Axes>"
      ]
     },
     "metadata": {
      "needs_background": "light"
     },
     "output_type": "display_data"
    }
   ],
   "source": [
    "# Vamos agora avaliar graficamente.\n",
    "sns.boxplot(x = 'inadimplente', \n",
    "            y = 'vl_fatura', \n",
    "            data = df).set_title('Inadimplência por valor da fatura')"
   ]
  },
  {
   "cell_type": "code",
   "execution_count": 23,
   "metadata": {
    "ExecuteTime": {
     "end_time": "2020-12-03T16:57:05.456035Z",
     "start_time": "2020-12-03T16:57:05.278473Z"
    }
   },
   "outputs": [
    {
     "data": {
      "text/plain": [
       "Text(0.5, 1.0, 'Inadimplência por valor da fatura - extremos removidos')"
      ]
     },
     "execution_count": 23,
     "metadata": {},
     "output_type": "execute_result"
    },
    {
     "data": {
      "image/png": "[encoded data removed]",
      "text/plain": [
       "<Figure size 432x288 with 1 Axes>"
      ]
     },
     "metadata": {
      "needs_background": "light"
     },
     "output_type": "display_data"
    }
   ],
   "source": [
    "# Removendo os extremos ...\n",
    "sns.boxplot(x = 'inadimplente', \n",
    "            y = 'vl_fatura', \n",
    "            data = df[df['vl_fatura']<20000]).set_title('Inadimplência por valor da fatura - extremos removidos')"
   ]
  },
  {
   "cell_type": "markdown",
   "metadata": {
    "ExecuteTime": {
     "end_time": "2020-06-29T19:46:09.920802Z",
     "start_time": "2020-06-29T19:46:09.769799Z"
    }
   },
   "source": [
    "**Com base no que observamos, você removeria o valor da fatura entre candidatos para o novo scoring de inadimplência?**"
   ]
  },
  {
   "cell_type": "code",
   "execution_count": 24,
   "metadata": {
    "ExecuteTime": {
     "end_time": "2020-12-03T16:57:05.907791Z",
     "start_time": "2020-12-03T16:57:05.457995Z"
    }
   },
   "outputs": [
    {
     "data": {
      "text/plain": [
       "Text(0.5, 1.0, 'Inadimplência por valor da fatura - extremos removidos')"
      ]
     },
     "execution_count": 24,
     "metadata": {},
     "output_type": "execute_result"
    },
    {
     "data": {
      "image/png": "[encoded data removed]",
      "text/plain": [
       "<Figure size 432x288 with 1 Axes>"
      ]
     },
     "metadata": {
      "needs_background": "light"
     },
     "output_type": "display_data"
    }
   ],
   "source": [
    "# Será que existe alguma interação entre vl_fatura e outras variáveis?\n",
    "sns.boxplot(x = 'inadimplente', \n",
    "            y = 'vl_fatura', \n",
    "            hue = 'faixa_idade', \n",
    "            data = df[df['vl_fatura']<20000]).set_title('Inadimplência por valor da fatura - extremos removidos')"
   ]
  },
  {
   "cell_type": "code",
   "execution_count": 25,
   "metadata": {
    "ExecuteTime": {
     "end_time": "2020-12-03T16:57:06.364065Z",
     "start_time": "2020-12-03T16:57:05.909785Z"
    }
   },
   "outputs": [
    {
     "data": {
      "text/plain": [
       "Text(0.5, 1.0, 'Inadimplência por valor da fatura e faixa de idade')"
      ]
     },
     "execution_count": 25,
     "metadata": {},
     "output_type": "execute_result"
    },
    {
     "data": {
      "image/png": "[encoded data removed]",
      "text/plain": [
       "<Figure size 432x288 with 1 Axes>"
      ]
     },
     "metadata": {
      "needs_background": "light"
     },
     "output_type": "display_data"
    }
   ],
   "source": [
    "# Vamos facilitar nossa comparação, inventendo hue pelo eixo x\n",
    "sns.boxplot(x = 'faixa_idade', \n",
    "            y = 'vl_fatura', \n",
    "            hue = 'inadimplente', \n",
    "            data = df[df['vl_fatura']<20000]).set_title('Inadimplência por valor da fatura e faixa de idade')"
   ]
  },
  {
   "cell_type": "code",
   "execution_count": 26,
   "metadata": {
    "ExecuteTime": {
     "end_time": "2020-12-03T16:57:06.624406Z",
     "start_time": "2020-12-03T16:57:06.364065Z"
    }
   },
   "outputs": [
    {
     "data": {
      "text/plain": [
       "Text(0.5, 1.0, 'Inadimplência por valor da fatura e faixa de idade')"
      ]
     },
     "execution_count": 26,
     "metadata": {},
     "output_type": "execute_result"
    },
    {
     "data": {
      "image/png": "[encoded data removed]",
      "text/plain": [
       "<Figure size 432x288 with 1 Axes>"
      ]
     },
     "metadata": {
      "needs_background": "light"
     },
     "output_type": "display_data"
    }
   ],
   "source": [
    "# Também podemos avaliar a interação com os outros fatores categóricos\n",
    "\n",
    "# Sexo x Inadimplência X Valor da Fatura\n",
    "sns.boxplot(x = 'sexo', \n",
    "            y = 'vl_fatura', \n",
    "            hue = 'inadimplente', \n",
    "            data = df[df['vl_fatura']<20000]).set_title('Inadimplência por valor da fatura e faixa de idade')"
   ]
  },
  {
   "cell_type": "code",
   "execution_count": 27,
   "metadata": {
    "ExecuteTime": {
     "end_time": "2020-12-03T16:57:07.158820Z",
     "start_time": "2020-12-03T16:57:06.626366Z"
    }
   },
   "outputs": [
    {
     "data": {
      "text/plain": [
       "Text(0.5, 1.0, 'Inadimplência por valor da fatura e faixa de idade')"
      ]
     },
     "execution_count": 27,
     "metadata": {},
     "output_type": "execute_result"
    },
    {
     "data": {
      "image/png": "[encoded data removed]",
      "text/plain": [
       "<Figure size 432x288 with 1 Axes>"
      ]
     },
     "metadata": {
      "needs_background": "light"
     },
     "output_type": "display_data"
    }
   ],
   "source": [
    "# Educação x Inadimplência X Valor da Fatura\n",
    "sns.boxplot(x = 'educacao',\n",
    "            y = 'vl_fatura', \n",
    "            hue = 'inadimplente', \n",
    "            data = df[df['vl_fatura']<20000]).set_title('Inadimplência por valor da fatura e faixa de idade')"
   ]
  },
  {
   "cell_type": "code",
   "execution_count": 28,
   "metadata": {
    "ExecuteTime": {
     "end_time": "2020-12-03T16:57:07.519377Z",
     "start_time": "2020-12-03T16:57:07.160815Z"
    }
   },
   "outputs": [
    {
     "data": {
      "text/plain": [
       "Text(0.5, 1.0, 'Inadimplência por valor da fatura e faixa de idade')"
      ]
     },
     "execution_count": 28,
     "metadata": {},
     "output_type": "execute_result"
    },
    {
     "data": {
      "image/png": "[encoded data removed]",
      "text/plain": [
       "<Figure size 432x288 with 1 Axes>"
      ]
     },
     "metadata": {
      "needs_background": "light"
     },
     "output_type": "display_data"
    }
   ],
   "source": [
    "# Educação x Inadimplência X Valor da Fatura\n",
    "sns.boxplot(x = 'estado_civil', \n",
    "            y = 'vl_fatura', \n",
    "            hue = 'inadimplente', \n",
    "            data = df[df['vl_fatura']<20000]).set_title('Inadimplência por valor da fatura e faixa de idade')"
   ]
  },
  {
   "cell_type": "markdown",
   "metadata": {
    "ExecuteTime": {
     "end_time": "2020-06-29T20:14:16.719927Z",
     "start_time": "2020-06-29T20:14:16.702926Z"
    }
   },
   "source": [
    "## Que conclusão podemos tomar após essa comparação?\n",
    "\n",
    "R: Que algumas das variáveis visualizadas podem estar relacionadas a inadimplência.\n",
    "\n",
    "Próximos passos:\n",
    "    * Refinar a análise exploratória\n",
    "    * Definir hipóteses\n",
    "    * Avaliar com estatística inferencial essas comparações, e aprimorar o modelo inicial\n",
    "    * Criar um modelo com machine learning"
   ]
  },
  {
   "cell_type": "code",
   "execution_count": 29,
   "metadata": {
    "ExecuteTime": {
     "end_time": "2020-12-03T16:57:07.527296Z",
     "start_time": "2020-12-03T16:57:07.522305Z"
    }
   },
   "outputs": [],
   "source": [
    "import numpy as np"
   ]
  },
  {
   "cell_type": "code",
   "execution_count": 30,
   "metadata": {
    "ExecuteTime": {
     "end_time": "2020-12-03T16:57:07.537266Z",
     "start_time": "2020-12-03T16:57:07.529286Z"
    }
   },
   "outputs": [
    {
     "data": {
      "text/plain": [
       "8.59"
      ]
     },
     "execution_count": 30,
     "metadata": {},
     "output_type": "execute_result"
    }
   ],
   "source": [
    "np.mean([0,8.7,8.7,9.0,9.5,10,10,10,10,10])"
   ]
  },
  {
   "cell_type": "code",
   "execution_count": 31,
   "metadata": {
    "ExecuteTime": {
     "end_time": "2020-12-03T16:57:07.548269Z",
     "start_time": "2020-12-03T16:57:07.540257Z"
    }
   },
   "outputs": [
    {
     "data": {
      "text/plain": [
       "9.75"
      ]
     },
     "execution_count": 31,
     "metadata": {},
     "output_type": "execute_result"
    }
   ],
   "source": [
    "np.median([0,8.7,8.7,9.0,9.5,10,10,10,10,10])"
   ]
  },
  {
   "cell_type": "code",
   "execution_count": 32,
   "metadata": {
    "ExecuteTime": {
     "end_time": "2020-12-03T16:57:07.776645Z",
     "start_time": "2020-12-03T16:57:07.551228Z"
    }
   },
   "outputs": [
    {
     "data": {
      "text/plain": [
       "Text(0.5, 1.0, 'Distribuição Notas na prova final do CFC')"
      ]
     },
     "execution_count": 32,
     "metadata": {},
     "output_type": "execute_result"
    },
    {
     "data": {
      "image/png": "[encoded data removed]",
      "text/plain": [
       "<Figure size 432x288 with 1 Axes>"
      ]
     },
     "metadata": {
      "needs_background": "light"
     },
     "output_type": "display_data"
    }
   ],
   "source": [
    "import seaborn as sns\n",
    "import matplotlib.pyplot as plt\n",
    "\n",
    "notas_finais_cfc = [0,8.7,8.7,9.0,9.5,10,10,10,10,10]\n",
    "sns.distplot(notas_finais_cfc, color = 'skyblue', \n",
    "             label = 'nota_final_CFC', bins = 20).set_title('Distribuição Notas na prova final do CFC')"
   ]
  },
  {
   "cell_type": "code",
   "execution_count": 33,
   "metadata": {
    "ExecuteTime": {
     "end_time": "2020-12-03T16:57:07.786587Z",
     "start_time": "2020-12-03T16:57:07.778606Z"
    }
   },
   "outputs": [
    {
     "data": {
      "text/plain": [
       "8.59"
      ]
     },
     "execution_count": 33,
     "metadata": {},
     "output_type": "execute_result"
    }
   ],
   "source": [
    "np.mean([0,8.7,8.7,9.0,9.5,10,10,10,10,10])"
   ]
  },
  {
   "cell_type": "code",
   "execution_count": 34,
   "metadata": {
    "ExecuteTime": {
     "end_time": "2020-12-03T16:57:07.798593Z",
     "start_time": "2020-12-03T16:57:07.791572Z"
    }
   },
   "outputs": [
    {
     "data": {
      "text/plain": [
       "9.75"
      ]
     },
     "execution_count": 34,
     "metadata": {},
     "output_type": "execute_result"
    }
   ],
   "source": [
    "np.median([0,8.7,8.7,9.0,9.5,10,10,10,10,10])"
   ]
  },
  {
   "cell_type": "code",
   "execution_count": 35,
   "metadata": {
    "ExecuteTime": {
     "end_time": "2020-12-03T16:57:09.608381Z",
     "start_time": "2020-12-03T16:57:07.802545Z"
    }
   },
   "outputs": [
    {
     "data": {
      "text/html": [
       "<div>\n",
       "<style scoped>\n",
       "    .dataframe tbody tr th:only-of-type {\n",
       "        vertical-align: middle;\n",
       "    }\n",
       "\n",
       "    .dataframe tbody tr th {\n",
       "        vertical-align: top;\n",
       "    }\n",
       "\n",
       "    .dataframe thead th {\n",
       "        text-align: right;\n",
       "    }\n",
       "</style>\n",
       "<table border=\"1\" class=\"dataframe\">\n",
       "  <thead>\n",
       "    <tr style=\"text-align: right;\">\n",
       "      <th></th>\n",
       "      <th>id_patient</th>\n",
       "      <th>age_years</th>\n",
       "      <th>sex</th>\n",
       "      <th>number_of_children</th>\n",
       "      <th>flag_married</th>\n",
       "      <th>bmi_kg_m2</th>\n",
       "      <th>height_cm</th>\n",
       "      <th>weight_kg</th>\n",
       "      <th>hdl_mg_dl</th>\n",
       "      <th>ldl_mg_dl</th>\n",
       "      <th>...</th>\n",
       "      <th>index_systolic_blood_pressure</th>\n",
       "      <th>index_diastolic_blood_pressure</th>\n",
       "      <th>index_blood_pressure</th>\n",
       "      <th>sum_index_disease</th>\n",
       "      <th>avg_index_disease</th>\n",
       "      <th>target_index_disease</th>\n",
       "      <th>clients</th>\n",
       "      <th>unidade</th>\n",
       "      <th>mfc</th>\n",
       "      <th>new_score</th>\n",
       "    </tr>\n",
       "  </thead>\n",
       "  <tbody>\n",
       "    <tr>\n",
       "      <th>0</th>\n",
       "      <td>1</td>\n",
       "      <td>23.600347</td>\n",
       "      <td>1</td>\n",
       "      <td>0</td>\n",
       "      <td>0</td>\n",
       "      <td>23.765629</td>\n",
       "      <td>151.049106</td>\n",
       "      <td>54.223261</td>\n",
       "      <td>67.119601</td>\n",
       "      <td>94.935636</td>\n",
       "      <td>...</td>\n",
       "      <td>1</td>\n",
       "      <td>2</td>\n",
       "      <td>3</td>\n",
       "      <td>18</td>\n",
       "      <td>1.636364</td>\n",
       "      <td>0</td>\n",
       "      <td>client04</td>\n",
       "      <td>un06</td>\n",
       "      <td>mfc21</td>\n",
       "      <td>0.000006</td>\n",
       "    </tr>\n",
       "    <tr>\n",
       "      <th>1</th>\n",
       "      <td>2</td>\n",
       "      <td>28.180492</td>\n",
       "      <td>1</td>\n",
       "      <td>0</td>\n",
       "      <td>0</td>\n",
       "      <td>22.891895</td>\n",
       "      <td>161.449691</td>\n",
       "      <td>59.670019</td>\n",
       "      <td>69.234692</td>\n",
       "      <td>95.230407</td>\n",
       "      <td>...</td>\n",
       "      <td>1</td>\n",
       "      <td>2</td>\n",
       "      <td>3</td>\n",
       "      <td>18</td>\n",
       "      <td>1.636364</td>\n",
       "      <td>0</td>\n",
       "      <td>client04</td>\n",
       "      <td>un12</td>\n",
       "      <td>mfc39</td>\n",
       "      <td>0.000006</td>\n",
       "    </tr>\n",
       "    <tr>\n",
       "      <th>2</th>\n",
       "      <td>3</td>\n",
       "      <td>24.916474</td>\n",
       "      <td>1</td>\n",
       "      <td>0</td>\n",
       "      <td>0</td>\n",
       "      <td>25.687941</td>\n",
       "      <td>156.140406</td>\n",
       "      <td>62.626754</td>\n",
       "      <td>60.938429</td>\n",
       "      <td>99.944524</td>\n",
       "      <td>...</td>\n",
       "      <td>1</td>\n",
       "      <td>2</td>\n",
       "      <td>3</td>\n",
       "      <td>20</td>\n",
       "      <td>1.818182</td>\n",
       "      <td>0</td>\n",
       "      <td>client04</td>\n",
       "      <td>un09</td>\n",
       "      <td>mfc27</td>\n",
       "      <td>0.037970</td>\n",
       "    </tr>\n",
       "    <tr>\n",
       "      <th>3</th>\n",
       "      <td>4</td>\n",
       "      <td>28.489040</td>\n",
       "      <td>1</td>\n",
       "      <td>0</td>\n",
       "      <td>0</td>\n",
       "      <td>22.802512</td>\n",
       "      <td>163.527442</td>\n",
       "      <td>60.976709</td>\n",
       "      <td>62.430110</td>\n",
       "      <td>94.763726</td>\n",
       "      <td>...</td>\n",
       "      <td>1</td>\n",
       "      <td>2</td>\n",
       "      <td>3</td>\n",
       "      <td>19</td>\n",
       "      <td>1.727273</td>\n",
       "      <td>0</td>\n",
       "      <td>client05</td>\n",
       "      <td>un15</td>\n",
       "      <td>mfc51</td>\n",
       "      <td>0.000040</td>\n",
       "    </tr>\n",
       "    <tr>\n",
       "      <th>4</th>\n",
       "      <td>5</td>\n",
       "      <td>23.580738</td>\n",
       "      <td>1</td>\n",
       "      <td>0</td>\n",
       "      <td>0</td>\n",
       "      <td>23.347263</td>\n",
       "      <td>162.206615</td>\n",
       "      <td>61.428950</td>\n",
       "      <td>64.926035</td>\n",
       "      <td>85.078514</td>\n",
       "      <td>...</td>\n",
       "      <td>1</td>\n",
       "      <td>1</td>\n",
       "      <td>1</td>\n",
       "      <td>16</td>\n",
       "      <td>1.454545</td>\n",
       "      <td>0</td>\n",
       "      <td>client06</td>\n",
       "      <td>un02</td>\n",
       "      <td>mfc59</td>\n",
       "      <td>0.000009</td>\n",
       "    </tr>\n",
       "  </tbody>\n",
       "</table>\n",
       "<p>5 rows × 46 columns</p>\n",
       "</div>"
      ],
      "text/plain": [
       "   id_patient  age_years  sex  number_of_children  flag_married  bmi_kg_m2  \\\n",
       "0           1  23.600347    1                   0             0  23.765629   \n",
       "1           2  28.180492    1                   0             0  22.891895   \n",
       "2           3  24.916474    1                   0             0  25.687941   \n",
       "3           4  28.489040    1                   0             0  22.802512   \n",
       "4           5  23.580738    1                   0             0  23.347263   \n",
       "\n",
       "    height_cm  weight_kg  hdl_mg_dl  ldl_mg_dl  ...  \\\n",
       "0  151.049106  54.223261  67.119601  94.935636  ...   \n",
       "1  161.449691  59.670019  69.234692  95.230407  ...   \n",
       "2  156.140406  62.626754  60.938429  99.944524  ...   \n",
       "3  163.527442  60.976709  62.430110  94.763726  ...   \n",
       "4  162.206615  61.428950  64.926035  85.078514  ...   \n",
       "\n",
       "   index_systolic_blood_pressure  index_diastolic_blood_pressure  \\\n",
       "0                              1                               2   \n",
       "1                              1                               2   \n",
       "2                              1                               2   \n",
       "3                              1                               2   \n",
       "4                              1                               1   \n",
       "\n",
       "   index_blood_pressure  sum_index_disease  avg_index_disease  \\\n",
       "0                     3                 18           1.636364   \n",
       "1                     3                 18           1.636364   \n",
       "2                     3                 20           1.818182   \n",
       "3                     3                 19           1.727273   \n",
       "4                     1                 16           1.454545   \n",
       "\n",
       "   target_index_disease   clients  unidade    mfc  new_score  \n",
       "0                     0  client04     un06  mfc21   0.000006  \n",
       "1                     0  client04     un12  mfc39   0.000006  \n",
       "2                     0  client04     un09  mfc27   0.037970  \n",
       "3                     0  client05     un15  mfc51   0.000040  \n",
       "4                     0  client06     un02  mfc59   0.000009  \n",
       "\n",
       "[5 rows x 46 columns]"
      ]
     },
     "execution_count": 35,
     "metadata": {},
     "output_type": "execute_result"
    }
   ],
   "source": [
    "df2 = pd.read_csv('carteira_medicina_familia_sintetica.csv',encoding='ISO-8859-1',delimiter=';',low_memory = False)\n",
    "df2.head()"
   ]
  },
  {
   "cell_type": "code",
   "execution_count": 36,
   "metadata": {
    "ExecuteTime": {
     "end_time": "2020-12-03T16:57:09.907846Z",
     "start_time": "2020-12-03T16:57:09.610345Z"
    }
   },
   "outputs": [
    {
     "data": {
      "text/plain": [
       "Text(0.5, 1.0, 'Distribuição de Altura na Carteira de Medicina Familiar')"
      ]
     },
     "execution_count": 36,
     "metadata": {},
     "output_type": "execute_result"
    },
    {
     "data": {
      "image/png": "[encoded data removed]",
      "text/plain": [
       "<Figure size 432x288 with 1 Axes>"
      ]
     },
     "metadata": {
      "needs_background": "light"
     },
     "output_type": "display_data"
    }
   ],
   "source": [
    "sns.distplot(df2['height_cm'] , color = 'darkblue', \n",
    "             label = 'var_continua_1', \n",
    "             bins=10, hist=True).set_title('Distribuição de Altura na Carteira de Medicina Familiar')"
   ]
  },
  {
   "cell_type": "markdown",
   "metadata": {},
   "source": [
    "## Variância\n",
    "\n",
    "A variância, comumente designada pela letra grega sigma ao quadrado $\\sigma^2$ ou pela letra $S$ ou simplesmente $\\text{ var}(x)$ sendo x uma variável aleatória, é uma medida de dispersão estatística, ou seja avalia como os dados em uma dada amostra populacional está espalhada. A fórmula matemática para o cálculo da variância é dada pela equação a seguir\n",
    "\n",
    "\\begin{equation}\n",
    "\\sigma^2 = \\frac{1}{n-1}\\sum_{i = 1}^{}(x_i − \\bar{x})^2,\n",
    "\\end{equation}\n",
    "\n",
    "sendo $\\bar{x} = \\frac{1}{n}\\sum_i x_i$ a média da amostra.\n",
    "\n",
    "### Exemplo 1"
   ]
  },
  {
   "cell_type": "code",
   "execution_count": 37,
   "metadata": {
    "ExecuteTime": {
     "end_time": "2020-12-03T16:57:09.917785Z",
     "start_time": "2020-12-03T16:57:09.910804Z"
    }
   },
   "outputs": [
    {
     "name": "stdout",
     "output_type": "stream",
     "text": [
      "Media:  8.76\n"
     ]
    }
   ],
   "source": [
    "x = [8, 1.8, 4.5, 4.5, 25]\n",
    "\n",
    "x_media = np.mean(x)\n",
    "print('Media: ', x_media)"
   ]
  },
  {
   "cell_type": "code",
   "execution_count": 38,
   "metadata": {
    "ExecuteTime": {
     "end_time": "2020-12-03T16:57:09.927759Z",
     "start_time": "2020-12-03T16:57:09.921776Z"
    }
   },
   "outputs": [
    {
     "name": "stdout",
     "output_type": "stream",
     "text": [
      "Somatoria:  349.052\n"
     ]
    }
   ],
   "source": [
    "x_soma = (8 - x_media)**2 + (1.8 - x_media)**2 + (4.5 - x_media)**2 + (4.5 - x_media)**2 + (25 - x_media)**2\n",
    "print('Somatoria: ', x_soma)"
   ]
  },
  {
   "cell_type": "code",
   "execution_count": 39,
   "metadata": {
    "ExecuteTime": {
     "end_time": "2020-12-03T16:57:09.950722Z",
     "start_time": "2020-12-03T16:57:09.929753Z"
    }
   },
   "outputs": [
    {
     "name": "stdout",
     "output_type": "stream",
     "text": [
      "0.0\n"
     ]
    }
   ],
   "source": [
    "# Modo incorreto:\n",
    "print((8 - x_media) + (1.8 - x_media) + (4.5 - x_media) + (4.5 - x_media) + (25 - x_media))\n",
    "# "
   ]
  },
  {
   "cell_type": "code",
   "execution_count": 40,
   "metadata": {
    "ExecuteTime": {
     "end_time": "2020-12-03T16:57:09.962367Z",
     "start_time": "2020-12-03T16:57:09.950722Z"
    }
   },
   "outputs": [
    {
     "data": {
      "text/plain": [
       "0.25"
      ]
     },
     "execution_count": 40,
     "metadata": {},
     "output_type": "execute_result"
    }
   ],
   "source": [
    "1 / (5 - 1)"
   ]
  },
  {
   "cell_type": "code",
   "execution_count": 41,
   "metadata": {
    "ExecuteTime": {
     "end_time": "2020-12-03T16:57:09.976939Z",
     "start_time": "2020-12-03T16:57:09.966322Z"
    }
   },
   "outputs": [
    {
     "data": {
      "text/plain": [
       "87.263"
      ]
     },
     "execution_count": 41,
     "metadata": {},
     "output_type": "execute_result"
    }
   ],
   "source": [
    "# Variância: \n",
    "0.25 * 349.052"
   ]
  },
  {
   "cell_type": "code",
   "execution_count": 42,
   "metadata": {
    "ExecuteTime": {
     "end_time": "2020-12-03T16:57:09.992882Z",
     "start_time": "2020-12-03T16:57:09.979883Z"
    }
   },
   "outputs": [
    {
     "name": "stdout",
     "output_type": "stream",
     "text": [
      "Media 8.76\n"
     ]
    },
    {
     "data": {
      "text/plain": [
       "87.263"
      ]
     },
     "execution_count": 42,
     "metadata": {},
     "output_type": "execute_result"
    }
   ],
   "source": [
    "x = [8, 1.8, 4.5, 4.5, 25]\n",
    "\n",
    "media_x = np.mean(x)\n",
    "\n",
    "print('Media', media_x)\n",
    "\n",
    "# Parte inicial da equação da variância\n",
    "val_1 = 1/(5-1)\n",
    "\n",
    "# Parte final da equação da variância\n",
    "val_2 = (8- media_x)**2 + (1.8 - media_x)**2 + (4.5 - media_x)**2 + (4.5 - media_x)**2 + (25 - media_x)**2\n",
    "\n",
    "# Modo errado, sem elevar ao quadrado\n",
    "#val_2 = (8- media_x) + (1.8 - media_x) + (4.5 - media_x) + (4.5 - media_x) + (25 - media_x)\n",
    "          \n",
    "\n",
    "# Variância\n",
    "val_1 * val_2"
   ]
  },
  {
   "cell_type": "code",
   "execution_count": 43,
   "metadata": {
    "ExecuteTime": {
     "end_time": "2020-12-03T16:57:10.025796Z",
     "start_time": "2020-12-03T16:57:09.994842Z"
    }
   },
   "outputs": [
    {
     "name": "stdout",
     "output_type": "stream",
     "text": [
      "87.263\n"
     ]
    }
   ],
   "source": [
    "x = [8, 1.8, 4.5, 4.5, 25]\n",
    "\n",
    "n = len(x)\n",
    "mean_ = sum(x) / n\n",
    "var_ = sum((item - mean_)**2 for item in x) / (n - 1)\n",
    "print(var_)"
   ]
  },
  {
   "cell_type": "code",
   "execution_count": 44,
   "metadata": {
    "ExecuteTime": {
     "end_time": "2020-12-03T16:57:10.061665Z",
     "start_time": "2020-12-03T16:57:10.049696Z"
    }
   },
   "outputs": [
    {
     "data": {
      "text/plain": [
       "87.263"
      ]
     },
     "execution_count": 44,
     "metadata": {},
     "output_type": "execute_result"
    }
   ],
   "source": [
    "import statistics\n",
    "statistics.variance(x)"
   ]
  },
  {
   "cell_type": "code",
   "execution_count": 45,
   "metadata": {
    "ExecuteTime": {
     "end_time": "2020-12-03T16:57:10.076660Z",
     "start_time": "2020-12-03T16:57:10.064658Z"
    }
   },
   "outputs": [
    {
     "data": {
      "text/plain": [
       "87.263"
      ]
     },
     "execution_count": 45,
     "metadata": {},
     "output_type": "execute_result"
    }
   ],
   "source": [
    "# Método do Raphael\n",
    "def variancia(i):\n",
    "    media = np.mean(i)\n",
    "    soma = 0\n",
    "    for x in i:\n",
    "        soma += (x - media)**2\n",
    "    return soma / (len(i)-1)\n",
    "\n",
    "\n",
    "variancia(i = [8, 1.8, 4.5, 4.5, 25])"
   ]
  },
  {
   "cell_type": "markdown",
   "metadata": {},
   "source": [
    "### Exemplo 2\n",
    "\n",
    "Calculando a variância da altura da amostra Distribuição de Altura na Carteira de Medicina Familiar"
   ]
  },
  {
   "cell_type": "code",
   "execution_count": 46,
   "metadata": {
    "ExecuteTime": {
     "end_time": "2020-12-03T16:57:10.090623Z",
     "start_time": "2020-12-03T16:57:10.079615Z"
    }
   },
   "outputs": [
    {
     "data": {
      "text/plain": [
       "30.332794173289436"
      ]
     },
     "execution_count": 46,
     "metadata": {},
     "output_type": "execute_result"
    }
   ],
   "source": [
    "df2['height_cm'].var()"
   ]
  },
  {
   "cell_type": "code",
   "execution_count": 47,
   "metadata": {
    "ExecuteTime": {
     "end_time": "2020-12-03T16:57:10.101557Z",
     "start_time": "2020-12-03T16:57:10.093579Z"
    }
   },
   "outputs": [
    {
     "data": {
      "text/plain": [
       "0     151.049106\n",
       "1     161.449691\n",
       "2     156.140406\n",
       "3     163.527442\n",
       "4     162.206615\n",
       "5     158.539932\n",
       "6     159.664250\n",
       "7     161.319338\n",
       "8     157.023768\n",
       "9     162.745233\n",
       "10    161.192918\n",
       "11    164.688890\n",
       "12    160.282837\n",
       "13    160.427520\n",
       "14    156.625667\n",
       "15    159.050400\n",
       "16    163.166785\n",
       "17    164.668160\n",
       "18    155.142977\n",
       "19    160.278368\n",
       "Name: height_cm, dtype: float64"
      ]
     },
     "execution_count": 47,
     "metadata": {},
     "output_type": "execute_result"
    }
   ],
   "source": [
    "df2['height_cm'][:20]"
   ]
  },
  {
   "cell_type": "code",
   "execution_count": 48,
   "metadata": {
    "ExecuteTime": {
     "end_time": "2020-12-03T16:57:10.112528Z",
     "start_time": "2020-12-03T16:57:10.106545Z"
    }
   },
   "outputs": [
    {
     "data": {
      "text/plain": [
       "166.30274172077557"
      ]
     },
     "execution_count": 48,
     "metadata": {},
     "output_type": "execute_result"
    }
   ],
   "source": [
    "df2['height_cm'].mean()"
   ]
  },
  {
   "cell_type": "code",
   "execution_count": 49,
   "metadata": {
    "ExecuteTime": {
     "end_time": "2020-12-03T16:57:10.122502Z",
     "start_time": "2020-12-03T16:57:10.115520Z"
    }
   },
   "outputs": [
    {
     "data": {
      "text/plain": [
       "160.5"
      ]
     },
     "execution_count": 49,
     "metadata": {},
     "output_type": "execute_result"
    }
   ],
   "source": [
    "# Limite Inferior\n",
    "166 - 5.5"
   ]
  },
  {
   "cell_type": "code",
   "execution_count": 50,
   "metadata": {
    "ExecuteTime": {
     "end_time": "2020-12-03T16:57:10.131477Z",
     "start_time": "2020-12-03T16:57:10.124497Z"
    }
   },
   "outputs": [
    {
     "data": {
      "text/plain": [
       "171.5"
      ]
     },
     "execution_count": 50,
     "metadata": {},
     "output_type": "execute_result"
    }
   ],
   "source": [
    "# Limite Superior\n",
    "166 + 5.5"
   ]
  },
  {
   "cell_type": "code",
   "execution_count": 51,
   "metadata": {
    "ExecuteTime": {
     "end_time": "2020-12-03T16:57:10.142448Z",
     "start_time": "2020-12-03T16:57:10.134470Z"
    }
   },
   "outputs": [
    {
     "data": {
      "text/plain": [
       "0    151.049106\n",
       "1    161.449691\n",
       "2    156.140406\n",
       "3    163.527442\n",
       "4    162.206615\n",
       "5    158.539932\n",
       "6    159.664250\n",
       "7    161.319338\n",
       "8    157.023768\n",
       "9    162.745233\n",
       "Name: height_cm, dtype: float64"
      ]
     },
     "execution_count": 51,
     "metadata": {},
     "output_type": "execute_result"
    }
   ],
   "source": [
    "[160.5, 171.5]\n",
    "\n",
    "df2['height_cm'][:10]"
   ]
  },
  {
   "cell_type": "code",
   "execution_count": 52,
   "metadata": {
    "ExecuteTime": {
     "end_time": "2020-12-03T16:57:10.152421Z",
     "start_time": "2020-12-03T16:57:10.144442Z"
    }
   },
   "outputs": [
    {
     "data": {
      "text/plain": [
       "150    161.141250\n",
       "151    164.232163\n",
       "152    157.269379\n",
       "153    163.098530\n",
       "154    158.618594\n",
       "155    168.260732\n",
       "156    163.602296\n",
       "157    160.027963\n",
       "158    161.151716\n",
       "159    167.764784\n",
       "Name: height_cm, dtype: float64"
      ]
     },
     "execution_count": 52,
     "metadata": {},
     "output_type": "execute_result"
    }
   ],
   "source": [
    "df2['height_cm'][150:160]"
   ]
  },
  {
   "cell_type": "markdown",
   "metadata": {},
   "source": [
    "## Desvio Padrão\n",
    "\n",
    "O desvio padrão da amostra está relacionado diretamente a variância. Ele é calculado pela raiz quadrada da variância. É uma medida muito mais útil que a variância por está na mesma unidade que os dados, facilitando sua interpretação.\n",
    "\n",
    "\\begin{equation}\n",
    "\\sigma = \\sqrt{\\frac{1}{n-1}\\sum_{i=1}^{n}(x_i - \\bar{x})^2}.\n",
    "\\end{equation}\n",
    "\n",
    "### Exemplo 1"
   ]
  },
  {
   "cell_type": "code",
   "execution_count": 53,
   "metadata": {
    "ExecuteTime": {
     "end_time": "2020-12-03T16:57:10.161397Z",
     "start_time": "2020-12-03T16:57:10.155413Z"
    }
   },
   "outputs": [
    {
     "data": {
      "text/plain": [
       "5.5072679252057455"
      ]
     },
     "execution_count": 53,
     "metadata": {},
     "output_type": "execute_result"
    }
   ],
   "source": [
    "np.sqrt(30.33)"
   ]
  },
  {
   "cell_type": "code",
   "execution_count": 54,
   "metadata": {
    "ExecuteTime": {
     "end_time": "2020-12-03T16:57:10.190321Z",
     "start_time": "2020-12-03T16:57:10.164390Z"
    }
   },
   "outputs": [
    {
     "name": "stdout",
     "output_type": "stream",
     "text": [
      "9.341466694261667\n"
     ]
    }
   ],
   "source": [
    "x = [8, 1.8, 4.5, 4.5, 25]\n",
    "\n",
    "n = len(x)\n",
    "mean_ = sum(x) / n\n",
    "var_ = sum((item - mean_)**2 for item in x) / (n - 1)\n",
    "\n",
    "sd = var_ ** 0.5\n",
    "\n",
    "# ou\n",
    "\n",
    "sd = np.sqrt(var_)\n",
    "\n",
    "print(sd)"
   ]
  },
  {
   "cell_type": "code",
   "execution_count": 55,
   "metadata": {
    "ExecuteTime": {
     "end_time": "2020-12-03T16:57:10.199297Z",
     "start_time": "2020-12-03T16:57:10.193313Z"
    }
   },
   "outputs": [
    {
     "data": {
      "text/plain": [
       "9.341466694261667"
      ]
     },
     "execution_count": 55,
     "metadata": {},
     "output_type": "execute_result"
    }
   ],
   "source": [
    "statistics.variance(x) ** .5"
   ]
  },
  {
   "cell_type": "code",
   "execution_count": 56,
   "metadata": {
    "ExecuteTime": {
     "end_time": "2020-12-03T16:57:10.209269Z",
     "start_time": "2020-12-03T16:57:10.203289Z"
    }
   },
   "outputs": [
    {
     "data": {
      "text/plain": [
       "9.341466694261667"
      ]
     },
     "execution_count": 56,
     "metadata": {},
     "output_type": "execute_result"
    }
   ],
   "source": [
    "statistics.stdev(x)"
   ]
  },
  {
   "cell_type": "markdown",
   "metadata": {},
   "source": [
    "### Exemplo 2\n",
    "\n",
    "Calculando a variância da altura da amostra Distribuição de Altura na Carteira de Medicina Familiar"
   ]
  },
  {
   "cell_type": "code",
   "execution_count": 57,
   "metadata": {
    "ExecuteTime": {
     "end_time": "2020-12-03T16:57:10.219242Z",
     "start_time": "2020-12-03T16:57:10.211263Z"
    }
   },
   "outputs": [
    {
     "data": {
      "text/plain": [
       "5.507521599893135"
      ]
     },
     "execution_count": 57,
     "metadata": {},
     "output_type": "execute_result"
    }
   ],
   "source": [
    "df2['height_cm'].std()"
   ]
  },
  {
   "cell_type": "code",
   "execution_count": 58,
   "metadata": {
    "ExecuteTime": {
     "end_time": "2020-12-03T16:57:10.229216Z",
     "start_time": "2020-12-03T16:57:10.221238Z"
    }
   },
   "outputs": [
    {
     "data": {
      "text/plain": [
       "166.30274172077557"
      ]
     },
     "execution_count": 58,
     "metadata": {},
     "output_type": "execute_result"
    }
   ],
   "source": [
    "df2['height_cm'].mean()"
   ]
  },
  {
   "cell_type": "code",
   "execution_count": 59,
   "metadata": {
    "ExecuteTime": {
     "end_time": "2020-12-03T16:57:10.237194Z",
     "start_time": "2020-12-03T16:57:10.232210Z"
    }
   },
   "outputs": [
    {
     "data": {
      "text/plain": [
       "160.5"
      ]
     },
     "execution_count": 59,
     "metadata": {},
     "output_type": "execute_result"
    }
   ],
   "source": [
    "# Limite Inferior\n",
    "166-5.5"
   ]
  },
  {
   "cell_type": "code",
   "execution_count": 60,
   "metadata": {
    "ExecuteTime": {
     "end_time": "2020-12-03T16:57:10.245173Z",
     "start_time": "2020-12-03T16:57:10.239189Z"
    }
   },
   "outputs": [
    {
     "data": {
      "text/plain": [
       "171.5"
      ]
     },
     "execution_count": 60,
     "metadata": {},
     "output_type": "execute_result"
    }
   ],
   "source": [
    "# Limite Superior\n",
    "166+5.5"
   ]
  },
  {
   "cell_type": "markdown",
   "metadata": {},
   "source": [
    "# Caso 2: Paradoxo de Simpson\n",
    "\n",
    "Nesta análise de caso vamos abordar um tema interessante e complexo, o Paradoxo de Simpson. Este paradoxo é um fenômeno probabilístico e estatístico no qual é possível chegar a conclusões antagônicas a partir de um mesmo dataset, dependendo do nível de agrupamento no qual se está realizando as análises. Este tema é muito importante para cientistas de dados e analistas de dados e de negócios, pois trata do assunto de causalidade em análises. Este tipo de paradoxo é resolvido quando abrimos nossas análises em maior granularidade. \n",
    "\n",
    "## O caso Berkeley\n",
    "\n",
    "Um exemplo icônico do paradoxo de Simpson é o caso da Universidade Berkeley da Califórnia que foi processada na década de 1970 sob a acusação de sexismo nos programas de doutorado de seus institutos, privilegiando homens em detrimento de mulheres. Tudo isto começou com a divulgação do número de aplicantes, dividido por sexo, e o percentual de admitidos para cada um dos sexos. O percentual de homens admitidos era mquase 10 pontos percentuais maior que o de mulheres, como mostra a tabela abaixo, contendo os números reais do processo.\n",
    "\n",
    "|           |     Men    |          |    Women   |          |\n",
    "|:---------:|:----------:|:--------:|:----------:|:--------:|\n",
    "|           | Applicants | Admitted | Applicants | Admitted |\n",
    "|   Total   |    8.442   |    44%   |    4.321   |    35%   |\n",
    "\n",
    "Eventualmente a universidade de Berkeley foi absolvida da acusação de sexismo após apresentar os mesmos resultados de forma mais granular e provando que ao contrário do que se imaginava eram as mulheres que eram privilegiadas percentualmente quando a análise era observada por departamentos da universidade, como mostra a tabela abaixo, contendo dados reais do caso Berkeley.\n",
    "\n",
    "|            |     Men    |          |    Women   |          |\n",
    "|:----------:|:----------:|:--------:|:----------:|:--------:|\n",
    "| Department | Applicants | Admitted | Applicants | Admitted |\n",
    "|      B     |     560    |    63%   |      25    |    68%   |\n",
    "|      C     |     325    |    37%   |     593    |    34%   |\n",
    "|      D     |     417    |    33%   |     375    |    35%   |\n",
    "|      E     |     191    |    28%   |     393    |    24%   |\n",
    "|      F     |     373    |     6%   |     341    |     7%   |\n",
    "\n",
    "**Referências sobre o caso Berkeley**\n",
    "* David Freedman, Robert Pisani, and Roger Purves (2007), Statistics (4th edition), W. W. Norton. ISBN 0-393-92972-8.\n",
    "* P.J. Bickel, E.A. Hammel and J.W. O'Connell (1975). \"Sex Bias in Graduate Admissions: Data From Berkeley\" (PDF). Science. 187 (4175): 398–404. doi:10.1126/science.187.4175.398. PMID 17835295.\n",
    "* http://jse.amstat.org/v22n1/mickel.pdf\n",
    "* https://pubmed.ncbi.nlm.nih.gov/29484824/\n",
    "\n",
    "**Observações**\n",
    "* Tabelas retiradas de: https://en.wikipedia.org/wiki/Simpson%27s_paradox\n",
    "* Site interessante para criar tabelas em difrentes editores de texto: https://www.tablesgenerator.com/markdown_tables\n",
    "\n",
    "\n",
    "\n",
    "## Conhecendo o dataset\n",
    "\n",
    "Vamos começar lendo o dataset sobre o paradoxo de Simpson e fazendo algumas verificações básicas sobre o dataset, como por exemplo verificar quais features fazem parte dos nossos dados, além das informações dos tipos de variáveis e o tamanho do dataset. Para realizar estas análises vamos utilizar funções básicas da biblioteca Pandas."
   ]
  },
  {
   "cell_type": "code",
   "execution_count": 61,
   "metadata": {
    "ExecuteTime": {
     "end_time": "2020-12-03T16:57:10.270108Z",
     "start_time": "2020-12-03T16:57:10.248165Z"
    }
   },
   "outputs": [
    {
     "data": {
      "text/html": [
       "<div>\n",
       "<style scoped>\n",
       "    .dataframe tbody tr th:only-of-type {\n",
       "        vertical-align: middle;\n",
       "    }\n",
       "\n",
       "    .dataframe tbody tr th {\n",
       "        vertical-align: top;\n",
       "    }\n",
       "\n",
       "    .dataframe thead th {\n",
       "        text-align: right;\n",
       "    }\n",
       "</style>\n",
       "<table border=\"1\" class=\"dataframe\">\n",
       "  <thead>\n",
       "    <tr style=\"text-align: right;\">\n",
       "      <th></th>\n",
       "      <th>idade</th>\n",
       "      <th>flag_aceito</th>\n",
       "      <th>sexo</th>\n",
       "      <th>departamento</th>\n",
       "    </tr>\n",
       "  </thead>\n",
       "  <tbody>\n",
       "    <tr>\n",
       "      <th>0</th>\n",
       "      <td>37.798818</td>\n",
       "      <td>0</td>\n",
       "      <td>M</td>\n",
       "      <td>A</td>\n",
       "    </tr>\n",
       "    <tr>\n",
       "      <th>1</th>\n",
       "      <td>42.188624</td>\n",
       "      <td>0</td>\n",
       "      <td>M</td>\n",
       "      <td>A</td>\n",
       "    </tr>\n",
       "    <tr>\n",
       "      <th>2</th>\n",
       "      <td>39.703209</td>\n",
       "      <td>0</td>\n",
       "      <td>M</td>\n",
       "      <td>A</td>\n",
       "    </tr>\n",
       "    <tr>\n",
       "      <th>3</th>\n",
       "      <td>32.216175</td>\n",
       "      <td>0</td>\n",
       "      <td>M</td>\n",
       "      <td>A</td>\n",
       "    </tr>\n",
       "    <tr>\n",
       "      <th>4</th>\n",
       "      <td>42.772410</td>\n",
       "      <td>0</td>\n",
       "      <td>M</td>\n",
       "      <td>A</td>\n",
       "    </tr>\n",
       "  </tbody>\n",
       "</table>\n",
       "</div>"
      ],
      "text/plain": [
       "       idade  flag_aceito sexo departamento\n",
       "0  37.798818            0    M            A\n",
       "1  42.188624            0    M            A\n",
       "2  39.703209            0    M            A\n",
       "3  32.216175            0    M            A\n",
       "4  42.772410            0    M            A"
      ]
     },
     "execution_count": 61,
     "metadata": {},
     "output_type": "execute_result"
    }
   ],
   "source": [
    "import pandas as pd\n",
    "\n",
    "dfsimpson = pd.read_csv('df_paradoxo_simpson.csv',encoding='ISO-8859-1',delimiter=';',low_memory = False)\n",
    "\n",
    "dfsimpson = dfsimpson.drop('Unnamed: 0', axis=1)\n",
    "\n",
    "dfsimpson.head()"
   ]
  },
  {
   "cell_type": "code",
   "execution_count": 62,
   "metadata": {
    "ExecuteTime": {
     "end_time": "2020-12-03T16:57:10.283071Z",
     "start_time": "2020-12-03T16:57:10.273098Z"
    }
   },
   "outputs": [
    {
     "name": "stdout",
     "output_type": "stream",
     "text": [
      "<class 'pandas.core.frame.DataFrame'>\n",
      "RangeIndex: 4261 entries, 0 to 4260\n",
      "Data columns (total 4 columns):\n",
      " #   Column        Non-Null Count  Dtype  \n",
      "---  ------        --------------  -----  \n",
      " 0   idade         4261 non-null   float64\n",
      " 1   flag_aceito   4261 non-null   int64  \n",
      " 2   sexo          4261 non-null   object \n",
      " 3   departamento  4261 non-null   object \n",
      "dtypes: float64(1), int64(1), object(2)\n",
      "memory usage: 133.3+ KB\n"
     ]
    }
   ],
   "source": [
    "dfsimpson.info()"
   ]
  },
  {
   "cell_type": "code",
   "execution_count": 63,
   "metadata": {
    "ExecuteTime": {
     "end_time": "2020-12-03T16:57:10.309002Z",
     "start_time": "2020-12-03T16:57:10.287061Z"
    }
   },
   "outputs": [
    {
     "data": {
      "text/html": [
       "<div>\n",
       "<style scoped>\n",
       "    .dataframe tbody tr th:only-of-type {\n",
       "        vertical-align: middle;\n",
       "    }\n",
       "\n",
       "    .dataframe tbody tr th {\n",
       "        vertical-align: top;\n",
       "    }\n",
       "\n",
       "    .dataframe thead th {\n",
       "        text-align: right;\n",
       "    }\n",
       "</style>\n",
       "<table border=\"1\" class=\"dataframe\">\n",
       "  <thead>\n",
       "    <tr style=\"text-align: right;\">\n",
       "      <th></th>\n",
       "      <th>idade</th>\n",
       "      <th>flag_aceito</th>\n",
       "    </tr>\n",
       "  </thead>\n",
       "  <tbody>\n",
       "    <tr>\n",
       "      <th>count</th>\n",
       "      <td>4261.000000</td>\n",
       "      <td>4261.000000</td>\n",
       "    </tr>\n",
       "    <tr>\n",
       "      <th>mean</th>\n",
       "      <td>37.977128</td>\n",
       "      <td>0.375968</td>\n",
       "    </tr>\n",
       "    <tr>\n",
       "      <th>std</th>\n",
       "      <td>4.936159</td>\n",
       "      <td>0.484429</td>\n",
       "    </tr>\n",
       "    <tr>\n",
       "      <th>min</th>\n",
       "      <td>21.043936</td>\n",
       "      <td>0.000000</td>\n",
       "    </tr>\n",
       "    <tr>\n",
       "      <th>25%</th>\n",
       "      <td>34.630813</td>\n",
       "      <td>0.000000</td>\n",
       "    </tr>\n",
       "    <tr>\n",
       "      <th>50%</th>\n",
       "      <td>38.027521</td>\n",
       "      <td>0.000000</td>\n",
       "    </tr>\n",
       "    <tr>\n",
       "      <th>75%</th>\n",
       "      <td>41.450529</td>\n",
       "      <td>1.000000</td>\n",
       "    </tr>\n",
       "    <tr>\n",
       "      <th>max</th>\n",
       "      <td>55.736201</td>\n",
       "      <td>1.000000</td>\n",
       "    </tr>\n",
       "  </tbody>\n",
       "</table>\n",
       "</div>"
      ],
      "text/plain": [
       "             idade  flag_aceito\n",
       "count  4261.000000  4261.000000\n",
       "mean     37.977128     0.375968\n",
       "std       4.936159     0.484429\n",
       "min      21.043936     0.000000\n",
       "25%      34.630813     0.000000\n",
       "50%      38.027521     0.000000\n",
       "75%      41.450529     1.000000\n",
       "max      55.736201     1.000000"
      ]
     },
     "execution_count": 63,
     "metadata": {},
     "output_type": "execute_result"
    }
   ],
   "source": [
    "dfsimpson.describe()"
   ]
  },
  {
   "cell_type": "markdown",
   "metadata": {},
   "source": [
    "## Reproduzindo tabelas de informações e insights\n",
    "\n",
    "Aqui vamos tentar analisar a quantidade total de pessoas de ambos os sexos e verificar qual o percentual de aprovados por sexo. Nesta seção vamos reproduzir o trabalho que um analista/cientista de dados teria e uma das opções de como fazer essas análises, lembrando que não existe apenas um meio de chegar em um resultado, ainda mais em se tratando de Python."
   ]
  },
  {
   "cell_type": "code",
   "execution_count": 64,
   "metadata": {
    "ExecuteTime": {
     "end_time": "2020-12-03T16:57:10.326954Z",
     "start_time": "2020-12-03T16:57:10.311994Z"
    }
   },
   "outputs": [
    {
     "data": {
      "text/html": [
       "<div>\n",
       "<style scoped>\n",
       "    .dataframe tbody tr th:only-of-type {\n",
       "        vertical-align: middle;\n",
       "    }\n",
       "\n",
       "    .dataframe tbody tr th {\n",
       "        vertical-align: top;\n",
       "    }\n",
       "\n",
       "    .dataframe thead th {\n",
       "        text-align: right;\n",
       "    }\n",
       "</style>\n",
       "<table border=\"1\" class=\"dataframe\">\n",
       "  <thead>\n",
       "    <tr style=\"text-align: right;\">\n",
       "      <th></th>\n",
       "      <th>sexo</th>\n",
       "      <th>flag_aceito</th>\n",
       "    </tr>\n",
       "    <tr>\n",
       "      <th>sexo</th>\n",
       "      <th></th>\n",
       "      <th></th>\n",
       "    </tr>\n",
       "  </thead>\n",
       "  <tbody>\n",
       "    <tr>\n",
       "      <th>F</th>\n",
       "      <td>1835</td>\n",
       "      <td>572</td>\n",
       "    </tr>\n",
       "    <tr>\n",
       "      <th>M</th>\n",
       "      <td>2426</td>\n",
       "      <td>1030</td>\n",
       "    </tr>\n",
       "  </tbody>\n",
       "</table>\n",
       "</div>"
      ],
      "text/plain": [
       "      sexo  flag_aceito\n",
       "sexo                   \n",
       "F     1835          572\n",
       "M     2426         1030"
      ]
     },
     "execution_count": 64,
     "metadata": {},
     "output_type": "execute_result"
    }
   ],
   "source": [
    "tab1 = dfsimpson.groupby(['sexo']).agg({'sexo':'count','flag_aceito':'sum'})\n",
    "\n",
    "tab1"
   ]
  },
  {
   "cell_type": "markdown",
   "metadata": {},
   "source": [
    "Aqui transformamos a tabela que geramos na célula anterior em um pandas dataframe para que possamos enriquecer este dataframe com informações e cálculos que julguemos relevantes para nossa análise."
   ]
  },
  {
   "cell_type": "code",
   "execution_count": 65,
   "metadata": {
    "ExecuteTime": {
     "end_time": "2020-12-03T16:57:10.338922Z",
     "start_time": "2020-12-03T16:57:10.329947Z"
    }
   },
   "outputs": [
    {
     "data": {
      "text/html": [
       "<div>\n",
       "<style scoped>\n",
       "    .dataframe tbody tr th:only-of-type {\n",
       "        vertical-align: middle;\n",
       "    }\n",
       "\n",
       "    .dataframe tbody tr th {\n",
       "        vertical-align: top;\n",
       "    }\n",
       "\n",
       "    .dataframe thead th {\n",
       "        text-align: right;\n",
       "    }\n",
       "</style>\n",
       "<table border=\"1\" class=\"dataframe\">\n",
       "  <thead>\n",
       "    <tr style=\"text-align: right;\">\n",
       "      <th></th>\n",
       "      <th>sexo</th>\n",
       "      <th>flag_aceito</th>\n",
       "    </tr>\n",
       "    <tr>\n",
       "      <th>sexo</th>\n",
       "      <th></th>\n",
       "      <th></th>\n",
       "    </tr>\n",
       "  </thead>\n",
       "  <tbody>\n",
       "    <tr>\n",
       "      <th>F</th>\n",
       "      <td>1835</td>\n",
       "      <td>572</td>\n",
       "    </tr>\n",
       "    <tr>\n",
       "      <th>M</th>\n",
       "      <td>2426</td>\n",
       "      <td>1030</td>\n",
       "    </tr>\n",
       "  </tbody>\n",
       "</table>\n",
       "</div>"
      ],
      "text/plain": [
       "      sexo  flag_aceito\n",
       "sexo                   \n",
       "F     1835          572\n",
       "M     2426         1030"
      ]
     },
     "execution_count": 65,
     "metadata": {},
     "output_type": "execute_result"
    }
   ],
   "source": [
    "tab1 = pd.DataFrame(tab1)\n",
    "\n",
    "tab1"
   ]
  },
  {
   "cell_type": "markdown",
   "metadata": {},
   "source": [
    "Aqui acrescentamos uma nova coluna à tabela/dataframe que calculamos anteriormente que nada mais é do que o percentual de aprovados agrupados por ambos os sexos. Percebemos que do total de mulheres (F) cerca de $32%$ foram admitidas nos programas da Universidade de Berkeley, enquanto que dos $2.426$ homems que aplicaram para os programas de pós graduação cerca de $43%$ foram admitidos. Este foi o resultado que levantou toda a questão de sexismo e que culminou com o processo da Universidade Berkeley."
   ]
  },
  {
   "cell_type": "code",
   "execution_count": 66,
   "metadata": {
    "ExecuteTime": {
     "end_time": "2020-12-03T16:57:10.357151Z",
     "start_time": "2020-12-03T16:57:10.341915Z"
    }
   },
   "outputs": [
    {
     "data": {
      "text/html": [
       "<div>\n",
       "<style scoped>\n",
       "    .dataframe tbody tr th:only-of-type {\n",
       "        vertical-align: middle;\n",
       "    }\n",
       "\n",
       "    .dataframe tbody tr th {\n",
       "        vertical-align: top;\n",
       "    }\n",
       "\n",
       "    .dataframe thead th {\n",
       "        text-align: right;\n",
       "    }\n",
       "</style>\n",
       "<table border=\"1\" class=\"dataframe\">\n",
       "  <thead>\n",
       "    <tr style=\"text-align: right;\">\n",
       "      <th></th>\n",
       "      <th>sexo</th>\n",
       "      <th>flag_aceito</th>\n",
       "      <th>perc_aceito</th>\n",
       "    </tr>\n",
       "    <tr>\n",
       "      <th>sexo</th>\n",
       "      <th></th>\n",
       "      <th></th>\n",
       "      <th></th>\n",
       "    </tr>\n",
       "  </thead>\n",
       "  <tbody>\n",
       "    <tr>\n",
       "      <th>F</th>\n",
       "      <td>1835</td>\n",
       "      <td>572</td>\n",
       "      <td>0.311717</td>\n",
       "    </tr>\n",
       "    <tr>\n",
       "      <th>M</th>\n",
       "      <td>2426</td>\n",
       "      <td>1030</td>\n",
       "      <td>0.424567</td>\n",
       "    </tr>\n",
       "  </tbody>\n",
       "</table>\n",
       "</div>"
      ],
      "text/plain": [
       "      sexo  flag_aceito  perc_aceito\n",
       "sexo                                \n",
       "F     1835          572     0.311717\n",
       "M     2426         1030     0.424567"
      ]
     },
     "execution_count": 66,
     "metadata": {},
     "output_type": "execute_result"
    }
   ],
   "source": [
    "tab1['perc_aceito'] = tab1['flag_aceito']/tab1['sexo']\n",
    "\n",
    "tab1"
   ]
  },
  {
   "cell_type": "markdown",
   "metadata": {},
   "source": [
    "Agora vamos abrir a granularidade das nossas análises e ao invés de agrupar apenas no sexo, vamos agrupar a quantidade de pessoas que se inscreveram no processo por departamento e por sexo, e verificar quantos foram aceitos nos programas da universidade."
   ]
  },
  {
   "cell_type": "code",
   "execution_count": 67,
   "metadata": {
    "ExecuteTime": {
     "end_time": "2020-12-03T16:57:10.379092Z",
     "start_time": "2020-12-03T16:57:10.360143Z"
    }
   },
   "outputs": [
    {
     "data": {
      "text/html": [
       "<div>\n",
       "<style scoped>\n",
       "    .dataframe tbody tr th:only-of-type {\n",
       "        vertical-align: middle;\n",
       "    }\n",
       "\n",
       "    .dataframe tbody tr th {\n",
       "        vertical-align: top;\n",
       "    }\n",
       "\n",
       "    .dataframe thead th {\n",
       "        text-align: right;\n",
       "    }\n",
       "</style>\n",
       "<table border=\"1\" class=\"dataframe\">\n",
       "  <thead>\n",
       "    <tr style=\"text-align: right;\">\n",
       "      <th></th>\n",
       "      <th></th>\n",
       "      <th>sexo</th>\n",
       "      <th>flag_aceito</th>\n",
       "    </tr>\n",
       "    <tr>\n",
       "      <th>sexo</th>\n",
       "      <th>departamento</th>\n",
       "      <th></th>\n",
       "      <th></th>\n",
       "    </tr>\n",
       "  </thead>\n",
       "  <tbody>\n",
       "    <tr>\n",
       "      <th rowspan=\"6\" valign=\"top\">F</th>\n",
       "      <th>A</th>\n",
       "      <td>108</td>\n",
       "      <td>91</td>\n",
       "    </tr>\n",
       "    <tr>\n",
       "      <th>B</th>\n",
       "      <td>25</td>\n",
       "      <td>11</td>\n",
       "    </tr>\n",
       "    <tr>\n",
       "      <th>C</th>\n",
       "      <td>593</td>\n",
       "      <td>214</td>\n",
       "    </tr>\n",
       "    <tr>\n",
       "      <th>D</th>\n",
       "      <td>375</td>\n",
       "      <td>134</td>\n",
       "    </tr>\n",
       "    <tr>\n",
       "      <th>E</th>\n",
       "      <td>393</td>\n",
       "      <td>97</td>\n",
       "    </tr>\n",
       "    <tr>\n",
       "      <th>F</th>\n",
       "      <td>341</td>\n",
       "      <td>25</td>\n",
       "    </tr>\n",
       "    <tr>\n",
       "      <th rowspan=\"6\" valign=\"top\">M</th>\n",
       "      <th>A</th>\n",
       "      <td>560</td>\n",
       "      <td>328</td>\n",
       "    </tr>\n",
       "    <tr>\n",
       "      <th>B</th>\n",
       "      <td>560</td>\n",
       "      <td>360</td>\n",
       "    </tr>\n",
       "    <tr>\n",
       "      <th>C</th>\n",
       "      <td>325</td>\n",
       "      <td>118</td>\n",
       "    </tr>\n",
       "    <tr>\n",
       "      <th>D</th>\n",
       "      <td>417</td>\n",
       "      <td>141</td>\n",
       "    </tr>\n",
       "    <tr>\n",
       "      <th>E</th>\n",
       "      <td>191</td>\n",
       "      <td>65</td>\n",
       "    </tr>\n",
       "    <tr>\n",
       "      <th>F</th>\n",
       "      <td>373</td>\n",
       "      <td>18</td>\n",
       "    </tr>\n",
       "  </tbody>\n",
       "</table>\n",
       "</div>"
      ],
      "text/plain": [
       "                   sexo  flag_aceito\n",
       "sexo departamento                   \n",
       "F    A              108           91\n",
       "     B               25           11\n",
       "     C              593          214\n",
       "     D              375          134\n",
       "     E              393           97\n",
       "     F              341           25\n",
       "M    A              560          328\n",
       "     B              560          360\n",
       "     C              325          118\n",
       "     D              417          141\n",
       "     E              191           65\n",
       "     F              373           18"
      ]
     },
     "execution_count": 67,
     "metadata": {},
     "output_type": "execute_result"
    }
   ],
   "source": [
    "tab2 = dfsimpson.groupby(['sexo','departamento']).agg({'sexo':'count','flag_aceito':'sum'})\n",
    "\n",
    "tab2"
   ]
  },
  {
   "cell_type": "code",
   "execution_count": 68,
   "metadata": {
    "ExecuteTime": {
     "end_time": "2020-12-03T16:57:10.394052Z",
     "start_time": "2020-12-03T16:57:10.382084Z"
    }
   },
   "outputs": [
    {
     "data": {
      "text/html": [
       "<div>\n",
       "<style scoped>\n",
       "    .dataframe tbody tr th:only-of-type {\n",
       "        vertical-align: middle;\n",
       "    }\n",
       "\n",
       "    .dataframe tbody tr th {\n",
       "        vertical-align: top;\n",
       "    }\n",
       "\n",
       "    .dataframe thead th {\n",
       "        text-align: right;\n",
       "    }\n",
       "</style>\n",
       "<table border=\"1\" class=\"dataframe\">\n",
       "  <thead>\n",
       "    <tr style=\"text-align: right;\">\n",
       "      <th></th>\n",
       "      <th></th>\n",
       "      <th>sexo</th>\n",
       "      <th>flag_aceito</th>\n",
       "    </tr>\n",
       "    <tr>\n",
       "      <th>sexo</th>\n",
       "      <th>departamento</th>\n",
       "      <th></th>\n",
       "      <th></th>\n",
       "    </tr>\n",
       "  </thead>\n",
       "  <tbody>\n",
       "    <tr>\n",
       "      <th rowspan=\"6\" valign=\"top\">F</th>\n",
       "      <th>A</th>\n",
       "      <td>108</td>\n",
       "      <td>91</td>\n",
       "    </tr>\n",
       "    <tr>\n",
       "      <th>B</th>\n",
       "      <td>25</td>\n",
       "      <td>11</td>\n",
       "    </tr>\n",
       "    <tr>\n",
       "      <th>C</th>\n",
       "      <td>593</td>\n",
       "      <td>214</td>\n",
       "    </tr>\n",
       "    <tr>\n",
       "      <th>D</th>\n",
       "      <td>375</td>\n",
       "      <td>134</td>\n",
       "    </tr>\n",
       "    <tr>\n",
       "      <th>E</th>\n",
       "      <td>393</td>\n",
       "      <td>97</td>\n",
       "    </tr>\n",
       "    <tr>\n",
       "      <th>F</th>\n",
       "      <td>341</td>\n",
       "      <td>25</td>\n",
       "    </tr>\n",
       "    <tr>\n",
       "      <th rowspan=\"6\" valign=\"top\">M</th>\n",
       "      <th>A</th>\n",
       "      <td>560</td>\n",
       "      <td>328</td>\n",
       "    </tr>\n",
       "    <tr>\n",
       "      <th>B</th>\n",
       "      <td>560</td>\n",
       "      <td>360</td>\n",
       "    </tr>\n",
       "    <tr>\n",
       "      <th>C</th>\n",
       "      <td>325</td>\n",
       "      <td>118</td>\n",
       "    </tr>\n",
       "    <tr>\n",
       "      <th>D</th>\n",
       "      <td>417</td>\n",
       "      <td>141</td>\n",
       "    </tr>\n",
       "    <tr>\n",
       "      <th>E</th>\n",
       "      <td>191</td>\n",
       "      <td>65</td>\n",
       "    </tr>\n",
       "    <tr>\n",
       "      <th>F</th>\n",
       "      <td>373</td>\n",
       "      <td>18</td>\n",
       "    </tr>\n",
       "  </tbody>\n",
       "</table>\n",
       "</div>"
      ],
      "text/plain": [
       "                   sexo  flag_aceito\n",
       "sexo departamento                   \n",
       "F    A              108           91\n",
       "     B               25           11\n",
       "     C              593          214\n",
       "     D              375          134\n",
       "     E              393           97\n",
       "     F              341           25\n",
       "M    A              560          328\n",
       "     B              560          360\n",
       "     C              325          118\n",
       "     D              417          141\n",
       "     E              191           65\n",
       "     F              373           18"
      ]
     },
     "execution_count": 68,
     "metadata": {},
     "output_type": "execute_result"
    }
   ],
   "source": [
    "tab2 = pd.DataFrame(tab2)\n",
    "\n",
    "tab2"
   ]
  },
  {
   "cell_type": "code",
   "execution_count": 69,
   "metadata": {
    "ExecuteTime": {
     "end_time": "2020-12-03T16:57:10.412003Z",
     "start_time": "2020-12-03T16:57:10.397044Z"
    }
   },
   "outputs": [
    {
     "data": {
      "text/html": [
       "<div>\n",
       "<style scoped>\n",
       "    .dataframe tbody tr th:only-of-type {\n",
       "        vertical-align: middle;\n",
       "    }\n",
       "\n",
       "    .dataframe tbody tr th {\n",
       "        vertical-align: top;\n",
       "    }\n",
       "\n",
       "    .dataframe thead th {\n",
       "        text-align: right;\n",
       "    }\n",
       "</style>\n",
       "<table border=\"1\" class=\"dataframe\">\n",
       "  <thead>\n",
       "    <tr style=\"text-align: right;\">\n",
       "      <th></th>\n",
       "      <th></th>\n",
       "      <th>sexo</th>\n",
       "      <th>flag_aceito</th>\n",
       "      <th>perc_aceito</th>\n",
       "    </tr>\n",
       "    <tr>\n",
       "      <th>sexo</th>\n",
       "      <th>departamento</th>\n",
       "      <th></th>\n",
       "      <th></th>\n",
       "      <th></th>\n",
       "    </tr>\n",
       "  </thead>\n",
       "  <tbody>\n",
       "    <tr>\n",
       "      <th rowspan=\"6\" valign=\"top\">F</th>\n",
       "      <th>A</th>\n",
       "      <td>108</td>\n",
       "      <td>91</td>\n",
       "      <td>0.842593</td>\n",
       "    </tr>\n",
       "    <tr>\n",
       "      <th>B</th>\n",
       "      <td>25</td>\n",
       "      <td>11</td>\n",
       "      <td>0.440000</td>\n",
       "    </tr>\n",
       "    <tr>\n",
       "      <th>C</th>\n",
       "      <td>593</td>\n",
       "      <td>214</td>\n",
       "      <td>0.360877</td>\n",
       "    </tr>\n",
       "    <tr>\n",
       "      <th>D</th>\n",
       "      <td>375</td>\n",
       "      <td>134</td>\n",
       "      <td>0.357333</td>\n",
       "    </tr>\n",
       "    <tr>\n",
       "      <th>E</th>\n",
       "      <td>393</td>\n",
       "      <td>97</td>\n",
       "      <td>0.246819</td>\n",
       "    </tr>\n",
       "    <tr>\n",
       "      <th>F</th>\n",
       "      <td>341</td>\n",
       "      <td>25</td>\n",
       "      <td>0.073314</td>\n",
       "    </tr>\n",
       "    <tr>\n",
       "      <th rowspan=\"6\" valign=\"top\">M</th>\n",
       "      <th>A</th>\n",
       "      <td>560</td>\n",
       "      <td>328</td>\n",
       "      <td>0.585714</td>\n",
       "    </tr>\n",
       "    <tr>\n",
       "      <th>B</th>\n",
       "      <td>560</td>\n",
       "      <td>360</td>\n",
       "      <td>0.642857</td>\n",
       "    </tr>\n",
       "    <tr>\n",
       "      <th>C</th>\n",
       "      <td>325</td>\n",
       "      <td>118</td>\n",
       "      <td>0.363077</td>\n",
       "    </tr>\n",
       "    <tr>\n",
       "      <th>D</th>\n",
       "      <td>417</td>\n",
       "      <td>141</td>\n",
       "      <td>0.338129</td>\n",
       "    </tr>\n",
       "    <tr>\n",
       "      <th>E</th>\n",
       "      <td>191</td>\n",
       "      <td>65</td>\n",
       "      <td>0.340314</td>\n",
       "    </tr>\n",
       "    <tr>\n",
       "      <th>F</th>\n",
       "      <td>373</td>\n",
       "      <td>18</td>\n",
       "      <td>0.048257</td>\n",
       "    </tr>\n",
       "  </tbody>\n",
       "</table>\n",
       "</div>"
      ],
      "text/plain": [
       "                   sexo  flag_aceito  perc_aceito\n",
       "sexo departamento                                \n",
       "F    A              108           91     0.842593\n",
       "     B               25           11     0.440000\n",
       "     C              593          214     0.360877\n",
       "     D              375          134     0.357333\n",
       "     E              393           97     0.246819\n",
       "     F              341           25     0.073314\n",
       "M    A              560          328     0.585714\n",
       "     B              560          360     0.642857\n",
       "     C              325          118     0.363077\n",
       "     D              417          141     0.338129\n",
       "     E              191           65     0.340314\n",
       "     F              373           18     0.048257"
      ]
     },
     "execution_count": 69,
     "metadata": {},
     "output_type": "execute_result"
    }
   ],
   "source": [
    "tab2['perc_aceito'] = tab2['flag_aceito']/tab2['sexo']\n",
    "\n",
    "tab2"
   ]
  },
  {
   "cell_type": "markdown",
   "metadata": {},
   "source": [
    "Aqui vamos iniciar a criação de uma tabela geral com todas as informações necessárias para chegarmos aos resultados que a Universidade Berkeley apresentou em sua defesa, demonstrando que não havia sexismo na admissão dos candidatos aos programas de pós graduação."
   ]
  },
  {
   "cell_type": "code",
   "execution_count": 70,
   "metadata": {
    "ExecuteTime": {
     "end_time": "2020-12-03T16:57:10.431952Z",
     "start_time": "2020-12-03T16:57:10.415994Z"
    }
   },
   "outputs": [
    {
     "data": {
      "text/html": [
       "<div>\n",
       "<style scoped>\n",
       "    .dataframe tbody tr th:only-of-type {\n",
       "        vertical-align: middle;\n",
       "    }\n",
       "\n",
       "    .dataframe tbody tr th {\n",
       "        vertical-align: top;\n",
       "    }\n",
       "\n",
       "    .dataframe thead th {\n",
       "        text-align: right;\n",
       "    }\n",
       "</style>\n",
       "<table border=\"1\" class=\"dataframe\">\n",
       "  <thead>\n",
       "    <tr style=\"text-align: right;\">\n",
       "      <th></th>\n",
       "      <th>flag_aceito</th>\n",
       "      <th>sexo</th>\n",
       "      <th>departamento</th>\n",
       "      <th>flag_nao_aceito</th>\n",
       "    </tr>\n",
       "  </thead>\n",
       "  <tbody>\n",
       "    <tr>\n",
       "      <th>0</th>\n",
       "      <td>0</td>\n",
       "      <td>M</td>\n",
       "      <td>A</td>\n",
       "      <td>1</td>\n",
       "    </tr>\n",
       "    <tr>\n",
       "      <th>1</th>\n",
       "      <td>0</td>\n",
       "      <td>M</td>\n",
       "      <td>A</td>\n",
       "      <td>1</td>\n",
       "    </tr>\n",
       "    <tr>\n",
       "      <th>2</th>\n",
       "      <td>0</td>\n",
       "      <td>M</td>\n",
       "      <td>A</td>\n",
       "      <td>1</td>\n",
       "    </tr>\n",
       "    <tr>\n",
       "      <th>3</th>\n",
       "      <td>0</td>\n",
       "      <td>M</td>\n",
       "      <td>A</td>\n",
       "      <td>1</td>\n",
       "    </tr>\n",
       "    <tr>\n",
       "      <th>4</th>\n",
       "      <td>0</td>\n",
       "      <td>M</td>\n",
       "      <td>A</td>\n",
       "      <td>1</td>\n",
       "    </tr>\n",
       "  </tbody>\n",
       "</table>\n",
       "</div>"
      ],
      "text/plain": [
       "   flag_aceito sexo departamento  flag_nao_aceito\n",
       "0            0    M            A                1\n",
       "1            0    M            A                1\n",
       "2            0    M            A                1\n",
       "3            0    M            A                1\n",
       "4            0    M            A                1"
      ]
     },
     "execution_count": 70,
     "metadata": {},
     "output_type": "execute_result"
    }
   ],
   "source": [
    "dfsimpsonaux = dfsimpson.drop(['idade'], axis=1)\n",
    "\n",
    "dfsimpsonaux = pd.DataFrame(dfsimpsonaux).copy()\n",
    "\n",
    "dfsimpsonaux['flag_nao_aceito'] = abs(1 - dfsimpsonaux['flag_aceito'])\n",
    "\n",
    "dfsimpsonaux.head()"
   ]
  },
  {
   "cell_type": "code",
   "execution_count": 71,
   "metadata": {
    "ExecuteTime": {
     "end_time": "2020-12-03T16:57:10.507748Z",
     "start_time": "2020-12-03T16:57:10.434942Z"
    }
   },
   "outputs": [
    {
     "data": {
      "text/html": [
       "<div>\n",
       "<style scoped>\n",
       "    .dataframe tbody tr th:only-of-type {\n",
       "        vertical-align: middle;\n",
       "    }\n",
       "\n",
       "    .dataframe tbody tr th {\n",
       "        vertical-align: top;\n",
       "    }\n",
       "\n",
       "    .dataframe thead tr th {\n",
       "        text-align: left;\n",
       "    }\n",
       "\n",
       "    .dataframe thead tr:last-of-type th {\n",
       "        text-align: right;\n",
       "    }\n",
       "</style>\n",
       "<table border=\"1\" class=\"dataframe\">\n",
       "  <thead>\n",
       "    <tr>\n",
       "      <th></th>\n",
       "      <th colspan=\"3\" halign=\"left\">flag_aceito</th>\n",
       "      <th colspan=\"3\" halign=\"left\">flag_nao_aceito</th>\n",
       "    </tr>\n",
       "    <tr>\n",
       "      <th>sexo</th>\n",
       "      <th>F</th>\n",
       "      <th>M</th>\n",
       "      <th>Total</th>\n",
       "      <th>F</th>\n",
       "      <th>M</th>\n",
       "      <th>Total</th>\n",
       "    </tr>\n",
       "    <tr>\n",
       "      <th>departamento</th>\n",
       "      <th></th>\n",
       "      <th></th>\n",
       "      <th></th>\n",
       "      <th></th>\n",
       "      <th></th>\n",
       "      <th></th>\n",
       "    </tr>\n",
       "  </thead>\n",
       "  <tbody>\n",
       "    <tr>\n",
       "      <th>A</th>\n",
       "      <td>91</td>\n",
       "      <td>328</td>\n",
       "      <td>419</td>\n",
       "      <td>17</td>\n",
       "      <td>232</td>\n",
       "      <td>249</td>\n",
       "    </tr>\n",
       "    <tr>\n",
       "      <th>B</th>\n",
       "      <td>11</td>\n",
       "      <td>360</td>\n",
       "      <td>371</td>\n",
       "      <td>14</td>\n",
       "      <td>200</td>\n",
       "      <td>214</td>\n",
       "    </tr>\n",
       "    <tr>\n",
       "      <th>C</th>\n",
       "      <td>214</td>\n",
       "      <td>118</td>\n",
       "      <td>332</td>\n",
       "      <td>379</td>\n",
       "      <td>207</td>\n",
       "      <td>586</td>\n",
       "    </tr>\n",
       "    <tr>\n",
       "      <th>D</th>\n",
       "      <td>134</td>\n",
       "      <td>141</td>\n",
       "      <td>275</td>\n",
       "      <td>241</td>\n",
       "      <td>276</td>\n",
       "      <td>517</td>\n",
       "    </tr>\n",
       "    <tr>\n",
       "      <th>E</th>\n",
       "      <td>97</td>\n",
       "      <td>65</td>\n",
       "      <td>162</td>\n",
       "      <td>296</td>\n",
       "      <td>126</td>\n",
       "      <td>422</td>\n",
       "    </tr>\n",
       "    <tr>\n",
       "      <th>F</th>\n",
       "      <td>25</td>\n",
       "      <td>18</td>\n",
       "      <td>43</td>\n",
       "      <td>316</td>\n",
       "      <td>355</td>\n",
       "      <td>671</td>\n",
       "    </tr>\n",
       "    <tr>\n",
       "      <th>Total</th>\n",
       "      <td>572</td>\n",
       "      <td>1030</td>\n",
       "      <td>1602</td>\n",
       "      <td>1263</td>\n",
       "      <td>1396</td>\n",
       "      <td>2659</td>\n",
       "    </tr>\n",
       "  </tbody>\n",
       "</table>\n",
       "</div>"
      ],
      "text/plain": [
       "             flag_aceito             flag_nao_aceito            \n",
       "sexo                   F     M Total               F     M Total\n",
       "departamento                                                    \n",
       "A                     91   328   419              17   232   249\n",
       "B                     11   360   371              14   200   214\n",
       "C                    214   118   332             379   207   586\n",
       "D                    134   141   275             241   276   517\n",
       "E                     97    65   162             296   126   422\n",
       "F                     25    18    43             316   355   671\n",
       "Total                572  1030  1602            1263  1396  2659"
      ]
     },
     "execution_count": 71,
     "metadata": {},
     "output_type": "execute_result"
    }
   ],
   "source": [
    "tabela = pd.pivot_table(dfsimpsonaux,\n",
    "               index = ['departamento'],\n",
    "               values = ['flag_aceito','flag_nao_aceito'],\n",
    "               columns = ['sexo'],\n",
    "               fill_value = '',\n",
    "               aggfunc = np.sum,\n",
    "               #observed = False,\n",
    "               margins = True,\n",
    "               margins_name = 'Total'\n",
    "              )\n",
    "\n",
    "tabela"
   ]
  },
  {
   "cell_type": "code",
   "execution_count": 72,
   "metadata": {
    "ExecuteTime": {
     "end_time": "2020-12-03T16:57:10.528691Z",
     "start_time": "2020-12-03T16:57:10.510739Z"
    },
    "scrolled": true
   },
   "outputs": [
    {
     "data": {
      "text/html": [
       "<div>\n",
       "<style scoped>\n",
       "    .dataframe tbody tr th:only-of-type {\n",
       "        vertical-align: middle;\n",
       "    }\n",
       "\n",
       "    .dataframe tbody tr th {\n",
       "        vertical-align: top;\n",
       "    }\n",
       "\n",
       "    .dataframe thead th {\n",
       "        text-align: right;\n",
       "    }\n",
       "</style>\n",
       "<table border=\"1\" class=\"dataframe\">\n",
       "  <thead>\n",
       "    <tr style=\"text-align: right;\">\n",
       "      <th></th>\n",
       "      <th>departamento</th>\n",
       "      <th>('flag_aceito', 'F')</th>\n",
       "      <th>('flag_aceito', 'M')</th>\n",
       "      <th>('flag_aceito', 'Total')</th>\n",
       "      <th>('flag_nao_aceito', 'F')</th>\n",
       "      <th>('flag_nao_aceito', 'M')</th>\n",
       "      <th>('flag_nao_aceito', 'Total')</th>\n",
       "    </tr>\n",
       "  </thead>\n",
       "  <tbody>\n",
       "    <tr>\n",
       "      <th>0</th>\n",
       "      <td>A</td>\n",
       "      <td>91</td>\n",
       "      <td>328</td>\n",
       "      <td>419</td>\n",
       "      <td>17</td>\n",
       "      <td>232</td>\n",
       "      <td>249</td>\n",
       "    </tr>\n",
       "    <tr>\n",
       "      <th>1</th>\n",
       "      <td>B</td>\n",
       "      <td>11</td>\n",
       "      <td>360</td>\n",
       "      <td>371</td>\n",
       "      <td>14</td>\n",
       "      <td>200</td>\n",
       "      <td>214</td>\n",
       "    </tr>\n",
       "    <tr>\n",
       "      <th>2</th>\n",
       "      <td>C</td>\n",
       "      <td>214</td>\n",
       "      <td>118</td>\n",
       "      <td>332</td>\n",
       "      <td>379</td>\n",
       "      <td>207</td>\n",
       "      <td>586</td>\n",
       "    </tr>\n",
       "    <tr>\n",
       "      <th>3</th>\n",
       "      <td>D</td>\n",
       "      <td>134</td>\n",
       "      <td>141</td>\n",
       "      <td>275</td>\n",
       "      <td>241</td>\n",
       "      <td>276</td>\n",
       "      <td>517</td>\n",
       "    </tr>\n",
       "    <tr>\n",
       "      <th>4</th>\n",
       "      <td>E</td>\n",
       "      <td>97</td>\n",
       "      <td>65</td>\n",
       "      <td>162</td>\n",
       "      <td>296</td>\n",
       "      <td>126</td>\n",
       "      <td>422</td>\n",
       "    </tr>\n",
       "    <tr>\n",
       "      <th>5</th>\n",
       "      <td>F</td>\n",
       "      <td>25</td>\n",
       "      <td>18</td>\n",
       "      <td>43</td>\n",
       "      <td>316</td>\n",
       "      <td>355</td>\n",
       "      <td>671</td>\n",
       "    </tr>\n",
       "    <tr>\n",
       "      <th>6</th>\n",
       "      <td>Total</td>\n",
       "      <td>572</td>\n",
       "      <td>1030</td>\n",
       "      <td>1602</td>\n",
       "      <td>1263</td>\n",
       "      <td>1396</td>\n",
       "      <td>2659</td>\n",
       "    </tr>\n",
       "  </tbody>\n",
       "</table>\n",
       "</div>"
      ],
      "text/plain": [
       "  departamento  ('flag_aceito', 'F')  ('flag_aceito', 'M')  \\\n",
       "0            A                    91                   328   \n",
       "1            B                    11                   360   \n",
       "2            C                   214                   118   \n",
       "3            D                   134                   141   \n",
       "4            E                    97                    65   \n",
       "5            F                    25                    18   \n",
       "6        Total                   572                  1030   \n",
       "\n",
       "   ('flag_aceito', 'Total')  ('flag_nao_aceito', 'F')  \\\n",
       "0                       419                        17   \n",
       "1                       371                        14   \n",
       "2                       332                       379   \n",
       "3                       275                       241   \n",
       "4                       162                       296   \n",
       "5                        43                       316   \n",
       "6                      1602                      1263   \n",
       "\n",
       "   ('flag_nao_aceito', 'M')  ('flag_nao_aceito', 'Total')  \n",
       "0                       232                           249  \n",
       "1                       200                           214  \n",
       "2                       207                           586  \n",
       "3                       276                           517  \n",
       "4                       126                           422  \n",
       "5                       355                           671  \n",
       "6                      1396                          2659  "
      ]
     },
     "execution_count": 72,
     "metadata": {},
     "output_type": "execute_result"
    }
   ],
   "source": [
    "tabela = pd.DataFrame(tabela)\n",
    "\n",
    "tabela = pd.DataFrame(tabela.to_records())\n",
    "\n",
    "tabela"
   ]
  },
  {
   "cell_type": "markdown",
   "metadata": {},
   "source": [
    "Terminamos de criar a tabela base para podermos trabalhar e analisar. Como exercício proposto vamos deixar para o leitor calcular as colunas de percentual e subtotal para os insights necessários."
   ]
  },
  {
   "cell_type": "code",
   "execution_count": 73,
   "metadata": {
    "ExecuteTime": {
     "end_time": "2020-12-03T16:57:10.543651Z",
     "start_time": "2020-12-03T16:57:10.530686Z"
    }
   },
   "outputs": [
    {
     "data": {
      "text/html": [
       "<div>\n",
       "<style scoped>\n",
       "    .dataframe tbody tr th:only-of-type {\n",
       "        vertical-align: middle;\n",
       "    }\n",
       "\n",
       "    .dataframe tbody tr th {\n",
       "        vertical-align: top;\n",
       "    }\n",
       "\n",
       "    .dataframe thead th {\n",
       "        text-align: right;\n",
       "    }\n",
       "</style>\n",
       "<table border=\"1\" class=\"dataframe\">\n",
       "  <thead>\n",
       "    <tr style=\"text-align: right;\">\n",
       "      <th></th>\n",
       "      <th>departamento</th>\n",
       "      <th>F_aceito</th>\n",
       "      <th>M_aceito</th>\n",
       "      <th>total_aceito</th>\n",
       "      <th>F_nao_aceito</th>\n",
       "      <th>M_nao_aceito</th>\n",
       "      <th>total_nao_aceito</th>\n",
       "    </tr>\n",
       "  </thead>\n",
       "  <tbody>\n",
       "    <tr>\n",
       "      <th>0</th>\n",
       "      <td>A</td>\n",
       "      <td>91</td>\n",
       "      <td>328</td>\n",
       "      <td>419</td>\n",
       "      <td>17</td>\n",
       "      <td>232</td>\n",
       "      <td>249</td>\n",
       "    </tr>\n",
       "    <tr>\n",
       "      <th>1</th>\n",
       "      <td>B</td>\n",
       "      <td>11</td>\n",
       "      <td>360</td>\n",
       "      <td>371</td>\n",
       "      <td>14</td>\n",
       "      <td>200</td>\n",
       "      <td>214</td>\n",
       "    </tr>\n",
       "    <tr>\n",
       "      <th>2</th>\n",
       "      <td>C</td>\n",
       "      <td>214</td>\n",
       "      <td>118</td>\n",
       "      <td>332</td>\n",
       "      <td>379</td>\n",
       "      <td>207</td>\n",
       "      <td>586</td>\n",
       "    </tr>\n",
       "    <tr>\n",
       "      <th>3</th>\n",
       "      <td>D</td>\n",
       "      <td>134</td>\n",
       "      <td>141</td>\n",
       "      <td>275</td>\n",
       "      <td>241</td>\n",
       "      <td>276</td>\n",
       "      <td>517</td>\n",
       "    </tr>\n",
       "    <tr>\n",
       "      <th>4</th>\n",
       "      <td>E</td>\n",
       "      <td>97</td>\n",
       "      <td>65</td>\n",
       "      <td>162</td>\n",
       "      <td>296</td>\n",
       "      <td>126</td>\n",
       "      <td>422</td>\n",
       "    </tr>\n",
       "    <tr>\n",
       "      <th>5</th>\n",
       "      <td>F</td>\n",
       "      <td>25</td>\n",
       "      <td>18</td>\n",
       "      <td>43</td>\n",
       "      <td>316</td>\n",
       "      <td>355</td>\n",
       "      <td>671</td>\n",
       "    </tr>\n",
       "    <tr>\n",
       "      <th>6</th>\n",
       "      <td>Total</td>\n",
       "      <td>572</td>\n",
       "      <td>1030</td>\n",
       "      <td>1602</td>\n",
       "      <td>1263</td>\n",
       "      <td>1396</td>\n",
       "      <td>2659</td>\n",
       "    </tr>\n",
       "  </tbody>\n",
       "</table>\n",
       "</div>"
      ],
      "text/plain": [
       "  departamento  F_aceito  M_aceito  total_aceito  F_nao_aceito  M_nao_aceito  \\\n",
       "0            A        91       328           419            17           232   \n",
       "1            B        11       360           371            14           200   \n",
       "2            C       214       118           332           379           207   \n",
       "3            D       134       141           275           241           276   \n",
       "4            E        97        65           162           296           126   \n",
       "5            F        25        18            43           316           355   \n",
       "6        Total       572      1030          1602          1263          1396   \n",
       "\n",
       "   total_nao_aceito  \n",
       "0               249  \n",
       "1               214  \n",
       "2               586  \n",
       "3               517  \n",
       "4               422  \n",
       "5               671  \n",
       "6              2659  "
      ]
     },
     "execution_count": 73,
     "metadata": {},
     "output_type": "execute_result"
    }
   ],
   "source": [
    "tabela.columns = ['departamento','F_aceito','M_aceito','total_aceito','F_nao_aceito','M_nao_aceito','total_nao_aceito']\n",
    "\n",
    "tabela"
   ]
  },
  {
   "cell_type": "code",
   "execution_count": 74,
   "metadata": {
    "ExecuteTime": {
     "end_time": "2020-12-03T16:57:10.554622Z",
     "start_time": "2020-12-03T16:57:10.545646Z"
    }
   },
   "outputs": [],
   "source": [
    "tabela.to_csv(\"tabela_exercicio_simpson.csv\",encoding='ISO-8859-1',sep=';')"
   ]
  }
 ],
 "metadata": {
  "hide_input": false,
  "kernelspec": {
   "display_name": "Python 3",
   "language": "python",
   "name": "python3"
  },
  "language_info": {
   "codemirror_mode": {
    "name": "ipython",
    "version": 3
   },
   "file_extension": ".py",
   "mimetype": "text/x-python",
   "name": "python",
   "nbconvert_exporter": "python",
   "pygments_lexer": "ipython3",
   "version": "3.8.3"
  },
  "latex_envs": {
   "LaTeX_envs_menu_present": true,
   "autoclose": false,
   "autocomplete": true,
   "bibliofile": "biblio.bib",
   "cite_by": "apalike",
   "current_citInitial": 1,
   "eqLabelWithNumbers": true,
   "eqNumInitial": 1,
   "hotkeys": {
    "equation": "Ctrl-E",
    "itemize": "Ctrl-I"
   },
   "labels_anchors": false,
   "latex_user_defs": false,
   "report_style_numbering": false,
   "user_envs_cfg": false
  },
  "toc": {
   "base_numbering": 1,
   "nav_menu": {
    "height": "167px",
    "width": "352px"
   },
   "number_sections": true,
   "sideBar": true,
   "skip_h1_title": false,
   "title_cell": "Table of Contents",
   "title_sidebar": "Contents",
   "toc_cell": false,
   "toc_position": {
    "height": "calc(100% - 180px)",
    "left": "10px",
    "top": "150px",
    "width": "236px"
   },
   "toc_section_display": true,
   "toc_window_display": false
  },
  "varInspector": {
   "cols": {
    "lenName": 16,
    "lenType": 16,
    "lenVar": 40
   },
   "kernels_config": {
    "python": {
     "delete_cmd_postfix": "",
     "delete_cmd_prefix": "del ",
     "library": "var_list.py",
     "varRefreshCmd": "print(var_dic_list())"
    },
    "r": {
     "delete_cmd_postfix": ") ",
     "delete_cmd_prefix": "rm(",
     "library": "var_list.r",
     "varRefreshCmd": "cat(var_dic_list()) "
    }
   },
   "types_to_exclude": [
    "module",
    "function",
    "builtin_function_or_method",
    "instance",
    "_Feature"
   ],
   "window_display": false
  }
 },
 "nbformat": 4,
 "nbformat_minor": 2
}
