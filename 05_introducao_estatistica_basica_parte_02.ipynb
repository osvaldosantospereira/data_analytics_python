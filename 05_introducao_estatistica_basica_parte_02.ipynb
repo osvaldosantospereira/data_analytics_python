{
 "cells": [
  {
   "cell_type": "markdown",
   "metadata": {},
   "source": [
    "# Medidas de posição: média, moda, mediana, percentis, quartis.\n",
    "\n",
    "As medidas de posição são valores que representam a tendência de concentração dos dados observados em experimentos. As mais importantes são as medidas de tendência central. As três medidas de tendência central mais utilizadas são: média, moda e mediana. Outras medidas de posição são os quartis, os percentis e outliers.\n",
    "\n",
    "## Média\n",
    "\n",
    "A média é uma das medidas de posição mais conhecidas e utilizadas. Existem diversos tipos de médias e a mais utilizada é a média aritmética amostral. Outros tipos de médias também utilizadas são média geométrica, média ponderada e média harmônica. Vamos começar os exemplos de médias com a média aritmética amostral. Supondo um conjunto de medidas\n",
    "\n",
    "\\begin{equation}\n",
    "x = x_1, x_2, x_3, \\cdots, x_n,\n",
    "\\end{equation}\n",
    "\n",
    "Sendo $n$ a quantidade de medidas $x_i$, então a média amostral $\\bar{x}$ é dada pela seguinte equação.\n",
    "\n",
    "\\begin{equation}\n",
    "\\bar{x} = \\frac{1}{n}(x_1 + x_2 + x_3 + \\cdots + x_n) = \\frac{1}{n}\\sum_{i=1}^{n} x_i,\n",
    "\\end{equation}\n",
    "\n",
    "### Exemplo 1\n",
    "\n",
    "Vamos dar um exemplo de como calcular médias. Seja um conjunto de medidas:\n",
    "\n",
    " x = [8, 1.8, 4.5, 4.5, 25]"
   ]
  },
  {
   "cell_type": "code",
   "execution_count": 40,
   "metadata": {
    "ExecuteTime": {
     "end_time": "2020-11-28T12:07:07.917344Z",
     "start_time": "2020-11-28T12:07:05.925200Z"
    }
   },
   "outputs": [],
   "source": [
    "import pandas as pd\n",
    "import numpy as np\n",
    "import seaborn as sns\n",
    "import matplotlib.pyplot as plt\n",
    "import statistics\n",
    "\n",
    "df1 = pd.read_csv('dataset_instrucional.csv',encoding='ISO-8859-1',delimiter=';',low_memory = False)\n",
    "df2 = pd.read_csv('carteira_medicina_familia_sintetica.csv',encoding='ISO-8859-1',delimiter=';',low_memory = False)"
   ]
  },
  {
   "cell_type": "code",
   "execution_count": 2,
   "metadata": {
    "ExecuteTime": {
     "end_time": "2020-11-28T12:03:53.758160Z",
     "start_time": "2020-11-28T12:03:53.749215Z"
    }
   },
   "outputs": [
    {
     "data": {
      "text/plain": [
       "8.76"
      ]
     },
     "execution_count": 2,
     "metadata": {},
     "output_type": "execute_result"
    }
   ],
   "source": [
    "x = [8, 1.8, 4.5, 4.5, 25]\n",
    "\n",
    "x_medio = sum(x)/len(x)\n",
    "\n",
    "x_medio"
   ]
  },
  {
   "cell_type": "markdown",
   "metadata": {},
   "source": [
    "### Exemplo 2\n",
    "\n",
    "Vamos calcular os valores médios das colunas de um dataframe do pandas."
   ]
  },
  {
   "cell_type": "code",
   "execution_count": 3,
   "metadata": {
    "ExecuteTime": {
     "end_time": "2020-11-28T12:03:53.790075Z",
     "start_time": "2020-11-28T12:03:53.760155Z"
    }
   },
   "outputs": [
    {
     "data": {
      "text/html": [
       "<div>\n",
       "<style scoped>\n",
       "    .dataframe tbody tr th:only-of-type {\n",
       "        vertical-align: middle;\n",
       "    }\n",
       "\n",
       "    .dataframe tbody tr th {\n",
       "        vertical-align: top;\n",
       "    }\n",
       "\n",
       "    .dataframe thead th {\n",
       "        text-align: right;\n",
       "    }\n",
       "</style>\n",
       "<table border=\"1\" class=\"dataframe\">\n",
       "  <thead>\n",
       "    <tr style=\"text-align: right;\">\n",
       "      <th></th>\n",
       "      <th>var_continua_1</th>\n",
       "      <th>var_continua_2</th>\n",
       "      <th>var_discreta_1</th>\n",
       "      <th>var_discreta_2</th>\n",
       "    </tr>\n",
       "  </thead>\n",
       "  <tbody>\n",
       "    <tr>\n",
       "      <th>0</th>\n",
       "      <td>52.1</td>\n",
       "      <td>18.2</td>\n",
       "      <td>4</td>\n",
       "      <td>47</td>\n",
       "    </tr>\n",
       "    <tr>\n",
       "      <th>1</th>\n",
       "      <td>41.5</td>\n",
       "      <td>886.7</td>\n",
       "      <td>9</td>\n",
       "      <td>50</td>\n",
       "    </tr>\n",
       "  </tbody>\n",
       "</table>\n",
       "</div>"
      ],
      "text/plain": [
       "   var_continua_1  var_continua_2  var_discreta_1  var_discreta_2\n",
       "0            52.1            18.2               4              47\n",
       "1            41.5           886.7               9              50"
      ]
     },
     "execution_count": 3,
     "metadata": {},
     "output_type": "execute_result"
    }
   ],
   "source": [
    "df_aux = df1[['var_continua_1', 'var_continua_2', 'var_discreta_1', 'var_discreta_2']]\n",
    "df_aux.head(2)"
   ]
  },
  {
   "cell_type": "code",
   "execution_count": 4,
   "metadata": {
    "ExecuteTime": {
     "end_time": "2020-11-28T12:03:53.812050Z",
     "start_time": "2020-11-28T12:03:53.791070Z"
    }
   },
   "outputs": [
    {
     "data": {
      "text/plain": [
       "var_continua_1     50.572\n",
       "var_continua_2    494.719\n",
       "var_discreta_1      5.080\n",
       "var_discreta_2     70.610\n",
       "dtype: float64"
      ]
     },
     "execution_count": 4,
     "metadata": {},
     "output_type": "execute_result"
    }
   ],
   "source": [
    "df_aux.mean()"
   ]
  },
  {
   "cell_type": "markdown",
   "metadata": {},
   "source": [
    "### Exemplo 3\n",
    "\n",
    "Outra maneira de calcular a média de uma coluna em específico do dataframe."
   ]
  },
  {
   "cell_type": "code",
   "execution_count": 5,
   "metadata": {
    "ExecuteTime": {
     "end_time": "2020-11-28T12:03:53.834959Z",
     "start_time": "2020-11-28T12:03:53.814011Z"
    }
   },
   "outputs": [
    {
     "name": "stdout",
     "output_type": "stream",
     "text": [
      "Média da coluna var_continua_1:  50.57199999999999\n",
      "Média da coluna var_continua_2:  494.719\n",
      "Média da coluna var_discreta_1:  5.08\n",
      "Média da coluna var_discreta_2:  70.61\n"
     ]
    }
   ],
   "source": [
    "print('Média da coluna var_continua_1: ', df1['var_continua_1'].mean(axis=0))\n",
    "\n",
    "print('Média da coluna var_continua_2: ', df1['var_continua_2'].mean(axis=0))\n",
    "\n",
    "print('Média da coluna var_discreta_1: ', df1['var_discreta_1'].mean(axis=0))\n",
    "\n",
    "print('Média da coluna var_discreta_2: ', df1['var_discreta_2'].mean(axis=0))"
   ]
  },
  {
   "cell_type": "code",
   "execution_count": 8,
   "metadata": {
    "ExecuteTime": {
     "end_time": "2020-11-28T12:04:39.830865Z",
     "start_time": "2020-11-28T12:04:39.825845Z"
    }
   },
   "outputs": [
    {
     "name": "stdout",
     "output_type": "stream",
     "text": [
      "Média da coluna var_continua_1: \n"
     ]
    },
    {
     "data": {
      "text/plain": [
       "50.57199999999999"
      ]
     },
     "execution_count": 8,
     "metadata": {},
     "output_type": "execute_result"
    }
   ],
   "source": [
    "# Ou então ... \n",
    "print('Média da coluna var_continua_1: ')\n",
    "df_aux.mean()['var_continua_1']"
   ]
  },
  {
   "cell_type": "markdown",
   "metadata": {},
   "source": [
    "### Exemplo 4\n",
    "\n",
    "Devemos sempre considerar o possível impacto de valores nulos em nossos cálculos.<br>\n",
    "\n",
    "Neste exemplo vamos trabalhar com dados missing em um dataframe"
   ]
  },
  {
   "cell_type": "code",
   "execution_count": 9,
   "metadata": {
    "ExecuteTime": {
     "end_time": "2020-11-28T12:04:44.610785Z",
     "start_time": "2020-11-28T12:04:44.599810Z"
    }
   },
   "outputs": [
    {
     "data": {
      "text/html": [
       "<div>\n",
       "<style scoped>\n",
       "    .dataframe tbody tr th:only-of-type {\n",
       "        vertical-align: middle;\n",
       "    }\n",
       "\n",
       "    .dataframe tbody tr th {\n",
       "        vertical-align: top;\n",
       "    }\n",
       "\n",
       "    .dataframe thead th {\n",
       "        text-align: right;\n",
       "    }\n",
       "</style>\n",
       "<table border=\"1\" class=\"dataframe\">\n",
       "  <thead>\n",
       "    <tr style=\"text-align: right;\">\n",
       "      <th></th>\n",
       "      <th>A</th>\n",
       "      <th>B</th>\n",
       "      <th>C</th>\n",
       "      <th>D</th>\n",
       "    </tr>\n",
       "  </thead>\n",
       "  <tbody>\n",
       "    <tr>\n",
       "      <th>0</th>\n",
       "      <td>12.0</td>\n",
       "      <td>4.0</td>\n",
       "      <td>25</td>\n",
       "      <td>14.0</td>\n",
       "    </tr>\n",
       "    <tr>\n",
       "      <th>1</th>\n",
       "      <td>34.0</td>\n",
       "      <td>2.0</td>\n",
       "      <td>16</td>\n",
       "      <td>23.0</td>\n",
       "    </tr>\n",
       "    <tr>\n",
       "      <th>2</th>\n",
       "      <td>25.0</td>\n",
       "      <td>54.0</td>\n",
       "      <td>11</td>\n",
       "      <td>NaN</td>\n",
       "    </tr>\n",
       "    <tr>\n",
       "      <th>3</th>\n",
       "      <td>NaN</td>\n",
       "      <td>3.0</td>\n",
       "      <td>13</td>\n",
       "      <td>12.0</td>\n",
       "    </tr>\n",
       "    <tr>\n",
       "      <th>4</th>\n",
       "      <td>11.0</td>\n",
       "      <td>NaN</td>\n",
       "      <td>28</td>\n",
       "      <td>16.0</td>\n",
       "    </tr>\n",
       "  </tbody>\n",
       "</table>\n",
       "</div>"
      ],
      "text/plain": [
       "      A     B   C     D\n",
       "0  12.0   4.0  25  14.0\n",
       "1  34.0   2.0  16  23.0\n",
       "2  25.0  54.0  11   NaN\n",
       "3   NaN   3.0  13  12.0\n",
       "4  11.0   NaN  28  16.0"
      ]
     },
     "execution_count": 9,
     "metadata": {},
     "output_type": "execute_result"
    }
   ],
   "source": [
    "df = pd.DataFrame({\"A\":[12, 34, 25, None, 11], \n",
    "                   \"B\":[4, 2, 54, 3, None], \n",
    "                   \"C\":[25, 16, 11, 13, 28],\n",
    "                   \"D\":[14, 23, None, 12, 16]})\n",
    "df.head()"
   ]
  },
  {
   "cell_type": "code",
   "execution_count": 10,
   "metadata": {
    "ExecuteTime": {
     "end_time": "2020-11-28T12:04:48.210060Z",
     "start_time": "2020-11-28T12:04:48.204077Z"
    }
   },
   "outputs": [
    {
     "data": {
      "text/plain": [
       "0    13.750000\n",
       "1    18.750000\n",
       "2    30.000000\n",
       "3     9.333333\n",
       "4    18.333333\n",
       "dtype: float64"
      ]
     },
     "execution_count": 10,
     "metadata": {},
     "output_type": "execute_result"
    }
   ],
   "source": [
    "# Por padrão o pandas realiza as operações por colunas.\n",
    "# BUG: Calcula a média de uma coluna\n",
    "df.mean(axis = 1) # ou ... df.mean(axis = 'columns')"
   ]
  },
  {
   "cell_type": "code",
   "execution_count": 11,
   "metadata": {
    "ExecuteTime": {
     "end_time": "2020-11-28T12:04:51.746058Z",
     "start_time": "2020-11-28T12:04:51.739110Z"
    }
   },
   "outputs": [
    {
     "data": {
      "text/plain": [
       "A    20.50\n",
       "B    15.75\n",
       "C    18.60\n",
       "D    16.25\n",
       "dtype: float64"
      ]
     },
     "execution_count": 11,
     "metadata": {},
     "output_type": "execute_result"
    }
   ],
   "source": [
    "# Calculando a média de uma linha\n",
    "df.mean(axis = 0) # ou ... df.mean(axis = 'index')"
   ]
  },
  {
   "cell_type": "code",
   "execution_count": 12,
   "metadata": {
    "ExecuteTime": {
     "end_time": "2020-11-28T12:04:55.432906Z",
     "start_time": "2020-11-28T12:04:55.425926Z"
    }
   },
   "outputs": [
    {
     "data": {
      "text/plain": [
       "A    20.50\n",
       "B    15.75\n",
       "C    18.60\n",
       "D    16.25\n",
       "dtype: float64"
      ]
     },
     "execution_count": 12,
     "metadata": {},
     "output_type": "execute_result"
    }
   ],
   "source": [
    "# Precisamos sempre considerar o possível impacto do não preenchimento de alguns valores em nossos cálculos.\n",
    "df.mean(skipna = True)"
   ]
  },
  {
   "cell_type": "markdown",
   "metadata": {},
   "source": [
    "### Exemplo 5\n",
    "\n",
    "Neste exemplo vamos trabalhar com dados missing em um dataframe, porém substituindo os dados missing do dataframe pelos nan do numpy."
   ]
  },
  {
   "cell_type": "code",
   "execution_count": 13,
   "metadata": {
    "ExecuteTime": {
     "end_time": "2020-11-28T12:04:59.394730Z",
     "start_time": "2020-11-28T12:04:59.353840Z"
    }
   },
   "outputs": [
    {
     "data": {
      "text/html": [
       "<div>\n",
       "<style scoped>\n",
       "    .dataframe tbody tr th:only-of-type {\n",
       "        vertical-align: middle;\n",
       "    }\n",
       "\n",
       "    .dataframe tbody tr th {\n",
       "        vertical-align: top;\n",
       "    }\n",
       "\n",
       "    .dataframe thead th {\n",
       "        text-align: right;\n",
       "    }\n",
       "</style>\n",
       "<table border=\"1\" class=\"dataframe\">\n",
       "  <thead>\n",
       "    <tr style=\"text-align: right;\">\n",
       "      <th></th>\n",
       "      <th>A</th>\n",
       "      <th>B</th>\n",
       "      <th>C</th>\n",
       "      <th>D</th>\n",
       "    </tr>\n",
       "  </thead>\n",
       "  <tbody>\n",
       "    <tr>\n",
       "      <th>0</th>\n",
       "      <td>12.0</td>\n",
       "      <td>4.0</td>\n",
       "      <td>25</td>\n",
       "      <td>14.0</td>\n",
       "    </tr>\n",
       "    <tr>\n",
       "      <th>1</th>\n",
       "      <td>34.0</td>\n",
       "      <td>2.0</td>\n",
       "      <td>16</td>\n",
       "      <td>23.0</td>\n",
       "    </tr>\n",
       "    <tr>\n",
       "      <th>2</th>\n",
       "      <td>25.0</td>\n",
       "      <td>54.0</td>\n",
       "      <td>11</td>\n",
       "      <td>NaN</td>\n",
       "    </tr>\n",
       "    <tr>\n",
       "      <th>3</th>\n",
       "      <td>NaN</td>\n",
       "      <td>3.0</td>\n",
       "      <td>13</td>\n",
       "      <td>12.0</td>\n",
       "    </tr>\n",
       "    <tr>\n",
       "      <th>4</th>\n",
       "      <td>11.0</td>\n",
       "      <td>NaN</td>\n",
       "      <td>28</td>\n",
       "      <td>16.0</td>\n",
       "    </tr>\n",
       "  </tbody>\n",
       "</table>\n",
       "</div>"
      ],
      "text/plain": [
       "      A     B   C     D\n",
       "0  12.0   4.0  25  14.0\n",
       "1  34.0   2.0  16  23.0\n",
       "2  25.0  54.0  11   NaN\n",
       "3   NaN   3.0  13  12.0\n",
       "4  11.0   NaN  28  16.0"
      ]
     },
     "execution_count": 13,
     "metadata": {},
     "output_type": "execute_result"
    }
   ],
   "source": [
    "df = pd.DataFrame({\"A\":[12, 34, 25, None, 11], \n",
    "                   \"B\":[4, 2, 54, 3, None], \n",
    "                   \"C\":[25, 16, 11, 13, 28],\n",
    "                   \"D\":[14, 23, None, 12, 16]}) \n",
    "\n",
    "# skip the Na values while finding the mean \n",
    "df.mean(axis = 1, skipna = True) \n",
    "\n",
    "import numpy as np\n",
    "\n",
    "df.fillna(value = np.nan, inplace=True)\n",
    "\n",
    "df"
   ]
  },
  {
   "cell_type": "markdown",
   "metadata": {},
   "source": [
    "Calculando a média das colunas do dataframe df sem dar o comando de pular dados missing. Python já interpreta os dados nan do numpy como valores que não podem ser considerados em cálculos."
   ]
  },
  {
   "cell_type": "code",
   "execution_count": 14,
   "metadata": {
    "ExecuteTime": {
     "end_time": "2020-11-28T12:05:03.366468Z",
     "start_time": "2020-11-28T12:05:03.359491Z"
    }
   },
   "outputs": [
    {
     "data": {
      "text/plain": [
       "A    20.50\n",
       "B    15.75\n",
       "C    18.60\n",
       "D    16.25\n",
       "dtype: float64"
      ]
     },
     "execution_count": 14,
     "metadata": {},
     "output_type": "execute_result"
    }
   ],
   "source": [
    "df.mean(axis = 0) "
   ]
  },
  {
   "cell_type": "markdown",
   "metadata": {},
   "source": [
    "### Exemplo 6\n",
    "\n",
    "Também podemos calcular as médias das linhas nos dataframes."
   ]
  },
  {
   "cell_type": "code",
   "execution_count": 15,
   "metadata": {
    "ExecuteTime": {
     "end_time": "2020-11-28T12:05:07.409912Z",
     "start_time": "2020-11-28T12:05:07.402928Z"
    }
   },
   "outputs": [
    {
     "data": {
      "text/plain": [
       "0    13.750000\n",
       "1    18.750000\n",
       "2    30.000000\n",
       "3     9.333333\n",
       "4    18.333333\n",
       "dtype: float64"
      ]
     },
     "execution_count": 15,
     "metadata": {},
     "output_type": "execute_result"
    }
   ],
   "source": [
    "df.mean(axis = 1) "
   ]
  },
  {
   "cell_type": "markdown",
   "metadata": {},
   "source": [
    "## Média ponderada\n",
    "\n",
    "Supondo um conjunto de medidas $x$\n",
    "\n",
    "\\begin{equation}\n",
    "x = x_1, x_2, x_3, \\cdots, x_n,\n",
    "\\end{equation}\n",
    "\n",
    "Sendo $n$ a quantidade de medidas $x_i$, e seja um conjunto de pesos $w$ \n",
    "\n",
    "\\begin{equation}\n",
    "w = w_1, w_2, w_3, \\cdots, w_n,\n",
    "\\end{equation}\n",
    "\n",
    "então a média ponderada amostral $\\bar{x}$ é dada pela seguinte equação.\n",
    "\n",
    "\\begin{equation}\n",
    "\\bar{x} = \\frac{w_1 x_1 + w_2 x_2 + w_3 x_3 + \\cdots + w_n x_n}{w_1 + w_2 + w_3 + ... + w_n} \n",
    "= \\frac{\\sum_{i=1}^{n} w_i x_i}{\\sum_{i=1}^{n} w_i},\n",
    "\\end{equation}\n",
    "\n",
    "### Exemplo 1"
   ]
  },
  {
   "cell_type": "code",
   "execution_count": 16,
   "metadata": {
    "ExecuteTime": {
     "end_time": "2020-11-28T12:05:11.237172Z",
     "start_time": "2020-11-28T12:05:11.229194Z"
    }
   },
   "outputs": [
    {
     "name": "stdout",
     "output_type": "stream",
     "text": [
      "x =  [8, 1.8, 2.5, 4, 28]\n",
      "w =  [1, 2, 3, 2.5, 1.5]\n",
      "soma(x) =  44.3\n",
      "soma(w) =  10.0\n",
      "soma(w x) =  71.1\n",
      "média ponderada =  7.109999999999999\n"
     ]
    }
   ],
   "source": [
    "x = [8, 1.8, 2.5, 4, 28]\n",
    "\n",
    "w = [1, 2, 3, 2.5, 1.5]\n",
    "\n",
    "soma_x = sum(x)\n",
    "\n",
    "soma_w = sum(w)\n",
    "\n",
    "soma_x_w = sum(w[i] * x[i] for i in range(len(x)))\n",
    "\n",
    "media_pond_x = soma_x_w / soma_w\n",
    "\n",
    "print('x = ', x)\n",
    "print('w = ', w)\n",
    "print('soma(x) = ', soma_x)\n",
    "print('soma(w) = ', soma_w)\n",
    "print('soma(w x) = ', soma_x_w)\n",
    "print('média ponderada = ', media_pond_x)"
   ]
  },
  {
   "cell_type": "markdown",
   "metadata": {},
   "source": [
    "### Exemplo 2\n",
    "\n",
    "Neste exemplo vamos utilizar o **dataframe instrucional**. Vamos criar uma nova coluna cujos valores são as **médias ponderadas** entre a **var_continua_1** (que fará o papel dos ***valores $x$***) e a coluna **peso_1** (que fará o papel dos ***pesos $w$***). "
   ]
  },
  {
   "cell_type": "code",
   "execution_count": 17,
   "metadata": {
    "ExecuteTime": {
     "end_time": "2020-11-28T12:05:15.091133Z",
     "start_time": "2020-11-28T12:05:15.081128Z"
    }
   },
   "outputs": [
    {
     "data": {
      "text/html": [
       "<div>\n",
       "<style scoped>\n",
       "    .dataframe tbody tr th:only-of-type {\n",
       "        vertical-align: middle;\n",
       "    }\n",
       "\n",
       "    .dataframe tbody tr th {\n",
       "        vertical-align: top;\n",
       "    }\n",
       "\n",
       "    .dataframe thead th {\n",
       "        text-align: right;\n",
       "    }\n",
       "</style>\n",
       "<table border=\"1\" class=\"dataframe\">\n",
       "  <thead>\n",
       "    <tr style=\"text-align: right;\">\n",
       "      <th></th>\n",
       "      <th>var_continua_1</th>\n",
       "      <th>peso_1</th>\n",
       "    </tr>\n",
       "  </thead>\n",
       "  <tbody>\n",
       "    <tr>\n",
       "      <th>0</th>\n",
       "      <td>52.1</td>\n",
       "      <td>0.010302</td>\n",
       "    </tr>\n",
       "    <tr>\n",
       "      <th>1</th>\n",
       "      <td>41.5</td>\n",
       "      <td>0.008206</td>\n",
       "    </tr>\n",
       "    <tr>\n",
       "      <th>2</th>\n",
       "      <td>55.2</td>\n",
       "      <td>0.010915</td>\n",
       "    </tr>\n",
       "    <tr>\n",
       "      <th>3</th>\n",
       "      <td>85.4</td>\n",
       "      <td>0.016887</td>\n",
       "    </tr>\n",
       "    <tr>\n",
       "      <th>4</th>\n",
       "      <td>77.6</td>\n",
       "      <td>0.015344</td>\n",
       "    </tr>\n",
       "  </tbody>\n",
       "</table>\n",
       "</div>"
      ],
      "text/plain": [
       "   var_continua_1    peso_1\n",
       "0            52.1  0.010302\n",
       "1            41.5  0.008206\n",
       "2            55.2  0.010915\n",
       "3            85.4  0.016887\n",
       "4            77.6  0.015344"
      ]
     },
     "execution_count": 17,
     "metadata": {},
     "output_type": "execute_result"
    }
   ],
   "source": [
    "# Vamos revisitar essas colunas do dataframe instrucional (df1).\n",
    "df1[['var_continua_1', 'peso_1']].head()"
   ]
  },
  {
   "cell_type": "code",
   "execution_count": 18,
   "metadata": {
    "ExecuteTime": {
     "end_time": "2020-11-28T12:05:19.031888Z",
     "start_time": "2020-11-28T12:05:19.003241Z"
    }
   },
   "outputs": [
    {
     "data": {
      "text/html": [
       "<div>\n",
       "<style scoped>\n",
       "    .dataframe tbody tr th:only-of-type {\n",
       "        vertical-align: middle;\n",
       "    }\n",
       "\n",
       "    .dataframe tbody tr th {\n",
       "        vertical-align: top;\n",
       "    }\n",
       "\n",
       "    .dataframe thead th {\n",
       "        text-align: right;\n",
       "    }\n",
       "</style>\n",
       "<table border=\"1\" class=\"dataframe\">\n",
       "  <thead>\n",
       "    <tr style=\"text-align: right;\">\n",
       "      <th></th>\n",
       "      <th>var_continua_1</th>\n",
       "      <th>peso_1</th>\n",
       "      <th>pond_var_continua_1_peso_1</th>\n",
       "    </tr>\n",
       "  </thead>\n",
       "  <tbody>\n",
       "    <tr>\n",
       "      <th>0</th>\n",
       "      <td>52.1</td>\n",
       "      <td>0.010302</td>\n",
       "      <td>0.536742</td>\n",
       "    </tr>\n",
       "    <tr>\n",
       "      <th>1</th>\n",
       "      <td>41.5</td>\n",
       "      <td>0.008206</td>\n",
       "      <td>0.340554</td>\n",
       "    </tr>\n",
       "    <tr>\n",
       "      <th>2</th>\n",
       "      <td>55.2</td>\n",
       "      <td>0.010915</td>\n",
       "      <td>0.602515</td>\n",
       "    </tr>\n",
       "    <tr>\n",
       "      <th>3</th>\n",
       "      <td>85.4</td>\n",
       "      <td>0.016887</td>\n",
       "      <td>1.442134</td>\n",
       "    </tr>\n",
       "    <tr>\n",
       "      <th>4</th>\n",
       "      <td>77.6</td>\n",
       "      <td>0.015344</td>\n",
       "      <td>1.190730</td>\n",
       "    </tr>\n",
       "  </tbody>\n",
       "</table>\n",
       "</div>"
      ],
      "text/plain": [
       "   var_continua_1    peso_1  pond_var_continua_1_peso_1\n",
       "0            52.1  0.010302                    0.536742\n",
       "1            41.5  0.008206                    0.340554\n",
       "2            55.2  0.010915                    0.602515\n",
       "3            85.4  0.016887                    1.442134\n",
       "4            77.6  0.015344                    1.190730"
      ]
     },
     "execution_count": 18,
     "metadata": {},
     "output_type": "execute_result"
    }
   ],
   "source": [
    "# Agora vamos calcular a média ponderada\n",
    "df1['pond_var_continua_1_peso_1'] = df1['var_continua_1'] * df1['peso_1'] / df1['peso_1'].sum()\n",
    "\n",
    "df1[['var_continua_1', 'peso_1','pond_var_continua_1_peso_1']].head()"
   ]
  },
  {
   "cell_type": "markdown",
   "metadata": {},
   "source": [
    "### Exemplo 3\n",
    "\n",
    "Neste exemplo vamos mostrar o que é a aritmética de ponto flutuante. Para isto, primeiramente note que a coluna do dataframe df1 nada mais é do que os valores da coluna var_continua_1 divididos pela soma total desta coluna. Você pode verificar que a coluna peso_1 tem sua soma aproximadamente igual a 1. Isto aconteceu, pois fizemos os cálculos para esta coluna utilizando o Excel, e toda operação aritmética carrega um erro de arredondamento dependendo do software utilizado, e estes erros são propagados e acumulados."
   ]
  },
  {
   "cell_type": "code",
   "execution_count": 19,
   "metadata": {
    "ExecuteTime": {
     "end_time": "2020-11-28T12:05:22.873103Z",
     "start_time": "2020-11-28T12:05:22.867155Z"
    }
   },
   "outputs": [
    {
     "data": {
      "text/plain": [
       "0.9999999970000001"
      ]
     },
     "execution_count": 19,
     "metadata": {},
     "output_type": "execute_result"
    }
   ],
   "source": [
    "df1['peso_1'].sum()"
   ]
  },
  {
   "cell_type": "markdown",
   "metadata": {},
   "source": [
    "Agora vamos demonstrar que se tivéssemos calculado a coluna peso_1 no próprio Python, obteríamos um valor exatamente igual a 1.0. Para isto observe o código abaixo, vamos criar uma nova coluna no dataframe instrucional df1 chamada de peso_1_check."
   ]
  },
  {
   "cell_type": "code",
   "execution_count": 20,
   "metadata": {
    "ExecuteTime": {
     "end_time": "2020-11-28T12:05:27.045995Z",
     "start_time": "2020-11-28T12:05:27.038017Z"
    }
   },
   "outputs": [
    {
     "data": {
      "text/plain": [
       "1.0"
      ]
     },
     "execution_count": 20,
     "metadata": {},
     "output_type": "execute_result"
    }
   ],
   "source": [
    "df1['peso_1_check'] = df1['var_continua_1'] / df1['var_continua_1'].sum()\n",
    "\n",
    "df1['peso_1_check'].sum()"
   ]
  },
  {
   "cell_type": "markdown",
   "metadata": {},
   "source": [
    "### Exemplo 4: Aritmética do ponto flutuante\n",
    "\n",
    "Agora vamos calcular a subtração entre a coluna peso_1_check e a coluna peso_1. Repare que os valores calculados nesta operação serão muito pequenos, da ordem de $10^{-10}$."
   ]
  },
  {
   "cell_type": "code",
   "execution_count": 21,
   "metadata": {
    "ExecuteTime": {
     "end_time": "2020-11-28T12:05:30.814304Z",
     "start_time": "2020-11-28T12:05:30.805338Z"
    }
   },
   "outputs": [
    {
     "data": {
      "text/plain": [
       "0     4.786048e-10\n",
       "1    -3.527644e-11\n",
       "2    -9.752432e-11\n",
       "3    -1.617496e-10\n",
       "4     3.846397e-10\n",
       "          ...     \n",
       "95   -4.290121e-10\n",
       "96   -9.871075e-11\n",
       "97    3.247647e-10\n",
       "98    1.764613e-10\n",
       "99   -2.184608e-10\n",
       "Length: 100, dtype: float64"
      ]
     },
     "execution_count": 21,
     "metadata": {},
     "output_type": "execute_result"
    }
   ],
   "source": [
    "df1['peso_1_check']  - df1['peso_1']"
   ]
  },
  {
   "cell_type": "markdown",
   "metadata": {},
   "source": [
    "## Moda\n",
    "\n",
    "A moda é o elemento mais frequente em um conjunto de dados $x = (x_1,x_2,x_3...,x_n)$. No caso de não haver um elemento que se destaque como o mais frequente, o conjunto de dados $x$ é chamado de multimodal. Por exemplo, considere o conjunto de dados $x = (2,3,4,2,5,9,0,2)$, o número 2 aparece três vezes no conjunto de dados $x$. Um exemplo de conjunto multimodal seria o seguinte $x = (2,3,4,2,5,9,0,2,3,1,3)$ os números 2 e 3 aparecem cada um três vezes no conjunto de dados.\n",
    "\n",
    "### Exemplo 1"
   ]
  },
  {
   "cell_type": "code",
   "execution_count": 22,
   "metadata": {
    "ExecuteTime": {
     "end_time": "2020-11-28T12:05:34.709916Z",
     "start_time": "2020-11-28T12:05:34.698945Z"
    }
   },
   "outputs": [
    {
     "name": "stdout",
     "output_type": "stream",
     "text": [
      "0     4\n",
      "1     9\n",
      "2     8\n",
      "3     1\n",
      "4     4\n",
      "     ..\n",
      "95    6\n",
      "96    9\n",
      "97    6\n",
      "98    2\n",
      "99    4\n",
      "Name: var_discreta_1, Length: 100, dtype: int64\n"
     ]
    },
    {
     "data": {
      "text/plain": [
       "1"
      ]
     },
     "execution_count": 22,
     "metadata": {},
     "output_type": "execute_result"
    }
   ],
   "source": [
    "import statistics as stat\n",
    "\n",
    "x = df1['var_discreta_1']\n",
    "\n",
    "print(x)\n",
    "\n",
    "stat.mode(x)"
   ]
  },
  {
   "cell_type": "markdown",
   "metadata": {},
   "source": [
    "### Exemplo 2\n",
    "\n",
    "O exemplo abaixo calcula a moda de um conjunto de dados $x$, porém apresenta um grave problema. Você consegue perceber qual seria este grave problema? Veja a resposta abaixo, mas procure refletir sobre o código deste problema antes de olhar o gabarito.\n",
    "\n",
    "R: O código abaixo calcula a moda apenas para conjuntos de dados que não sejam multimodais."
   ]
  },
  {
   "cell_type": "code",
   "execution_count": 23,
   "metadata": {
    "ExecuteTime": {
     "end_time": "2020-11-28T12:05:38.796208Z",
     "start_time": "2020-11-28T12:05:38.782240Z"
    }
   },
   "outputs": [
    {
     "data": {
      "text/plain": [
       "2"
      ]
     },
     "execution_count": 23,
     "metadata": {},
     "output_type": "execute_result"
    }
   ],
   "source": [
    "x = [2,3,4,2,5,9,0,2]\n",
    "\n",
    "moda_x = max((x.count(item), item) for item in set(x))[1]\n",
    "\n",
    "moda_x"
   ]
  },
  {
   "cell_type": "markdown",
   "metadata": {},
   "source": [
    "### Exemplo 3\n",
    "\n",
    "Como mostramos no exemplo anterior, o código calcula a moda para conjuntos de dados que não sejam multimodais, vamos observar o seguinte conjunto $x = (2,3,4,2,5,9,0,2,3,1,3)$. Como mencionamos anteriormente, este conjunto de dados é multimodal e seus elementos mais frequentes são (2,3)."
   ]
  },
  {
   "cell_type": "code",
   "execution_count": 24,
   "metadata": {
    "ExecuteTime": {
     "end_time": "2020-11-28T12:05:42.735524Z",
     "start_time": "2020-11-28T12:05:42.726512Z"
    }
   },
   "outputs": [
    {
     "data": {
      "text/plain": [
       "3"
      ]
     },
     "execution_count": 24,
     "metadata": {},
     "output_type": "execute_result"
    }
   ],
   "source": [
    "x = [2,3,4,2,5,9,0,2,3,1,3]\n",
    "\n",
    "moda_x = max((x.count(item), item) for item in set(x))[1]\n",
    "\n",
    "moda_x"
   ]
  },
  {
   "cell_type": "markdown",
   "metadata": {},
   "source": [
    "### Exemplo 4\n",
    "\n",
    "Quando executamos a função mode() para o conjunto de dados $x = (2,3,4,2,5,9,0,2,3,1,3)$ um erro é acusado. Isto acontece, pois o conjunto de dados é multimodal e o output da função deveria ser um conjunto de dados $(2,3)$, o que acontece é que a função mode() não consegue lidar com estruturas de dados que não sejam um escalar (número). A versão 3.8 do Python possui a função multimode() que resolve este problema."
   ]
  },
  {
   "cell_type": "code",
   "execution_count": 25,
   "metadata": {
    "ExecuteTime": {
     "end_time": "2020-11-28T12:05:46.493191Z",
     "start_time": "2020-11-28T12:05:46.486212Z"
    }
   },
   "outputs": [
    {
     "data": {
      "text/plain": [
       "2"
      ]
     },
     "execution_count": 25,
     "metadata": {},
     "output_type": "execute_result"
    }
   ],
   "source": [
    "x = [2,3,4,2,5,9,0,2,3,1,3]\n",
    "# Erro esperado:\n",
    "stat.mode(x)"
   ]
  },
  {
   "cell_type": "code",
   "execution_count": 26,
   "metadata": {
    "ExecuteTime": {
     "end_time": "2020-11-28T12:05:50.271570Z",
     "start_time": "2020-11-28T12:05:50.265622Z"
    }
   },
   "outputs": [
    {
     "data": {
      "text/plain": [
       "[2, 3]"
      ]
     },
     "execution_count": 26,
     "metadata": {},
     "output_type": "execute_result"
    }
   ],
   "source": [
    "x = [2,3,4,2,5,9,0,2,3,1,3]\n",
    "\n",
    "# Somente a partir do python v3.8\n",
    "stat.multimode(x)"
   ]
  },
  {
   "cell_type": "code",
   "execution_count": 27,
   "metadata": {
    "ExecuteTime": {
     "end_time": "2020-11-28T12:06:04.130091Z",
     "start_time": "2020-11-28T12:06:04.124107Z"
    }
   },
   "outputs": [
    {
     "data": {
      "text/plain": [
       "0    2\n",
       "1    3\n",
       "dtype: int64"
      ]
     },
     "execution_count": 27,
     "metadata": {},
     "output_type": "execute_result"
    }
   ],
   "source": [
    "x = [2,3,4,2,5,9,0,2,3,1,3]\n",
    "\n",
    "x = pd.Series(x)\n",
    "\n",
    "x.mode()"
   ]
  },
  {
   "cell_type": "code",
   "execution_count": 28,
   "metadata": {
    "ExecuteTime": {
     "end_time": "2020-11-28T12:06:07.771575Z",
     "start_time": "2020-11-28T12:06:07.763562Z"
    }
   },
   "outputs": [
    {
     "data": {
      "text/plain": [
       "0    25.1\n",
       "1    52.1\n",
       "2    55.8\n",
       "3    71.5\n",
       "4    86.8\n",
       "dtype: float64"
      ]
     },
     "execution_count": 28,
     "metadata": {},
     "output_type": "execute_result"
    }
   ],
   "source": [
    "df1['var_continua_1'].mode()"
   ]
  },
  {
   "cell_type": "markdown",
   "metadata": {
    "heading_collapsed": true
   },
   "source": [
    "## Mediana\n",
    "\n",
    "A mediana é definida como o valor central de um conjunto de valores ordenados $x$ de forma crescente,\n",
    "\n",
    "\\begin{equation}\n",
    "x = \\{x_1 < x_2 < x_3 < ...<  x_{n-1} < x_n\\},\n",
    "\\end{equation}\n",
    "\n",
    "ou de forma decrescente\n",
    "\n",
    "\\begin{equation}\n",
    "x = \\{x_1 > x_2 > x_3 > ... >  x_{n-1} > x_n\\},\n",
    "\\end{equation}\n",
    "\n",
    "\n",
    "que separa este conjunto em dois. Note que o conjunto de dados $x$ pode ter um número ímpar de termos ou um número par, ou seja $n$ pode ser ímpar ou par. O valor da mediana é o valor central $x_k$ onde $k$ é a posição do termo no conjunto, para o caso de $n$ ser ímpar o termo é calculado da seguinte maneira\n",
    "\n",
    "\\begin{equation}\n",
    "k = \\frac{1 + n}{2},\n",
    "\\end{equation}\n",
    "\n",
    "por exemplo vamos supor o conjunto de dados $x = (1,2,5,9,11)$ como existem cinco termos a mediana é o terceiro termo $(5+1)/2 = 3$, ou seja $med(x) = 5$. Para o caso de $n$ ser par a posição é calculada como a média aritmética entre os dois termos do meio que ocupam as posições $n/2$ e $(n+2)/2$, ou seja\n",
    "\n",
    "\\begin{equation}\n",
    "x_k = \\text{med}(x) = \\frac{x_{(n/2)} + x_{(n+2)/2}}{2}.\n",
    "\\end{equation}\n",
    "\n",
    "Vamos ilustrar com um exemplo, supondo o seguinte conjunto de dados $x = (1,2,5,9,11,21)$ que possui um número par de termos, neste caso $n=6$, então calculamos a mediana deste conjunto como a média aritmética dos termos $6/2 = 3$ e $(6 + 2)/2 = 4$, ou seja\n",
    "\n",
    "\\begin{equation}\n",
    "\\text{med}(x) = \\frac{x_3 + x_4}{2} = \\frac{5 + 9}{2} = 7.\n",
    "\\end{equation}\n",
    "\n",
    "Vale observar que para calcular a mediana é necessário que o conjunto de dados esteja devidamente ordenado, ou em ordem crescente ou em ordem decrescente e na maioria dos casos isto não ocorre, pois em um dataframe há diversas colunas sem nenhum tipo de causalidade, ou seja não é possível ordenar todas as colunas de uma vez, portanto é necessário realizar algumas operações estruturais para calcular a mediana de uma coluna de um dataframe.\n",
    "\n",
    "### Exemplo 1:\n",
    "\n",
    "Vamos calcular a mediana do conjunto de dados $x = (1,5,2,9,8,21,11,45,23,31,13,22,55,66,71,93,99,81)$."
   ]
  },
  {
   "cell_type": "code",
   "execution_count": null,
   "metadata": {
    "ExecuteTime": {
     "end_time": "2020-11-28T12:03:54.335617Z",
     "start_time": "2020-11-28T12:03:52.076Z"
    },
    "hidden": true
   },
   "outputs": [],
   "source": [
    "# definindo o conjunto x\n",
    "x = [1,5,2,9,8,21,11,45,23,31,13,22,55,66,71,93,99,81]\n",
    "\n",
    "# ordenando o conjunto x usando a função sorted()\n",
    "x_ordenado = sorted(x)\n",
    "\n",
    "# imprime x ordenado\n",
    "print('x ordenado =', x_ordenado)\n",
    "\n",
    "# calcula o número n de termos de x\n",
    "n = len(x)\n",
    "\n",
    "# imprime o valor de n\n",
    "print('n =',n)\n",
    "\n",
    "# cálculo da mediana de x\n",
    "if n % 2:\n",
    "    mediana_x = x_ordenado[round(0.5 * (n-1))]\n",
    "else:\n",
    "    indice = round(0.5 * n)\n",
    "    mediana_x = 0.5 * (x_ordenado[indice - 1] + x_ordenado[indice])\n",
    "print('mediana(x) =',mediana_x)"
   ]
  },
  {
   "cell_type": "markdown",
   "metadata": {
    "hidden": true
   },
   "source": [
    "### Exemplo 2\n",
    "\n",
    "Agora vamos organizar os cálculos realizados no exemplo anterior e criar um método em Python para calcular a mediana de um conjunto qualquer de dados."
   ]
  },
  {
   "cell_type": "code",
   "execution_count": null,
   "metadata": {
    "ExecuteTime": {
     "end_time": "2020-11-28T12:03:54.337612Z",
     "start_time": "2020-11-28T12:03:52.183Z"
    },
    "hidden": true
   },
   "outputs": [],
   "source": [
    "def mediana(x):\n",
    "    n = len(x)\n",
    "    x_ordenado = sorted(x)\n",
    "    if n % 2:\n",
    "        mediana_x = x_ordenado[round(0.5 * (n+1))]\n",
    "    else:\n",
    "        indice = round(0.5 * n)  \n",
    "        mediana_x = 0.5 * (x_ordenado[indice - 1] + x_ordenado[indice])\n",
    "    print(x_ordenado[indice])\n",
    "    print('x_ordenado =',x_ordenado)\n",
    "    print('n =',n)\n",
    "    print('mediana(x) =',mediana_x)"
   ]
  },
  {
   "cell_type": "code",
   "execution_count": null,
   "metadata": {
    "ExecuteTime": {
     "end_time": "2020-11-28T12:03:54.338609Z",
     "start_time": "2020-11-28T12:03:52.188Z"
    },
    "hidden": true
   },
   "outputs": [],
   "source": [
    "x = [1,5,2,9,8,21,11,45,23,31,13,22,55,66,71,93,99,81]\n",
    "\n",
    "mediana(x)"
   ]
  },
  {
   "cell_type": "markdown",
   "metadata": {
    "hidden": true
   },
   "source": [
    "### Exemplo 3"
   ]
  },
  {
   "cell_type": "code",
   "execution_count": null,
   "metadata": {
    "ExecuteTime": {
     "end_time": "2020-11-28T12:03:54.339606Z",
     "start_time": "2020-11-28T12:03:52.292Z"
    },
    "hidden": true
   },
   "outputs": [],
   "source": [
    "import statistics as stat\n",
    "\n",
    "x = [1,5,2,9,8,21,11,45,23,31,13,22,55,66,71,93,99,81]\n",
    "\n",
    "stat.median(x)"
   ]
  },
  {
   "cell_type": "markdown",
   "metadata": {
    "hidden": true
   },
   "source": [
    "### Exemplo 4\n",
    "\n",
    "Neste exemplo vamos calcular a mediana das colunas do dataframe instrucional df1."
   ]
  },
  {
   "cell_type": "code",
   "execution_count": null,
   "metadata": {
    "ExecuteTime": {
     "end_time": "2020-11-28T12:03:54.341601Z",
     "start_time": "2020-11-28T12:03:52.403Z"
    },
    "hidden": true
   },
   "outputs": [],
   "source": [
    "x = df1['var_continua_1']\n",
    "\n",
    "print('x_ordenado =',sorted(x))\n",
    "\n",
    "print('mediana(x) =',stat.median(x))"
   ]
  },
  {
   "cell_type": "code",
   "execution_count": null,
   "metadata": {
    "ExecuteTime": {
     "end_time": "2020-11-28T12:03:54.343596Z",
     "start_time": "2020-11-28T12:03:52.411Z"
    },
    "hidden": true
   },
   "outputs": [],
   "source": [
    "df1.head()"
   ]
  },
  {
   "cell_type": "code",
   "execution_count": null,
   "metadata": {
    "ExecuteTime": {
     "end_time": "2020-11-28T12:03:54.344599Z",
     "start_time": "2020-11-28T12:03:52.415Z"
    },
    "hidden": true
   },
   "outputs": [],
   "source": [
    "df1.groupby(['nominal_1']).agg({'var_continua_1':'median','var_continua_2':'mean'})"
   ]
  },
  {
   "cell_type": "markdown",
   "metadata": {
    "heading_collapsed": true
   },
   "source": [
    "## Desafio Proposto\n",
    "\n",
    "Quando trabalhamos com análises de dados, boa parte do nosso trabalho é estruturar uma tabela com dados, desde criar os inputs, ingestões das bases, mineração, tratamento e enriquecimento. O cientista de dados e os analistas (BI, analytics, negócios, etc) atuam mais na parte de enriquecimento. Aqui vamos propor um desafio sobre como enriquecer uma base. No dataframe instrucional temos duas variáveis contínuas e duas nominais, mas também é possível criar novas variáveis a partir de variáveis originais das tabelas de dados. Sabendo disto, crie faixas para agrupar a variável \"var_continua_1\" em grupos bem definidos e use a função groupby do pandas para contar a frequência de cada grupo criado.\n",
    "\n",
    "**Dicas:** Primeiro entenda qual a régua da variável, encontrando seus valores mínimos, média, mediana, máximo."
   ]
  },
  {
   "cell_type": "code",
   "execution_count": null,
   "metadata": {
    "hidden": true
   },
   "outputs": [],
   "source": []
  },
  {
   "cell_type": "markdown",
   "metadata": {},
   "source": [
    "## Desafio Proposto II.\n",
    "Temos futuros motoristas aguardando um exame de direção no centro de condutores. Um grande jornal noticiou demonstrou que mesmo como uma taxa de reprovação de 30% os motoristas recém aprovados cometiam um número enorme de infrações de trânsito. O governo então decidiu endurecer as regras para aprovação na prova. A partir de agora serão aprovadas somente as pessoas com habilidade acima de média entre os que partiparem da avaliação. Na prova final, o avaliador atribuia notas de 0 a 10 para os alunos.\n",
    "\n",
    "No entanto, durante a prova um aluno desistiu e recebeu a nota 0. O resultado final foi que todos que terminaram a prova foram aprovados. Discuta e investigue como isso pode ter ocorrido."
   ]
  },
  {
   "cell_type": "code",
   "execution_count": 29,
   "metadata": {
    "ExecuteTime": {
     "end_time": "2020-11-28T12:06:22.080745Z",
     "start_time": "2020-11-28T12:06:22.075785Z"
    }
   },
   "outputs": [
    {
     "data": {
      "text/plain": [
       "8.59"
      ]
     },
     "execution_count": 29,
     "metadata": {},
     "output_type": "execute_result"
    }
   ],
   "source": [
    "np.mean([0,8.7,8.7,9.0,9.5,10,10,10,10,10])"
   ]
  },
  {
   "cell_type": "code",
   "execution_count": 30,
   "metadata": {
    "ExecuteTime": {
     "end_time": "2020-11-28T12:06:25.552947Z",
     "start_time": "2020-11-28T12:06:25.545964Z"
    }
   },
   "outputs": [
    {
     "data": {
      "text/plain": [
       "9.8"
      ]
     },
     "execution_count": 30,
     "metadata": {},
     "output_type": "execute_result"
    }
   ],
   "source": [
    "np.median([0,8.7,8.7,9,9.6,10,10,10,10,10])"
   ]
  },
  {
   "cell_type": "code",
   "execution_count": 31,
   "metadata": {
    "ExecuteTime": {
     "end_time": "2020-11-28T12:06:29.250605Z",
     "start_time": "2020-11-28T12:06:29.245618Z"
    }
   },
   "outputs": [
    {
     "data": {
      "text/plain": [
       "8.6"
      ]
     },
     "execution_count": 31,
     "metadata": {},
     "output_type": "execute_result"
    }
   ],
   "source": [
    "(0+8.7+8.7+9+9.6+10+10+10+10+10)/10"
   ]
  },
  {
   "cell_type": "code",
   "execution_count": 32,
   "metadata": {
    "ExecuteTime": {
     "end_time": "2020-11-28T12:06:32.766510Z",
     "start_time": "2020-11-28T12:06:32.763532Z"
    }
   },
   "outputs": [],
   "source": [
    "import numpy as np"
   ]
  },
  {
   "cell_type": "code",
   "execution_count": 33,
   "metadata": {
    "ExecuteTime": {
     "end_time": "2020-11-28T12:06:36.247831Z",
     "start_time": "2020-11-28T12:06:36.241814Z"
    }
   },
   "outputs": [
    {
     "data": {
      "text/plain": [
       "8.59"
      ]
     },
     "execution_count": 33,
     "metadata": {},
     "output_type": "execute_result"
    }
   ],
   "source": [
    "np.mean([0,8.7,8.7,9.0,9.5,10,10,10,10,10])"
   ]
  },
  {
   "cell_type": "code",
   "execution_count": 34,
   "metadata": {
    "ExecuteTime": {
     "end_time": "2020-11-28T12:06:39.976138Z",
     "start_time": "2020-11-28T12:06:39.969123Z"
    }
   },
   "outputs": [
    {
     "data": {
      "text/plain": [
       "9.75"
      ]
     },
     "execution_count": 34,
     "metadata": {},
     "output_type": "execute_result"
    }
   ],
   "source": [
    "np.median([0,8.7,8.7,9.0,9.5,10,10,10,10,10])"
   ]
  },
  {
   "cell_type": "code",
   "execution_count": 35,
   "metadata": {
    "ExecuteTime": {
     "end_time": "2020-11-28T12:06:43.993803Z",
     "start_time": "2020-11-28T12:06:43.719547Z"
    }
   },
   "outputs": [
    {
     "data": {
      "text/plain": [
       "Text(0.5, 1.0, 'Distribuição Notas na prova final do CFC')"
      ]
     },
     "execution_count": 35,
     "metadata": {},
     "output_type": "execute_result"
    },
    {
     "data": {
      "image/png": "[encoded data removed]",
      "text/plain": [
       "<Figure size 432x288 with 1 Axes>"
      ]
     },
     "metadata": {
      "needs_background": "light"
     },
     "output_type": "display_data"
    }
   ],
   "source": [
    "notas_finais_cfc = [0,8.7,8.7,9.0,9.5,10,10,10,10,10]\n",
    "sns.distplot(notas_finais_cfc, color = 'skyblue', \n",
    "             label = 'nota_final_CFC', bins = 20).set_title('Distribuição Notas na prova final do CFC')"
   ]
  },
  {
   "cell_type": "code",
   "execution_count": 36,
   "metadata": {
    "ExecuteTime": {
     "end_time": "2020-11-28T12:06:47.756634Z",
     "start_time": "2020-11-28T12:06:47.749652Z"
    }
   },
   "outputs": [
    {
     "data": {
      "text/plain": [
       "8.59"
      ]
     },
     "execution_count": 36,
     "metadata": {},
     "output_type": "execute_result"
    }
   ],
   "source": [
    "np.mean([0,8.7,8.7,9.0,9.5,10,10,10,10,10])"
   ]
  },
  {
   "cell_type": "code",
   "execution_count": 37,
   "metadata": {
    "ExecuteTime": {
     "end_time": "2020-11-28T12:06:51.586654Z",
     "start_time": "2020-11-28T12:06:51.579673Z"
    }
   },
   "outputs": [
    {
     "data": {
      "text/plain": [
       "9.75"
      ]
     },
     "execution_count": 37,
     "metadata": {},
     "output_type": "execute_result"
    }
   ],
   "source": [
    "np.median([0,8.7,8.7,9.0,9.5,10,10,10,10,10])"
   ]
  },
  {
   "cell_type": "code",
   "execution_count": 38,
   "metadata": {
    "ExecuteTime": {
     "end_time": "2020-11-28T12:06:57.266507Z",
     "start_time": "2020-11-28T12:06:55.375303Z"
    }
   },
   "outputs": [
    {
     "data": {
      "text/html": [
       "<div>\n",
       "<style scoped>\n",
       "    .dataframe tbody tr th:only-of-type {\n",
       "        vertical-align: middle;\n",
       "    }\n",
       "\n",
       "    .dataframe tbody tr th {\n",
       "        vertical-align: top;\n",
       "    }\n",
       "\n",
       "    .dataframe thead th {\n",
       "        text-align: right;\n",
       "    }\n",
       "</style>\n",
       "<table border=\"1\" class=\"dataframe\">\n",
       "  <thead>\n",
       "    <tr style=\"text-align: right;\">\n",
       "      <th></th>\n",
       "      <th>id_patient</th>\n",
       "      <th>age_years</th>\n",
       "      <th>sex</th>\n",
       "      <th>number_of_children</th>\n",
       "      <th>flag_married</th>\n",
       "      <th>bmi_kg_m2</th>\n",
       "      <th>height_cm</th>\n",
       "      <th>weight_kg</th>\n",
       "      <th>hdl_mg_dl</th>\n",
       "      <th>ldl_mg_dl</th>\n",
       "      <th>...</th>\n",
       "      <th>index_systolic_blood_pressure</th>\n",
       "      <th>index_diastolic_blood_pressure</th>\n",
       "      <th>index_blood_pressure</th>\n",
       "      <th>sum_index_disease</th>\n",
       "      <th>avg_index_disease</th>\n",
       "      <th>target_index_disease</th>\n",
       "      <th>clients</th>\n",
       "      <th>unidade</th>\n",
       "      <th>mfc</th>\n",
       "      <th>new_score</th>\n",
       "    </tr>\n",
       "  </thead>\n",
       "  <tbody>\n",
       "    <tr>\n",
       "      <th>0</th>\n",
       "      <td>1</td>\n",
       "      <td>23.600347</td>\n",
       "      <td>1</td>\n",
       "      <td>0</td>\n",
       "      <td>0</td>\n",
       "      <td>23.765629</td>\n",
       "      <td>151.049106</td>\n",
       "      <td>54.223261</td>\n",
       "      <td>67.119601</td>\n",
       "      <td>94.935636</td>\n",
       "      <td>...</td>\n",
       "      <td>1</td>\n",
       "      <td>2</td>\n",
       "      <td>3</td>\n",
       "      <td>18</td>\n",
       "      <td>1.636364</td>\n",
       "      <td>0</td>\n",
       "      <td>client04</td>\n",
       "      <td>un06</td>\n",
       "      <td>mfc21</td>\n",
       "      <td>0.000006</td>\n",
       "    </tr>\n",
       "    <tr>\n",
       "      <th>1</th>\n",
       "      <td>2</td>\n",
       "      <td>28.180492</td>\n",
       "      <td>1</td>\n",
       "      <td>0</td>\n",
       "      <td>0</td>\n",
       "      <td>22.891895</td>\n",
       "      <td>161.449691</td>\n",
       "      <td>59.670019</td>\n",
       "      <td>69.234692</td>\n",
       "      <td>95.230407</td>\n",
       "      <td>...</td>\n",
       "      <td>1</td>\n",
       "      <td>2</td>\n",
       "      <td>3</td>\n",
       "      <td>18</td>\n",
       "      <td>1.636364</td>\n",
       "      <td>0</td>\n",
       "      <td>client04</td>\n",
       "      <td>un12</td>\n",
       "      <td>mfc39</td>\n",
       "      <td>0.000006</td>\n",
       "    </tr>\n",
       "    <tr>\n",
       "      <th>2</th>\n",
       "      <td>3</td>\n",
       "      <td>24.916474</td>\n",
       "      <td>1</td>\n",
       "      <td>0</td>\n",
       "      <td>0</td>\n",
       "      <td>25.687941</td>\n",
       "      <td>156.140406</td>\n",
       "      <td>62.626754</td>\n",
       "      <td>60.938429</td>\n",
       "      <td>99.944524</td>\n",
       "      <td>...</td>\n",
       "      <td>1</td>\n",
       "      <td>2</td>\n",
       "      <td>3</td>\n",
       "      <td>20</td>\n",
       "      <td>1.818182</td>\n",
       "      <td>0</td>\n",
       "      <td>client04</td>\n",
       "      <td>un09</td>\n",
       "      <td>mfc27</td>\n",
       "      <td>0.037970</td>\n",
       "    </tr>\n",
       "    <tr>\n",
       "      <th>3</th>\n",
       "      <td>4</td>\n",
       "      <td>28.489040</td>\n",
       "      <td>1</td>\n",
       "      <td>0</td>\n",
       "      <td>0</td>\n",
       "      <td>22.802512</td>\n",
       "      <td>163.527442</td>\n",
       "      <td>60.976709</td>\n",
       "      <td>62.430110</td>\n",
       "      <td>94.763726</td>\n",
       "      <td>...</td>\n",
       "      <td>1</td>\n",
       "      <td>2</td>\n",
       "      <td>3</td>\n",
       "      <td>19</td>\n",
       "      <td>1.727273</td>\n",
       "      <td>0</td>\n",
       "      <td>client05</td>\n",
       "      <td>un15</td>\n",
       "      <td>mfc51</td>\n",
       "      <td>0.000040</td>\n",
       "    </tr>\n",
       "    <tr>\n",
       "      <th>4</th>\n",
       "      <td>5</td>\n",
       "      <td>23.580738</td>\n",
       "      <td>1</td>\n",
       "      <td>0</td>\n",
       "      <td>0</td>\n",
       "      <td>23.347263</td>\n",
       "      <td>162.206615</td>\n",
       "      <td>61.428950</td>\n",
       "      <td>64.926035</td>\n",
       "      <td>85.078514</td>\n",
       "      <td>...</td>\n",
       "      <td>1</td>\n",
       "      <td>1</td>\n",
       "      <td>1</td>\n",
       "      <td>16</td>\n",
       "      <td>1.454545</td>\n",
       "      <td>0</td>\n",
       "      <td>client06</td>\n",
       "      <td>un02</td>\n",
       "      <td>mfc59</td>\n",
       "      <td>0.000009</td>\n",
       "    </tr>\n",
       "  </tbody>\n",
       "</table>\n",
       "<p>5 rows × 46 columns</p>\n",
       "</div>"
      ],
      "text/plain": [
       "   id_patient  age_years  sex  number_of_children  flag_married  bmi_kg_m2  \\\n",
       "0           1  23.600347    1                   0             0  23.765629   \n",
       "1           2  28.180492    1                   0             0  22.891895   \n",
       "2           3  24.916474    1                   0             0  25.687941   \n",
       "3           4  28.489040    1                   0             0  22.802512   \n",
       "4           5  23.580738    1                   0             0  23.347263   \n",
       "\n",
       "    height_cm  weight_kg  hdl_mg_dl  ldl_mg_dl  ...  \\\n",
       "0  151.049106  54.223261  67.119601  94.935636  ...   \n",
       "1  161.449691  59.670019  69.234692  95.230407  ...   \n",
       "2  156.140406  62.626754  60.938429  99.944524  ...   \n",
       "3  163.527442  60.976709  62.430110  94.763726  ...   \n",
       "4  162.206615  61.428950  64.926035  85.078514  ...   \n",
       "\n",
       "   index_systolic_blood_pressure  index_diastolic_blood_pressure  \\\n",
       "0                              1                               2   \n",
       "1                              1                               2   \n",
       "2                              1                               2   \n",
       "3                              1                               2   \n",
       "4                              1                               1   \n",
       "\n",
       "   index_blood_pressure  sum_index_disease  avg_index_disease  \\\n",
       "0                     3                 18           1.636364   \n",
       "1                     3                 18           1.636364   \n",
       "2                     3                 20           1.818182   \n",
       "3                     3                 19           1.727273   \n",
       "4                     1                 16           1.454545   \n",
       "\n",
       "   target_index_disease   clients  unidade    mfc  new_score  \n",
       "0                     0  client04     un06  mfc21   0.000006  \n",
       "1                     0  client04     un12  mfc39   0.000006  \n",
       "2                     0  client04     un09  mfc27   0.037970  \n",
       "3                     0  client05     un15  mfc51   0.000040  \n",
       "4                     0  client06     un02  mfc59   0.000009  \n",
       "\n",
       "[5 rows x 46 columns]"
      ]
     },
     "execution_count": 38,
     "metadata": {},
     "output_type": "execute_result"
    }
   ],
   "source": [
    "df2 = pd.read_csv('carteira_medicina_familia_sintetica.csv',encoding='ISO-8859-1',delimiter=';',low_memory = False)\n",
    "df2.head()"
   ]
  },
  {
   "cell_type": "code",
   "execution_count": 39,
   "metadata": {
    "ExecuteTime": {
     "end_time": "2020-11-28T12:07:01.705258Z",
     "start_time": "2020-11-28T12:07:01.405490Z"
    }
   },
   "outputs": [
    {
     "data": {
      "text/plain": [
       "Text(0.5, 1.0, 'Distribuição de Altura na Carteira de Medicina Familiar')"
      ]
     },
     "execution_count": 39,
     "metadata": {},
     "output_type": "execute_result"
    },
    {
     "data": {
      "image/png": "[encoded data removed]",
      "text/plain": [
       "<Figure size 432x288 with 1 Axes>"
      ]
     },
     "metadata": {
      "needs_background": "light"
     },
     "output_type": "display_data"
    }
   ],
   "source": [
    "sns.distplot(df2['height_cm'] , color = 'darkblue', \n",
    "             label = 'var_continua_1', \n",
    "             bins=10, hist=True).set_title('Distribuição de Altura na Carteira de Medicina Familiar')"
   ]
  },
  {
   "cell_type": "markdown",
   "metadata": {},
   "source": [
    "## Variância\n",
    "\n",
    "A variância, comumente designada pela letra grega sigma ao quadrado $\\sigma^2$ ou pela letra $S$ ou simplesmente $\\text{ var}(x)$ sendo x uma variável aleatória, é uma medida de dispersão estatística, ou seja avalia como os dados em uma dada amostra populacional está espalhada. A fórmula matemática para o cálculo da variância é dada pela equação a seguir\n",
    "\n",
    "\\begin{equation}\n",
    "\\sigma^2 = \\frac{1}{n-1}\\sum_{i = 1}^{}(x_i − \\bar{x})^2,\n",
    "\\end{equation}\n",
    "\n",
    "sendo $\\bar{x} = \\frac{1}{n}\\sum_i x_i$ a média da amostra.\n",
    "\n",
    "### Exemplo 1"
   ]
  },
  {
   "cell_type": "code",
   "execution_count": 41,
   "metadata": {
    "ExecuteTime": {
     "end_time": "2020-11-28T12:07:19.276411Z",
     "start_time": "2020-11-28T12:07:19.272423Z"
    }
   },
   "outputs": [
    {
     "name": "stdout",
     "output_type": "stream",
     "text": [
      "Media:  8.76\n"
     ]
    }
   ],
   "source": [
    "x = [8, 1.8, 4.5, 4.5, 25]\n",
    "\n",
    "x_media = np.mean(x)\n",
    "print('Media: ', x_media)"
   ]
  },
  {
   "cell_type": "code",
   "execution_count": 42,
   "metadata": {
    "ExecuteTime": {
     "end_time": "2020-11-28T12:07:23.029910Z",
     "start_time": "2020-11-28T12:07:23.024973Z"
    }
   },
   "outputs": [
    {
     "name": "stdout",
     "output_type": "stream",
     "text": [
      "Somatoria:  349.052\n"
     ]
    }
   ],
   "source": [
    "x_soma = (8 - x_media)**2 + (1.8 - x_media)**2 + (4.5 - x_media)**2 + (4.5 - x_media)**2 + (25 - x_media)**2\n",
    "print('Somatoria: ', x_soma)"
   ]
  },
  {
   "cell_type": "code",
   "execution_count": 43,
   "metadata": {
    "ExecuteTime": {
     "end_time": "2020-11-28T12:07:26.718701Z",
     "start_time": "2020-11-28T12:07:26.711719Z"
    }
   },
   "outputs": [
    {
     "name": "stdout",
     "output_type": "stream",
     "text": [
      "0.0\n"
     ]
    }
   ],
   "source": [
    "# Modo incorreto:\n",
    "print((8 - x_media) + (1.8 - x_media) + (4.5 - x_media) + (4.5 - x_media) + (25 - x_media))\n",
    "# "
   ]
  },
  {
   "cell_type": "code",
   "execution_count": 44,
   "metadata": {
    "ExecuteTime": {
     "end_time": "2020-11-28T12:07:30.611136Z",
     "start_time": "2020-11-28T12:07:30.606147Z"
    }
   },
   "outputs": [
    {
     "data": {
      "text/plain": [
       "0.25"
      ]
     },
     "execution_count": 44,
     "metadata": {},
     "output_type": "execute_result"
    }
   ],
   "source": [
    "1 / (5 - 1)"
   ]
  },
  {
   "cell_type": "code",
   "execution_count": 45,
   "metadata": {
    "ExecuteTime": {
     "end_time": "2020-11-28T12:07:34.244458Z",
     "start_time": "2020-11-28T12:07:34.238473Z"
    }
   },
   "outputs": [
    {
     "data": {
      "text/plain": [
       "87.263"
      ]
     },
     "execution_count": 45,
     "metadata": {},
     "output_type": "execute_result"
    }
   ],
   "source": [
    "# Variância: \n",
    "0.25 * 349.052"
   ]
  },
  {
   "cell_type": "code",
   "execution_count": 46,
   "metadata": {
    "ExecuteTime": {
     "end_time": "2020-11-28T12:07:37.898232Z",
     "start_time": "2020-11-28T12:07:37.886298Z"
    }
   },
   "outputs": [
    {
     "name": "stdout",
     "output_type": "stream",
     "text": [
      "Media 8.76\n"
     ]
    },
    {
     "data": {
      "text/plain": [
       "87.263"
      ]
     },
     "execution_count": 46,
     "metadata": {},
     "output_type": "execute_result"
    }
   ],
   "source": [
    "x = [8, 1.8, 4.5, 4.5, 25]\n",
    "\n",
    "media_x = np.mean(x)\n",
    "\n",
    "print('Media', media_x)\n",
    "\n",
    "# Parte inicial da equação da variância\n",
    "val_1 = 1/(5-1)\n",
    "\n",
    "# Parte final da equação da variância\n",
    "val_2 = (8- media_x)**2 + (1.8 - media_x)**2 + (4.5 - media_x)**2 + (4.5 - media_x)**2 + (25 - media_x)**2\n",
    "\n",
    "# Modo errado, sem elevar ao quadrado\n",
    "#val_2 = (8- media_x) + (1.8 - media_x) + (4.5 - media_x) + (4.5 - media_x) + (25 - media_x)\n",
    "          \n",
    "\n",
    "# Variância\n",
    "val_1 * val_2"
   ]
  },
  {
   "cell_type": "code",
   "execution_count": 47,
   "metadata": {
    "ExecuteTime": {
     "end_time": "2020-11-28T12:07:41.698621Z",
     "start_time": "2020-11-28T12:07:41.676684Z"
    }
   },
   "outputs": [
    {
     "name": "stdout",
     "output_type": "stream",
     "text": [
      "87.263\n"
     ]
    }
   ],
   "source": [
    "x = [8, 1.8, 4.5, 4.5, 25]\n",
    "\n",
    "n = len(x)\n",
    "mean_ = sum(x) / n\n",
    "var_ = sum((item - mean_)**2 for item in x) / (n - 1)\n",
    "print(var_)"
   ]
  },
  {
   "cell_type": "code",
   "execution_count": 48,
   "metadata": {
    "ExecuteTime": {
     "end_time": "2020-11-28T12:07:45.818439Z",
     "start_time": "2020-11-28T12:07:45.812456Z"
    }
   },
   "outputs": [
    {
     "data": {
      "text/plain": [
       "87.263"
      ]
     },
     "execution_count": 48,
     "metadata": {},
     "output_type": "execute_result"
    }
   ],
   "source": [
    "# import statistics\n",
    "statistics.variance(x)"
   ]
  },
  {
   "cell_type": "code",
   "execution_count": 49,
   "metadata": {
    "ExecuteTime": {
     "end_time": "2020-11-28T12:07:59.840734Z",
     "start_time": "2020-11-28T12:07:59.834752Z"
    }
   },
   "outputs": [
    {
     "data": {
      "text/plain": [
       "87.263"
      ]
     },
     "execution_count": 49,
     "metadata": {},
     "output_type": "execute_result"
    }
   ],
   "source": [
    "# Método do Raphael\n",
    "def variancia(i):\n",
    "    media = np.mean(i)\n",
    "    soma = 0\n",
    "    for x in i:\n",
    "        soma += (x - media)**2\n",
    "    return soma / (len(i)-1)\n",
    "\n",
    "\n",
    "variancia(i = [8, 1.8, 4.5, 4.5, 25])"
   ]
  },
  {
   "cell_type": "markdown",
   "metadata": {},
   "source": [
    "### Exemplo 2\n",
    "\n",
    "Calculando a variância da altura da amostra Distribuição de Altura na Carteira de Medicina Familiar"
   ]
  },
  {
   "cell_type": "code",
   "execution_count": 50,
   "metadata": {
    "ExecuteTime": {
     "end_time": "2020-11-28T12:08:03.563212Z",
     "start_time": "2020-11-28T12:08:03.556219Z"
    }
   },
   "outputs": [
    {
     "data": {
      "text/plain": [
       "30.332794173289436"
      ]
     },
     "execution_count": 50,
     "metadata": {},
     "output_type": "execute_result"
    }
   ],
   "source": [
    "df2['height_cm'].var()"
   ]
  },
  {
   "cell_type": "code",
   "execution_count": 51,
   "metadata": {
    "ExecuteTime": {
     "end_time": "2020-11-28T12:08:07.240388Z",
     "start_time": "2020-11-28T12:08:07.230415Z"
    }
   },
   "outputs": [
    {
     "data": {
      "text/plain": [
       "0     151.049106\n",
       "1     161.449691\n",
       "2     156.140406\n",
       "3     163.527442\n",
       "4     162.206615\n",
       "5     158.539932\n",
       "6     159.664250\n",
       "7     161.319338\n",
       "8     157.023768\n",
       "9     162.745233\n",
       "10    161.192918\n",
       "11    164.688890\n",
       "12    160.282837\n",
       "13    160.427520\n",
       "14    156.625667\n",
       "15    159.050400\n",
       "16    163.166785\n",
       "17    164.668160\n",
       "18    155.142977\n",
       "19    160.278368\n",
       "Name: height_cm, dtype: float64"
      ]
     },
     "execution_count": 51,
     "metadata": {},
     "output_type": "execute_result"
    }
   ],
   "source": [
    "df2['height_cm'][:20]"
   ]
  },
  {
   "cell_type": "code",
   "execution_count": 52,
   "metadata": {
    "ExecuteTime": {
     "end_time": "2020-11-28T12:08:11.031340Z",
     "start_time": "2020-11-28T12:08:11.025367Z"
    }
   },
   "outputs": [
    {
     "data": {
      "text/plain": [
       "166.30274172077557"
      ]
     },
     "execution_count": 52,
     "metadata": {},
     "output_type": "execute_result"
    }
   ],
   "source": [
    "df2['height_cm'].mean()"
   ]
  },
  {
   "cell_type": "code",
   "execution_count": 53,
   "metadata": {
    "ExecuteTime": {
     "end_time": "2020-11-28T12:08:15.187191Z",
     "start_time": "2020-11-28T12:08:15.183164Z"
    }
   },
   "outputs": [
    {
     "data": {
      "text/plain": [
       "160.5"
      ]
     },
     "execution_count": 53,
     "metadata": {},
     "output_type": "execute_result"
    }
   ],
   "source": [
    "# Limite Inferior\n",
    "166 - 5.5"
   ]
  },
  {
   "cell_type": "code",
   "execution_count": 54,
   "metadata": {
    "ExecuteTime": {
     "end_time": "2020-11-28T12:08:18.987263Z",
     "start_time": "2020-11-28T12:08:18.981247Z"
    }
   },
   "outputs": [
    {
     "data": {
      "text/plain": [
       "171.5"
      ]
     },
     "execution_count": 54,
     "metadata": {},
     "output_type": "execute_result"
    }
   ],
   "source": [
    "# Limite Superior\n",
    "166 + 5.5"
   ]
  },
  {
   "cell_type": "code",
   "execution_count": 55,
   "metadata": {
    "ExecuteTime": {
     "end_time": "2020-11-28T12:08:22.726684Z",
     "start_time": "2020-11-28T12:08:22.720697Z"
    }
   },
   "outputs": [
    {
     "data": {
      "text/plain": [
       "0    151.049106\n",
       "1    161.449691\n",
       "2    156.140406\n",
       "3    163.527442\n",
       "4    162.206615\n",
       "5    158.539932\n",
       "6    159.664250\n",
       "7    161.319338\n",
       "8    157.023768\n",
       "9    162.745233\n",
       "Name: height_cm, dtype: float64"
      ]
     },
     "execution_count": 55,
     "metadata": {},
     "output_type": "execute_result"
    }
   ],
   "source": [
    "[160.5, 171.5]\n",
    "\n",
    "df2['height_cm'][:10]"
   ]
  },
  {
   "cell_type": "code",
   "execution_count": 56,
   "metadata": {
    "ExecuteTime": {
     "end_time": "2020-11-28T12:08:26.393585Z",
     "start_time": "2020-11-28T12:08:26.386603Z"
    }
   },
   "outputs": [
    {
     "data": {
      "text/plain": [
       "150    161.141250\n",
       "151    164.232163\n",
       "152    157.269379\n",
       "153    163.098530\n",
       "154    158.618594\n",
       "155    168.260732\n",
       "156    163.602296\n",
       "157    160.027963\n",
       "158    161.151716\n",
       "159    167.764784\n",
       "Name: height_cm, dtype: float64"
      ]
     },
     "execution_count": 56,
     "metadata": {},
     "output_type": "execute_result"
    }
   ],
   "source": [
    "df2['height_cm'][150:160]"
   ]
  },
  {
   "cell_type": "markdown",
   "metadata": {},
   "source": [
    "## Desvio Padrão\n",
    "\n",
    "O desvio padrão da amostra está relacionado diretamente a variância. Ele é calculado pela raiz quadrada da variância. É uma medida muito mais útil que a variância por está na mesma unidade que os dados, facilitando sua interpretação.\n",
    "\n",
    "\\begin{equation}\n",
    "\\sigma = \\sqrt{\\frac{1}{n-1}\\sum_{i=1}^{n}(x_i - \\bar{x})^2}.\n",
    "\\end{equation}\n",
    "\n",
    "### Exemplo 1"
   ]
  },
  {
   "cell_type": "code",
   "execution_count": 57,
   "metadata": {
    "ExecuteTime": {
     "end_time": "2020-11-28T12:08:30.297000Z",
     "start_time": "2020-11-28T12:08:30.290018Z"
    }
   },
   "outputs": [
    {
     "data": {
      "text/plain": [
       "5.5072679252057455"
      ]
     },
     "execution_count": 57,
     "metadata": {},
     "output_type": "execute_result"
    }
   ],
   "source": [
    "np.sqrt(30.33)"
   ]
  },
  {
   "cell_type": "code",
   "execution_count": 58,
   "metadata": {
    "ExecuteTime": {
     "end_time": "2020-11-28T12:08:34.029196Z",
     "start_time": "2020-11-28T12:08:34.008252Z"
    }
   },
   "outputs": [
    {
     "name": "stdout",
     "output_type": "stream",
     "text": [
      "9.341466694261667\n"
     ]
    }
   ],
   "source": [
    "x = [8, 1.8, 4.5, 4.5, 25]\n",
    "\n",
    "n = len(x)\n",
    "mean_ = sum(x) / n\n",
    "var_ = sum((item - mean_)**2 for item in x) / (n - 1)\n",
    "\n",
    "sd = var_ ** 0.5\n",
    "\n",
    "# ou\n",
    "\n",
    "sd = np.sqrt(var_)\n",
    "\n",
    "print(sd)"
   ]
  },
  {
   "cell_type": "code",
   "execution_count": 59,
   "metadata": {
    "ExecuteTime": {
     "end_time": "2020-11-28T12:08:37.876668Z",
     "start_time": "2020-11-28T12:08:37.871682Z"
    }
   },
   "outputs": [
    {
     "data": {
      "text/plain": [
       "9.341466694261667"
      ]
     },
     "execution_count": 59,
     "metadata": {},
     "output_type": "execute_result"
    }
   ],
   "source": [
    "statistics.variance(x) ** .5"
   ]
  },
  {
   "cell_type": "code",
   "execution_count": 60,
   "metadata": {
    "ExecuteTime": {
     "end_time": "2020-11-28T12:08:41.813068Z",
     "start_time": "2020-11-28T12:08:41.808077Z"
    }
   },
   "outputs": [
    {
     "data": {
      "text/plain": [
       "9.341466694261667"
      ]
     },
     "execution_count": 60,
     "metadata": {},
     "output_type": "execute_result"
    }
   ],
   "source": [
    "statistics.stdev(x)"
   ]
  },
  {
   "cell_type": "markdown",
   "metadata": {},
   "source": [
    "### Exemplo 2\n",
    "\n",
    "Calculando a variância da altura da amostra Distribuição de Altura na Carteira de Medicina Familiar"
   ]
  },
  {
   "cell_type": "code",
   "execution_count": 61,
   "metadata": {
    "ExecuteTime": {
     "end_time": "2020-11-28T12:08:45.758242Z",
     "start_time": "2020-11-28T12:08:45.751262Z"
    }
   },
   "outputs": [
    {
     "data": {
      "text/plain": [
       "5.507521599893135"
      ]
     },
     "execution_count": 61,
     "metadata": {},
     "output_type": "execute_result"
    }
   ],
   "source": [
    "df2['height_cm'].std()"
   ]
  },
  {
   "cell_type": "code",
   "execution_count": 62,
   "metadata": {
    "ExecuteTime": {
     "end_time": "2020-11-28T12:08:49.609466Z",
     "start_time": "2020-11-28T12:08:49.603483Z"
    }
   },
   "outputs": [
    {
     "data": {
      "text/plain": [
       "166.30274172077557"
      ]
     },
     "execution_count": 62,
     "metadata": {},
     "output_type": "execute_result"
    }
   ],
   "source": [
    "df2['height_cm'].mean()"
   ]
  },
  {
   "cell_type": "code",
   "execution_count": 63,
   "metadata": {
    "ExecuteTime": {
     "end_time": "2020-11-28T12:08:53.305383Z",
     "start_time": "2020-11-28T12:08:53.300365Z"
    }
   },
   "outputs": [
    {
     "data": {
      "text/plain": [
       "160.5"
      ]
     },
     "execution_count": 63,
     "metadata": {},
     "output_type": "execute_result"
    }
   ],
   "source": [
    "# Limite Inferior\n",
    "166-5.5"
   ]
  },
  {
   "cell_type": "code",
   "execution_count": 64,
   "metadata": {
    "ExecuteTime": {
     "end_time": "2020-11-28T12:08:57.207494Z",
     "start_time": "2020-11-28T12:08:57.198518Z"
    }
   },
   "outputs": [
    {
     "data": {
      "text/plain": [
       "171.5"
      ]
     },
     "execution_count": 64,
     "metadata": {},
     "output_type": "execute_result"
    }
   ],
   "source": [
    "# Limite Superior\n",
    "166+5.5"
   ]
  },
  {
   "cell_type": "code",
   "execution_count": 65,
   "metadata": {
    "ExecuteTime": {
     "end_time": "2020-11-28T12:09:01.431215Z",
     "start_time": "2020-11-28T12:09:01.424245Z"
    }
   },
   "outputs": [
    {
     "name": "stdout",
     "output_type": "stream",
     "text": [
      "[180.84360807 162.02549166 171.07675771 167.36931802 174.46364496\n",
      " 160.52062997 151.19314672 170.53939851 162.68302061 164.52216509\n",
      " 167.9376745  161.30228371 158.45581989 159.22503301 161.97480531\n",
      " 158.15111191 162.44070117 167.74800397 161.82139799 171.03863826\n",
      " 168.07015882 162.73962011 161.04243808 170.25239285 159.55955955\n",
      " 174.48282265 165.20514975 169.3444075  163.57931533 165.50542318]\n"
     ]
    }
   ],
   "source": [
    "from numpy import random as rdn\n",
    "\n",
    "x = rdn.normal(loc = 166, scale = 5.5,size=30)\n",
    "\n",
    "print(x)"
   ]
  },
  {
   "cell_type": "code",
   "execution_count": 66,
   "metadata": {
    "ExecuteTime": {
     "end_time": "2020-11-28T12:09:05.448127Z",
     "start_time": "2020-11-28T12:09:05.441113Z"
    }
   },
   "outputs": [
    {
     "data": {
      "text/plain": [
       "array([1.74832019, 1.63844679, 1.83446582, 1.70787612, 1.74624203,\n",
       "       1.59120588, 1.63756228, 1.76299084, 1.73592421, 1.72249678,\n",
       "       1.85523523, 1.74416182, 1.71985954, 1.68471754, 1.8385461 ,\n",
       "       1.76782601, 1.68286153, 1.8579132 , 1.76949145, 1.68019647])"
      ]
     },
     "execution_count": 66,
     "metadata": {},
     "output_type": "execute_result"
    }
   ],
   "source": [
    "# População Brasileira\n",
    "altura_media = 173.1/100\n",
    "desvio_padrao = 7.3/100\n",
    "\n",
    "x = rdn.normal(loc=altura_media, scale=desvio_padrao, size=1000)\n",
    "x[:20]"
   ]
  },
  {
   "cell_type": "code",
   "execution_count": 67,
   "metadata": {
    "ExecuteTime": {
     "end_time": "2020-11-28T12:09:10.130271Z",
     "start_time": "2020-11-28T12:09:09.918878Z"
    }
   },
   "outputs": [
    {
     "data": {
      "text/plain": [
       "<matplotlib.axes._subplots.AxesSubplot at 0x1fd8b26eeb0>"
      ]
     },
     "execution_count": 67,
     "metadata": {},
     "output_type": "execute_result"
    },
    {
     "data": {
      "image/png": "[encoded data removed]",
      "text/plain": [
       "<Figure size 432x288 with 1 Axes>"
      ]
     },
     "metadata": {
      "needs_background": "light"
     },
     "output_type": "display_data"
    }
   ],
   "source": [
    "sns.distplot(x, hist=True, kde=False)"
   ]
  },
  {
   "cell_type": "code",
   "execution_count": 68,
   "metadata": {
    "ExecuteTime": {
     "end_time": "2020-11-28T12:09:14.952644Z",
     "start_time": "2020-11-28T12:09:14.705794Z"
    }
   },
   "outputs": [
    {
     "data": {
      "text/plain": [
       "<matplotlib.axes._subplots.AxesSubplot at 0x1fd8b132190>"
      ]
     },
     "execution_count": 68,
     "metadata": {},
     "output_type": "execute_result"
    },
    {
     "data": {
      "image/png": "[encoded data removed]",
      "text/plain": [
       "<Figure size 432x288 with 1 Axes>"
      ]
     },
     "metadata": {
      "needs_background": "light"
     },
     "output_type": "display_data"
    }
   ],
   "source": [
    "sns.distplot(x, hist=True, kde=True)"
   ]
  },
  {
   "cell_type": "code",
   "execution_count": 69,
   "metadata": {
    "ExecuteTime": {
     "end_time": "2020-11-28T12:09:19.307525Z",
     "start_time": "2020-11-28T12:09:19.299581Z"
    }
   },
   "outputs": [
    {
     "name": "stdout",
     "output_type": "stream",
     "text": [
      "Altura Media Curso: 1.714\n",
      "Desv Pad Curso: 0.09\n"
     ]
    }
   ],
   "source": [
    "# População Brasileira\n",
    "altura_media = 1.73\n",
    "desvio_padrao = 0.07\n",
    "\n",
    "# Amostra do Curso\n",
    "amostra_curso = [1.78, 1.88, 1.65, 1.70, 1.62, 1.55, 1.77, 1.82, 1.75, 1.75, 1.53, 1.58, 1.85, 1.75, 1.62, 1.76, 1.82, 1.68,\n",
    "1.78, 1.68, 1.60, 1.81, 1.60, 1.85, 1.83, 1.66, 1.64, 1.83, 1.57, 1.67, 1.75, 1.65, 1.79, 1.67, 1.75]\n",
    "\n",
    "altura_media_curso = np.mean(amostra_curso)\n",
    "print('Altura Media Curso:', altura_media_curso)\n",
    "\n",
    "desv_pad_curso = round(np.std(amostra_curso),2)\n",
    "print('Desv Pad Curso:', desv_pad_curso)"
   ]
  },
  {
   "cell_type": "code",
   "execution_count": 70,
   "metadata": {
    "ExecuteTime": {
     "end_time": "2020-11-28T12:09:23.885248Z",
     "start_time": "2020-11-28T12:09:23.641898Z"
    }
   },
   "outputs": [
    {
     "data": {
      "image/png": "[encoded data removed]",
      "text/plain": [
       "<Figure size 432x288 with 1 Axes>"
      ]
     },
     "metadata": {
      "needs_background": "light"
     },
     "output_type": "display_data"
    }
   ],
   "source": [
    "x = rdn.normal(loc=altura_media, scale=desvio_padrao, size=1000)\n",
    "x2 = rdn.normal(loc=1.51, scale=0.09, size=1000)\n",
    "\n",
    "sns.distplot(x, hist=True, kde=False)\n",
    "sns.distplot(x2, hist=True, kde=False);"
   ]
  },
  {
   "cell_type": "code",
   "execution_count": 71,
   "metadata": {
    "ExecuteTime": {
     "end_time": "2020-11-28T12:09:28.788808Z",
     "start_time": "2020-11-28T12:09:28.633180Z"
    }
   },
   "outputs": [
    {
     "data": {
      "image/png": "[encoded data removed]",
      "text/plain": [
       "<Figure size 432x288 with 1 Axes>"
      ]
     },
     "metadata": {
      "needs_background": "light"
     },
     "output_type": "display_data"
    }
   ],
   "source": [
    "sns.distplot(x, hist=False, kde=True)\n",
    "sns.distplot(x2, hist=False, kde=True);"
   ]
  },
  {
   "cell_type": "markdown",
   "metadata": {},
   "source": [
    "## Propriedades da Distribuição Normal"
   ]
  },
  {
   "cell_type": "code",
   "execution_count": 72,
   "metadata": {
    "ExecuteTime": {
     "end_time": "2020-11-28T12:09:33.791253Z",
     "start_time": "2020-11-28T12:09:33.784270Z"
    }
   },
   "outputs": [
    {
     "name": "stdout",
     "output_type": "stream",
     "text": [
      "Altura Media Curso: 1.714\n",
      "Desv Pad Curso: 0.09\n"
     ]
    }
   ],
   "source": [
    "altura_media_curso = np.mean(amostra_curso)\n",
    "print('Altura Media Curso:', altura_media_curso)\n",
    "\n",
    "desv_pad_curso = round(np.std(amostra_curso),2)\n",
    "print('Desv Pad Curso:', desv_pad_curso)"
   ]
  },
  {
   "cell_type": "code",
   "execution_count": 73,
   "metadata": {
    "ExecuteTime": {
     "end_time": "2020-11-28T12:09:38.912574Z",
     "start_time": "2020-11-28T12:09:38.907588Z"
    }
   },
   "outputs": [
    {
     "data": {
      "text/plain": [
       "1.534"
      ]
     },
     "execution_count": 73,
     "metadata": {},
     "output_type": "execute_result"
    }
   ],
   "source": [
    "# Limite inferior (2 sd)\n",
    "1.714 - 2 * 0.09"
   ]
  },
  {
   "cell_type": "code",
   "execution_count": 74,
   "metadata": {
    "ExecuteTime": {
     "end_time": "2020-11-28T12:09:43.653449Z",
     "start_time": "2020-11-28T12:09:43.647503Z"
    }
   },
   "outputs": [
    {
     "data": {
      "text/plain": [
       "1.894"
      ]
     },
     "execution_count": 74,
     "metadata": {},
     "output_type": "execute_result"
    }
   ],
   "source": [
    "# Limite Superior (2 sd)\n",
    "1.714 + 2 * 0.09"
   ]
  },
  {
   "cell_type": "code",
   "execution_count": 75,
   "metadata": {
    "ExecuteTime": {
     "end_time": "2020-11-28T12:09:48.210836Z",
     "start_time": "2020-11-28T12:09:48.203854Z"
    }
   },
   "outputs": [
    {
     "data": {
      "text/html": [
       "<img src=\"https://www.statisticshowto.com/wp-content/uploads/2013/02/standard-normal-distribution.jpg\"/>"
      ],
      "text/plain": [
       "<IPython.core.display.Image object>"
      ]
     },
     "execution_count": 75,
     "metadata": {},
     "output_type": "execute_result"
    }
   ],
   "source": [
    "#Mais detalhes: https://www.statisticshowto.com/probability-and-statistics/normal-distributions/\n",
    "from IPython.display import Image\n",
    "from IPython.core.display import HTML \n",
    "Image(url= \"https://www.statisticshowto.com/wp-content/uploads/2013/02/standard-normal-distribution.jpg\")\n"
   ]
  },
  {
   "cell_type": "markdown",
   "metadata": {},
   "source": [
    "* 68% dos estãos estão a 1 desvio padrão da média\n",
    "* 95% dos dados estão a 2 desvios padrão da média\n",
    "* 99.7% dos dados estão a 3 desvios padrão da média\n"
   ]
  },
  {
   "cell_type": "code",
   "execution_count": 76,
   "metadata": {
    "ExecuteTime": {
     "end_time": "2020-11-28T12:09:53.169221Z",
     "start_time": "2020-11-28T12:09:52.990659Z"
    }
   },
   "outputs": [
    {
     "data": {
      "image/png": "[encoded data removed]",
      "text/plain": [
       "<Figure size 432x288 with 1 Axes>"
      ]
     },
     "metadata": {
      "needs_background": "light"
     },
     "output_type": "display_data"
    }
   ],
   "source": [
    "# Simulando distribuições com pequenas amostras\n",
    "x1 = rdn.normal(loc=10, scale=1, size=300)\n",
    "x2 = rdn.normal(loc=8, scale=2, size=300)\n",
    "\n",
    "sns.distplot(x1, hist=False, kde=True)\n",
    "sns.distplot(x2, hist=False, kde=True);"
   ]
  },
  {
   "cell_type": "markdown",
   "metadata": {},
   "source": [
    "* Média, Moda e Mediana são iguais\n",
    "* A curva é simétrica no centro\n",
    "* A área total da curva é 1.\n",
    "\n",
    "Mas ... no mundo digital, cada vez mais vemos distribuições que não \"respeitam a normalidade\". Uma delas é Distribuição de Cauda Longa que agora com ferramentas de machine learning podem ser exploradas. Para mais detalhes, veja: https://pt.wikipedia.org/wiki/Cauda_longa"
   ]
  }
 ],
 "metadata": {
  "hide_input": false,
  "kernelspec": {
   "display_name": "Python 3",
   "language": "python",
   "name": "python3"
  },
  "language_info": {
   "codemirror_mode": {
    "name": "ipython",
    "version": 3
   },
   "file_extension": ".py",
   "mimetype": "text/x-python",
   "name": "python",
   "nbconvert_exporter": "python",
   "pygments_lexer": "ipython3",
   "version": "3.8.3"
  },
  "latex_envs": {
   "LaTeX_envs_menu_present": true,
   "autoclose": false,
   "autocomplete": true,
   "bibliofile": "biblio.bib",
   "cite_by": "apalike",
   "current_citInitial": 1,
   "eqLabelWithNumbers": true,
   "eqNumInitial": 1,
   "hotkeys": {
    "equation": "Ctrl-E",
    "itemize": "Ctrl-I"
   },
   "labels_anchors": false,
   "latex_user_defs": false,
   "report_style_numbering": false,
   "user_envs_cfg": false
  },
  "toc": {
   "base_numbering": 1,
   "nav_menu": {
    "height": "167px",
    "width": "352px"
   },
   "number_sections": true,
   "sideBar": true,
   "skip_h1_title": false,
   "title_cell": "Table of Contents",
   "title_sidebar": "Contents",
   "toc_cell": false,
   "toc_position": {
    "height": "calc(100% - 180px)",
    "left": "10px",
    "top": "150px",
    "width": "236px"
   },
   "toc_section_display": true,
   "toc_window_display": true
  },
  "varInspector": {
   "cols": {
    "lenName": 16,
    "lenType": 16,
    "lenVar": 40
   },
   "kernels_config": {
    "python": {
     "delete_cmd_postfix": "",
     "delete_cmd_prefix": "del ",
     "library": "var_list.py",
     "varRefreshCmd": "print(var_dic_list())"
    },
    "r": {
     "delete_cmd_postfix": ") ",
     "delete_cmd_prefix": "rm(",
     "library": "var_list.r",
     "varRefreshCmd": "cat(var_dic_list()) "
    }
   },
   "types_to_exclude": [
    "module",
    "function",
    "builtin_function_or_method",
    "instance",
    "_Feature"
   ],
   "window_display": false
  }
 },
 "nbformat": 4,
 "nbformat_minor": 2
}
