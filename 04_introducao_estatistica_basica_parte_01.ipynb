{
 "cells": [
  {
   "cell_type": "markdown",
   "metadata": {},
   "source": [
    "# Estatística Descritiva\n",
    "\n",
    "## Estatística Descritiva\n",
    "\n",
    "* Variáveis qualitativas (nominal e ordinal).\n",
    "* Variáveis quantitativas (contínua e discreta).\n",
    "* Medidas de posição: média, moda, mediana, percentis, quartis.\n",
    "* Medidas de dispersão: amplitude, intervalo-interquartil, variância, desvio padrão, coeficiente de variação.\n",
    "* Organização de dados em tabelas e datasets.\n",
    "* Representação gráfica de variáveis qualitativas.\n",
    "* Representação gráfica de variáveis quantitativas. \n",
    "* Histogramas e boxplots.\n",
    "* Distribuição normal\n",
    "* Discussão de casos\n",
    "\n",
    "# Referências\n",
    "\n",
    "\n",
    "## Referências Básicas\n",
    "\n",
    "* https://www.edureka.co/blog/math-and-statistics-for-data-science/\n",
    "* https://github.com/r0f1/datascience\n",
    "* http://benalexkeen.com/basic-statistics-in-python/\n",
    "* https://www.dataquest.io/blog/basic-statistics-with-python-descriptive-statistics/\n",
    "* https://realpython.com/python-statistics/\n",
    "* Representação de dados: https://scipy-lectures.org/packages/statistics/index.html#data-representation-and-interaction\n",
    "* Aplicações de estatística descritiva: https://www.datacamp.com/community/tutorials/demystifying-crucial-statistics-python\n",
    "* https://www.datacamp.com/community/tutorials/demystifying-crucial-statistics-python\n",
    "\n",
    "\n",
    "## Paradoxo de Simpson\n",
    "\n",
    "* https://www.picostat.com/dataset/r-dataset-package-datasets-ucbadmissions\n",
    "* https://stat.ethz.ch/R-manual/R-devel/library/datasets/html/UCBAdmissions.html\n",
    "* http://jse.amstat.org/v22n1/mickel.pdf\n",
    "* https://vincentarelbundock.github.io/Rdatasets/datasets.html\n",
    "* https://towardsdatascience.com/simpsons-paradox-how-to-prove-two-opposite-arguments-using-one-dataset-1c9c917f5ff9\n",
    "* https://static.googleusercontent.com/media/research.google.com/pt-BR//pubs/archive/42901.pdf\n",
    "* https://github.com/Murillo/Data-Science-Udacity/blob/master/Intro%20Data%20Science/1.%20Introduction/Simpson-Paradox/Berkeley.csv\n",
    "* https://plato.stanford.edu/entries/paradox-simpson/\n",
    "* https://pt.wikipedia.org/wiki/Paradoxo_de_Simpson\n",
    "\n",
    "\n",
    "## Referências Gerais\n",
    "\n",
    "* https://www.edureka.co/blog/math-and-statistics-for-data-science/\n",
    "* https://github.com/r0f1/datascience\n",
    "* http://benalexkeen.com/basic-statistics-in-python/\n",
    "* https://www.dataquest.io/blog/basic-statistics-with-python-descriptive-statistics/\n",
    "* https://realpython.com/python-statistics/\n",
    "* Representação de dados: https://scipy-lectures.org/packages/statistics/index.html#data-representation-and-interaction\n",
    "* Aplicações de estatística descritiva: https://www.datacamp.com/community/tutorials/demystifying-crucial-statistics-python\n",
    "* https://www.datacamp.com/community/tutorials/demystifying-crucial-statistics-python\n",
    "\n",
    "\n",
    "## Apoio didático\n",
    "\n",
    "* https://www.youtube.com/watch?v=ebEkn-BiW5k&t=19s\n",
    "* https://youtu.be/fDcjhAKuhqQ?t=1701\n",
    "* https://www.youtube.com/watch?v=4zn17KICsQM\n",
    "* https://www.youtube.com/watch?v=Ye0lmQzgqvM\n",
    "* https://www.youtube.com/watch?v=ebEkn-BiW5k\n",
    "* https://www.youtube.com/watch?v=E_ME4P9fQbo"
   ]
  },
  {
   "cell_type": "markdown",
   "metadata": {},
   "source": [
    "# Datasets da aula\n",
    "\n",
    "\n",
    "## Dataset I - Instrucional\n",
    "\n",
    "Nesta aula de estatística iremos utilizar alguns datasets como apoio didático para demonstrar alguns tipos de análises. O primeiro dataset que vamos apresentar é o **\"dataset instrucional\"** que foi construído por nós, os instrutores Osvaldo e Rodrigo, sendo um **dataset artificial**, com *dados sintéticos* com o objetivo de **ilustrar os tipos de informações** que uma **tabela de dados** pode conter."
   ]
  },
  {
   "cell_type": "code",
   "execution_count": 1,
   "metadata": {
    "ExecuteTime": {
     "end_time": "2020-11-28T11:58:19.471168Z",
     "start_time": "2020-11-28T11:58:18.926789Z"
    }
   },
   "outputs": [],
   "source": [
    "# Como vamos utilizar um método do pandas para ler arquivos csv (read_csv),\n",
    "# logo precisamos fazer sua importação prévia\n",
    "import pandas as pd\n",
    "\n",
    "# Importando a arquivo .csv como um dataframe do pandas\n",
    "df1 = pd.read_csv('dataset_instrucional.csv',encoding='ISO-8859-1',delimiter=';',low_memory = False)\n",
    "# Documentação completa: https://pandas.pydata.org/pandas-docs/stable/reference/api/pandas.read_csv.html\n",
    "\n",
    "# A documentação também pode ser acessada ao adicionar um \"?\" após a chamada\n",
    "pd.read_csv?"
   ]
  },
  {
   "cell_type": "markdown",
   "metadata": {},
   "source": [
    "Sempre que importamos um arquivo com o pandas (ou com qualquer outra biblioteca), é uma **boa prática avaliar a consistência**, realizando uma análise rápida de qualidade. Também fazemos uma **observação inicial das variáveis** que compõe o dataset, já **pensando no problema que precisamos resolver**."
   ]
  },
  {
   "cell_type": "code",
   "execution_count": 2,
   "metadata": {
    "ExecuteTime": {
     "end_time": "2020-11-28T11:58:19.483134Z",
     "start_time": "2020-11-28T11:58:19.473127Z"
    }
   },
   "outputs": [
    {
     "data": {
      "text/plain": [
       "(100, 11)"
      ]
     },
     "execution_count": 2,
     "metadata": {},
     "output_type": "execute_result"
    }
   ],
   "source": [
    "# Avaliamos o \"shape\", que indica o número de linhas e colunas\n",
    "df1.shape"
   ]
  },
  {
   "cell_type": "code",
   "execution_count": 3,
   "metadata": {
    "ExecuteTime": {
     "end_time": "2020-11-28T11:58:19.510028Z",
     "start_time": "2020-11-28T11:58:19.484097Z"
    }
   },
   "outputs": [
    {
     "data": {
      "text/plain": [
       "ID                  int64\n",
       "nominal_1          object\n",
       "nominal_2          object\n",
       "var_continua_1    float64\n",
       "var_continua_2    float64\n",
       "var_discreta_1      int64\n",
       "var_discreta_2      int64\n",
       "flag_1              int64\n",
       "flag_2              int64\n",
       "peso_1            float64\n",
       "peso_2            float64\n",
       "dtype: object"
      ]
     },
     "execution_count": 3,
     "metadata": {},
     "output_type": "execute_result"
    }
   ],
   "source": [
    "# Em seguida podemos observar o tipo atribuído pelo pandas a cada uma das variáveis.\n",
    "df1.dtypes"
   ]
  },
  {
   "cell_type": "code",
   "execution_count": 4,
   "metadata": {
    "ExecuteTime": {
     "end_time": "2020-11-28T11:58:19.540944Z",
     "start_time": "2020-11-28T11:58:19.511024Z"
    }
   },
   "outputs": [
    {
     "name": "stdout",
     "output_type": "stream",
     "text": [
      "<class 'pandas.core.frame.DataFrame'>\n",
      "RangeIndex: 100 entries, 0 to 99\n",
      "Data columns (total 11 columns):\n",
      " #   Column          Non-Null Count  Dtype  \n",
      "---  ------          --------------  -----  \n",
      " 0   ID              100 non-null    int64  \n",
      " 1   nominal_1       100 non-null    object \n",
      " 2   nominal_2       100 non-null    object \n",
      " 3   var_continua_1  100 non-null    float64\n",
      " 4   var_continua_2  100 non-null    float64\n",
      " 5   var_discreta_1  100 non-null    int64  \n",
      " 6   var_discreta_2  100 non-null    int64  \n",
      " 7   flag_1          100 non-null    int64  \n",
      " 8   flag_2          100 non-null    int64  \n",
      " 9   peso_1          100 non-null    float64\n",
      " 10  peso_2          100 non-null    float64\n",
      "dtypes: float64(4), int64(5), object(2)\n",
      "memory usage: 8.7+ KB\n"
     ]
    }
   ],
   "source": [
    "# Podemos utilizar o método .info() para uma descrição técnica mais completa, \n",
    "# contendo inclusive a memória utilizada por este dataframe.\n",
    "df1.info()"
   ]
  },
  {
   "cell_type": "code",
   "execution_count": 5,
   "metadata": {
    "ExecuteTime": {
     "end_time": "2020-11-28T11:58:19.580839Z",
     "start_time": "2020-11-28T11:58:19.541941Z"
    }
   },
   "outputs": [
    {
     "data": {
      "text/html": [
       "<div>\n",
       "<style scoped>\n",
       "    .dataframe tbody tr th:only-of-type {\n",
       "        vertical-align: middle;\n",
       "    }\n",
       "\n",
       "    .dataframe tbody tr th {\n",
       "        vertical-align: top;\n",
       "    }\n",
       "\n",
       "    .dataframe thead th {\n",
       "        text-align: right;\n",
       "    }\n",
       "</style>\n",
       "<table border=\"1\" class=\"dataframe\">\n",
       "  <thead>\n",
       "    <tr style=\"text-align: right;\">\n",
       "      <th></th>\n",
       "      <th>ID</th>\n",
       "      <th>nominal_1</th>\n",
       "      <th>nominal_2</th>\n",
       "      <th>var_continua_1</th>\n",
       "      <th>var_continua_2</th>\n",
       "      <th>var_discreta_1</th>\n",
       "      <th>var_discreta_2</th>\n",
       "      <th>flag_1</th>\n",
       "      <th>flag_2</th>\n",
       "      <th>peso_1</th>\n",
       "      <th>peso_2</th>\n",
       "    </tr>\n",
       "  </thead>\n",
       "  <tbody>\n",
       "    <tr>\n",
       "      <th>0</th>\n",
       "      <td>1</td>\n",
       "      <td>C</td>\n",
       "      <td>X</td>\n",
       "      <td>52.1</td>\n",
       "      <td>18.2</td>\n",
       "      <td>4</td>\n",
       "      <td>47</td>\n",
       "      <td>0</td>\n",
       "      <td>5</td>\n",
       "      <td>0.010302</td>\n",
       "      <td>0.000368</td>\n",
       "    </tr>\n",
       "    <tr>\n",
       "      <th>1</th>\n",
       "      <td>2</td>\n",
       "      <td>C</td>\n",
       "      <td>Y</td>\n",
       "      <td>41.5</td>\n",
       "      <td>886.7</td>\n",
       "      <td>9</td>\n",
       "      <td>50</td>\n",
       "      <td>1</td>\n",
       "      <td>2</td>\n",
       "      <td>0.008206</td>\n",
       "      <td>0.017923</td>\n",
       "    </tr>\n",
       "    <tr>\n",
       "      <th>2</th>\n",
       "      <td>3</td>\n",
       "      <td>D</td>\n",
       "      <td>Y</td>\n",
       "      <td>55.2</td>\n",
       "      <td>563.7</td>\n",
       "      <td>8</td>\n",
       "      <td>96</td>\n",
       "      <td>1</td>\n",
       "      <td>5</td>\n",
       "      <td>0.010915</td>\n",
       "      <td>0.011394</td>\n",
       "    </tr>\n",
       "    <tr>\n",
       "      <th>3</th>\n",
       "      <td>4</td>\n",
       "      <td>B</td>\n",
       "      <td>Y</td>\n",
       "      <td>85.4</td>\n",
       "      <td>884.2</td>\n",
       "      <td>1</td>\n",
       "      <td>41</td>\n",
       "      <td>0</td>\n",
       "      <td>3</td>\n",
       "      <td>0.016887</td>\n",
       "      <td>0.017873</td>\n",
       "    </tr>\n",
       "    <tr>\n",
       "      <th>4</th>\n",
       "      <td>5</td>\n",
       "      <td>C</td>\n",
       "      <td>Y</td>\n",
       "      <td>77.6</td>\n",
       "      <td>859.0</td>\n",
       "      <td>4</td>\n",
       "      <td>95</td>\n",
       "      <td>1</td>\n",
       "      <td>2</td>\n",
       "      <td>0.015344</td>\n",
       "      <td>0.017363</td>\n",
       "    </tr>\n",
       "  </tbody>\n",
       "</table>\n",
       "</div>"
      ],
      "text/plain": [
       "   ID nominal_1 nominal_2  var_continua_1  var_continua_2  var_discreta_1  \\\n",
       "0   1         C         X            52.1            18.2               4   \n",
       "1   2         C         Y            41.5           886.7               9   \n",
       "2   3         D         Y            55.2           563.7               8   \n",
       "3   4         B         Y            85.4           884.2               1   \n",
       "4   5         C         Y            77.6           859.0               4   \n",
       "\n",
       "   var_discreta_2  flag_1  flag_2    peso_1    peso_2  \n",
       "0              47       0       5  0.010302  0.000368  \n",
       "1              50       1       2  0.008206  0.017923  \n",
       "2              96       1       5  0.010915  0.011394  \n",
       "3              41       0       3  0.016887  0.017873  \n",
       "4              95       1       2  0.015344  0.017363  "
      ]
     },
     "execution_count": 5,
     "metadata": {},
     "output_type": "execute_result"
    }
   ],
   "source": [
    "# Observamos a \"cara\" dos dados do dataset, mostrando as primeiras linhas.\n",
    "df1.head()"
   ]
  },
  {
   "cell_type": "code",
   "execution_count": 6,
   "metadata": {
    "ExecuteTime": {
     "end_time": "2020-11-28T11:58:19.645697Z",
     "start_time": "2020-11-28T11:58:19.584828Z"
    }
   },
   "outputs": [
    {
     "data": {
      "text/html": [
       "<div>\n",
       "<style scoped>\n",
       "    .dataframe tbody tr th:only-of-type {\n",
       "        vertical-align: middle;\n",
       "    }\n",
       "\n",
       "    .dataframe tbody tr th {\n",
       "        vertical-align: top;\n",
       "    }\n",
       "\n",
       "    .dataframe thead th {\n",
       "        text-align: right;\n",
       "    }\n",
       "</style>\n",
       "<table border=\"1\" class=\"dataframe\">\n",
       "  <thead>\n",
       "    <tr style=\"text-align: right;\">\n",
       "      <th></th>\n",
       "      <th>ID</th>\n",
       "      <th>var_continua_1</th>\n",
       "      <th>var_continua_2</th>\n",
       "      <th>var_discreta_1</th>\n",
       "      <th>var_discreta_2</th>\n",
       "      <th>flag_1</th>\n",
       "      <th>flag_2</th>\n",
       "      <th>peso_1</th>\n",
       "      <th>peso_2</th>\n",
       "    </tr>\n",
       "  </thead>\n",
       "  <tbody>\n",
       "    <tr>\n",
       "      <th>count</th>\n",
       "      <td>100.000000</td>\n",
       "      <td>100.000000</td>\n",
       "      <td>100.000000</td>\n",
       "      <td>100.000000</td>\n",
       "      <td>100.000000</td>\n",
       "      <td>100.000000</td>\n",
       "      <td>100.000000</td>\n",
       "      <td>100.000000</td>\n",
       "      <td>100.000000</td>\n",
       "    </tr>\n",
       "    <tr>\n",
       "      <th>mean</th>\n",
       "      <td>50.500000</td>\n",
       "      <td>50.572000</td>\n",
       "      <td>494.719000</td>\n",
       "      <td>5.080000</td>\n",
       "      <td>70.610000</td>\n",
       "      <td>0.480000</td>\n",
       "      <td>3.020000</td>\n",
       "      <td>0.010000</td>\n",
       "      <td>0.010000</td>\n",
       "    </tr>\n",
       "    <tr>\n",
       "      <th>std</th>\n",
       "      <td>29.011492</td>\n",
       "      <td>29.177846</td>\n",
       "      <td>296.574858</td>\n",
       "      <td>2.883881</td>\n",
       "      <td>17.887355</td>\n",
       "      <td>0.502117</td>\n",
       "      <td>1.490576</td>\n",
       "      <td>0.005770</td>\n",
       "      <td>0.005995</td>\n",
       "    </tr>\n",
       "    <tr>\n",
       "      <th>min</th>\n",
       "      <td>1.000000</td>\n",
       "      <td>2.400000</td>\n",
       "      <td>4.600000</td>\n",
       "      <td>1.000000</td>\n",
       "      <td>40.000000</td>\n",
       "      <td>0.000000</td>\n",
       "      <td>1.000000</td>\n",
       "      <td>0.000475</td>\n",
       "      <td>0.000093</td>\n",
       "    </tr>\n",
       "    <tr>\n",
       "      <th>25%</th>\n",
       "      <td>25.750000</td>\n",
       "      <td>25.100000</td>\n",
       "      <td>232.475000</td>\n",
       "      <td>2.000000</td>\n",
       "      <td>53.750000</td>\n",
       "      <td>0.000000</td>\n",
       "      <td>2.000000</td>\n",
       "      <td>0.004963</td>\n",
       "      <td>0.004699</td>\n",
       "    </tr>\n",
       "    <tr>\n",
       "      <th>50%</th>\n",
       "      <td>50.500000</td>\n",
       "      <td>54.650000</td>\n",
       "      <td>503.750000</td>\n",
       "      <td>5.000000</td>\n",
       "      <td>73.000000</td>\n",
       "      <td>0.000000</td>\n",
       "      <td>3.000000</td>\n",
       "      <td>0.010806</td>\n",
       "      <td>0.010183</td>\n",
       "    </tr>\n",
       "    <tr>\n",
       "      <th>75%</th>\n",
       "      <td>75.250000</td>\n",
       "      <td>75.550000</td>\n",
       "      <td>727.000000</td>\n",
       "      <td>8.000000</td>\n",
       "      <td>88.000000</td>\n",
       "      <td>1.000000</td>\n",
       "      <td>4.000000</td>\n",
       "      <td>0.014939</td>\n",
       "      <td>0.014695</td>\n",
       "    </tr>\n",
       "    <tr>\n",
       "      <th>max</th>\n",
       "      <td>100.000000</td>\n",
       "      <td>97.400000</td>\n",
       "      <td>981.800000</td>\n",
       "      <td>10.000000</td>\n",
       "      <td>100.000000</td>\n",
       "      <td>1.000000</td>\n",
       "      <td>5.000000</td>\n",
       "      <td>0.019260</td>\n",
       "      <td>0.019846</td>\n",
       "    </tr>\n",
       "  </tbody>\n",
       "</table>\n",
       "</div>"
      ],
      "text/plain": [
       "               ID  var_continua_1  var_continua_2  var_discreta_1  \\\n",
       "count  100.000000      100.000000      100.000000      100.000000   \n",
       "mean    50.500000       50.572000      494.719000        5.080000   \n",
       "std     29.011492       29.177846      296.574858        2.883881   \n",
       "min      1.000000        2.400000        4.600000        1.000000   \n",
       "25%     25.750000       25.100000      232.475000        2.000000   \n",
       "50%     50.500000       54.650000      503.750000        5.000000   \n",
       "75%     75.250000       75.550000      727.000000        8.000000   \n",
       "max    100.000000       97.400000      981.800000       10.000000   \n",
       "\n",
       "       var_discreta_2      flag_1      flag_2      peso_1      peso_2  \n",
       "count      100.000000  100.000000  100.000000  100.000000  100.000000  \n",
       "mean        70.610000    0.480000    3.020000    0.010000    0.010000  \n",
       "std         17.887355    0.502117    1.490576    0.005770    0.005995  \n",
       "min         40.000000    0.000000    1.000000    0.000475    0.000093  \n",
       "25%         53.750000    0.000000    2.000000    0.004963    0.004699  \n",
       "50%         73.000000    0.000000    3.000000    0.010806    0.010183  \n",
       "75%         88.000000    1.000000    4.000000    0.014939    0.014695  \n",
       "max        100.000000    1.000000    5.000000    0.019260    0.019846  "
      ]
     },
     "execution_count": 6,
     "metadata": {},
     "output_type": "execute_result"
    }
   ],
   "source": [
    "# Também podemos facilmente avaliar a estatística descritiva de algumas variáveis\n",
    "df1.describe()"
   ]
  },
  {
   "cell_type": "code",
   "execution_count": 7,
   "metadata": {
    "ExecuteTime": {
     "end_time": "2020-11-28T11:58:21.040135Z",
     "start_time": "2020-11-28T11:58:19.647660Z"
    }
   },
   "outputs": [
    {
     "data": {
      "image/png": "[encoded data removed]",
      "text/plain": [
       "<Figure size 1152x1152 with 16 Axes>"
      ]
     },
     "metadata": {
      "needs_background": "light"
     },
     "output_type": "display_data"
    }
   ],
   "source": [
    "# O pandas também nos possibilita plotar variáveis numéricas e avaliar possíveis associações entre elas.\n",
    "from pandas.plotting import scatter_matrix\n",
    "\n",
    "df1_aux = df1[['var_continua_1', 'var_continua_2', 'var_discreta_1', 'var_discreta_2']]\n",
    "\n",
    "scatter_matrix(df1_aux, alpha = 1, figsize = (16, 16));"
   ]
  },
  {
   "cell_type": "code",
   "execution_count": 8,
   "metadata": {
    "ExecuteTime": {
     "end_time": "2020-11-28T11:58:21.045097Z",
     "start_time": "2020-11-28T11:58:21.041105Z"
    }
   },
   "outputs": [],
   "source": [
    "# Por quê plotamos apenas as 4 variáveis no gráfico acima?\n",
    "#scatter_matrix(df1, alpha = 1, figsize = (16, 16));"
   ]
  },
  {
   "cell_type": "markdown",
   "metadata": {},
   "source": [
    "## Dataset II - Medicina da Família\n",
    "\n",
    "Este segundo dataset é uma base sintética que foi criada em um projeto real de Data Science no qual um hospital oferece um serviço de **cuidado primário** de seus clientes. Cada cliente possui uma quantidade específica de colaboradores e em cada unidade são alocados **médicos** para cuidar desses colaboradores. Cada médico possui uma **carteira com colaboradores** que tem seu **risco ponderado por um score**, dessa forma é possível avaliar a evolução dos indicadores de saúde de cada colaborador e das carteiras dos médicos como um todo."
   ]
  },
  {
   "cell_type": "code",
   "execution_count": 18,
   "metadata": {
    "ExecuteTime": {
     "end_time": "2020-11-28T11:59:16.752163Z",
     "start_time": "2020-11-28T11:59:15.586419Z"
    }
   },
   "outputs": [],
   "source": [
    "df2 = pd.read_csv('carteira_medicina_familia_sintetica.csv',encoding='ISO-8859-1',delimiter=';',low_memory = False)"
   ]
  },
  {
   "cell_type": "code",
   "execution_count": 10,
   "metadata": {
    "ExecuteTime": {
     "end_time": "2020-11-28T11:58:22.338439Z",
     "start_time": "2020-11-28T11:58:22.333419Z"
    }
   },
   "outputs": [
    {
     "data": {
      "text/plain": [
       "(190000, 46)"
      ]
     },
     "execution_count": 10,
     "metadata": {},
     "output_type": "execute_result"
    }
   ],
   "source": [
    "df2.shape"
   ]
  },
  {
   "cell_type": "code",
   "execution_count": 11,
   "metadata": {
    "ExecuteTime": {
     "end_time": "2020-11-28T11:58:22.373675Z",
     "start_time": "2020-11-28T11:58:22.340402Z"
    }
   },
   "outputs": [
    {
     "data": {
      "text/plain": [
       "id_patient              int64\n",
       "age_years             float64\n",
       "sex                     int64\n",
       "number_of_children      int64\n",
       "flag_married            int64\n",
       "bmi_kg_m2             float64\n",
       "height_cm             float64\n",
       "weight_kg             float64\n",
       "hdl_mg_dl             float64\n",
       "ldl_mg_dl             float64\n",
       "dtype: object"
      ]
     },
     "execution_count": 11,
     "metadata": {},
     "output_type": "execute_result"
    }
   ],
   "source": [
    "df2.dtypes[:10]"
   ]
  },
  {
   "cell_type": "code",
   "execution_count": 12,
   "metadata": {
    "ExecuteTime": {
     "end_time": "2020-11-28T11:58:22.478564Z",
     "start_time": "2020-11-28T11:58:22.374654Z"
    }
   },
   "outputs": [
    {
     "name": "stdout",
     "output_type": "stream",
     "text": [
      "<class 'pandas.core.frame.DataFrame'>\n",
      "RangeIndex: 190000 entries, 0 to 189999\n",
      "Data columns (total 46 columns):\n",
      " #   Column                              Non-Null Count   Dtype  \n",
      "---  ------                              --------------   -----  \n",
      " 0   id_patient                          190000 non-null  int64  \n",
      " 1   age_years                           190000 non-null  float64\n",
      " 2   sex                                 190000 non-null  int64  \n",
      " 3   number_of_children                  190000 non-null  int64  \n",
      " 4   flag_married                        190000 non-null  int64  \n",
      " 5   bmi_kg_m2                           190000 non-null  float64\n",
      " 6   height_cm                           190000 non-null  float64\n",
      " 7   weight_kg                           190000 non-null  float64\n",
      " 8   hdl_mg_dl                           190000 non-null  float64\n",
      " 9   ldl_mg_dl                           190000 non-null  float64\n",
      " 10  non_hdl_mg_dl                       190000 non-null  float64\n",
      " 11  total_cholesterol_mg_dl             190000 non-null  float64\n",
      " 12  trygliceride_mg_dl                  190000 non-null  float64\n",
      " 13  ratio_total_cholesterol_hdl         190000 non-null  float64\n",
      " 14  fast_blood_sugar_mg_dl              190000 non-null  float64\n",
      " 15  systolic_bp_mm_hg                   190000 non-null  float64\n",
      " 16  diastolic_bp_mm_hg                  190000 non-null  float64\n",
      " 17  flag_smokes                         190000 non-null  int64  \n",
      " 18  flag_drinks                         190000 non-null  int64  \n",
      " 19  flag_family_mental_ilness           190000 non-null  int64  \n",
      " 20  flag_family_diabetes                190000 non-null  int64  \n",
      " 21  flag_family_cardiovascular_disease  190000 non-null  int64  \n",
      " 22  flag_anxiety_episodes               190000 non-null  int64  \n",
      " 23  sum_flag_med_profile                190000 non-null  int64  \n",
      " 24  avg_flag_med_profile                190000 non-null  float64\n",
      " 25  target_flag_med_profile             190000 non-null  int64  \n",
      " 26  cluster                             190000 non-null  object \n",
      " 27  carhill_score                       190000 non-null  float64\n",
      " 28  index_bmi                           190000 non-null  int64  \n",
      " 29  index_diabetes                      190000 non-null  int64  \n",
      " 30  index_total_cholesterol             190000 non-null  int64  \n",
      " 31  index_hdl_cholesterol               190000 non-null  int64  \n",
      " 32  index_non_hdl_cholesterol           190000 non-null  int64  \n",
      " 33  index_ldl_cholesterol               190000 non-null  int64  \n",
      " 34  index_tryglicerides                 190000 non-null  int64  \n",
      " 35  index_ratio_total_cholest_hdl       190000 non-null  int64  \n",
      " 36  index_systolic_blood_pressure       190000 non-null  int64  \n",
      " 37  index_diastolic_blood_pressure      190000 non-null  int64  \n",
      " 38  index_blood_pressure                190000 non-null  int64  \n",
      " 39  sum_index_disease                   190000 non-null  int64  \n",
      " 40  avg_index_disease                   190000 non-null  float64\n",
      " 41  target_index_disease                190000 non-null  int64  \n",
      " 42  clients                             190000 non-null  object \n",
      " 43  unidade                             190000 non-null  object \n",
      " 44  mfc                                 190000 non-null  object \n",
      " 45  new_score                           190000 non-null  float64\n",
      "dtypes: float64(17), int64(25), object(4)\n",
      "memory usage: 66.7+ MB\n"
     ]
    }
   ],
   "source": [
    "df2.info()"
   ]
  },
  {
   "cell_type": "code",
   "execution_count": 13,
   "metadata": {
    "ExecuteTime": {
     "end_time": "2020-11-28T11:58:22.509517Z",
     "start_time": "2020-11-28T11:58:22.479564Z"
    }
   },
   "outputs": [
    {
     "data": {
      "text/html": [
       "<div>\n",
       "<style scoped>\n",
       "    .dataframe tbody tr th:only-of-type {\n",
       "        vertical-align: middle;\n",
       "    }\n",
       "\n",
       "    .dataframe tbody tr th {\n",
       "        vertical-align: top;\n",
       "    }\n",
       "\n",
       "    .dataframe thead th {\n",
       "        text-align: right;\n",
       "    }\n",
       "</style>\n",
       "<table border=\"1\" class=\"dataframe\">\n",
       "  <thead>\n",
       "    <tr style=\"text-align: right;\">\n",
       "      <th></th>\n",
       "      <th>id_patient</th>\n",
       "      <th>age_years</th>\n",
       "      <th>sex</th>\n",
       "      <th>number_of_children</th>\n",
       "      <th>flag_married</th>\n",
       "      <th>bmi_kg_m2</th>\n",
       "      <th>height_cm</th>\n",
       "      <th>weight_kg</th>\n",
       "      <th>hdl_mg_dl</th>\n",
       "      <th>ldl_mg_dl</th>\n",
       "      <th>...</th>\n",
       "      <th>index_systolic_blood_pressure</th>\n",
       "      <th>index_diastolic_blood_pressure</th>\n",
       "      <th>index_blood_pressure</th>\n",
       "      <th>sum_index_disease</th>\n",
       "      <th>avg_index_disease</th>\n",
       "      <th>target_index_disease</th>\n",
       "      <th>clients</th>\n",
       "      <th>unidade</th>\n",
       "      <th>mfc</th>\n",
       "      <th>new_score</th>\n",
       "    </tr>\n",
       "  </thead>\n",
       "  <tbody>\n",
       "    <tr>\n",
       "      <th>189995</th>\n",
       "      <td>189996</td>\n",
       "      <td>37.477772</td>\n",
       "      <td>2</td>\n",
       "      <td>1</td>\n",
       "      <td>0</td>\n",
       "      <td>26.719491</td>\n",
       "      <td>176.665201</td>\n",
       "      <td>83.393115</td>\n",
       "      <td>36.669664</td>\n",
       "      <td>201.096868</td>\n",
       "      <td>...</td>\n",
       "      <td>1</td>\n",
       "      <td>2</td>\n",
       "      <td>3</td>\n",
       "      <td>34</td>\n",
       "      <td>3.090909</td>\n",
       "      <td>1</td>\n",
       "      <td>client05</td>\n",
       "      <td>un17</td>\n",
       "      <td>mfc56</td>\n",
       "      <td>0.625730</td>\n",
       "    </tr>\n",
       "    <tr>\n",
       "      <th>189996</th>\n",
       "      <td>189997</td>\n",
       "      <td>29.728572</td>\n",
       "      <td>2</td>\n",
       "      <td>0</td>\n",
       "      <td>1</td>\n",
       "      <td>27.589891</td>\n",
       "      <td>168.046891</td>\n",
       "      <td>77.913183</td>\n",
       "      <td>37.398074</td>\n",
       "      <td>201.755727</td>\n",
       "      <td>...</td>\n",
       "      <td>3</td>\n",
       "      <td>3</td>\n",
       "      <td>3</td>\n",
       "      <td>36</td>\n",
       "      <td>3.272727</td>\n",
       "      <td>1</td>\n",
       "      <td>client04</td>\n",
       "      <td>un13</td>\n",
       "      <td>mfc47</td>\n",
       "      <td>0.990622</td>\n",
       "    </tr>\n",
       "    <tr>\n",
       "      <th>189997</th>\n",
       "      <td>189998</td>\n",
       "      <td>35.623458</td>\n",
       "      <td>2</td>\n",
       "      <td>1</td>\n",
       "      <td>1</td>\n",
       "      <td>28.977089</td>\n",
       "      <td>175.010296</td>\n",
       "      <td>88.752778</td>\n",
       "      <td>39.300882</td>\n",
       "      <td>202.546749</td>\n",
       "      <td>...</td>\n",
       "      <td>2</td>\n",
       "      <td>2</td>\n",
       "      <td>3</td>\n",
       "      <td>34</td>\n",
       "      <td>3.090909</td>\n",
       "      <td>1</td>\n",
       "      <td>client02</td>\n",
       "      <td>un04</td>\n",
       "      <td>mfc05</td>\n",
       "      <td>0.950332</td>\n",
       "    </tr>\n",
       "    <tr>\n",
       "      <th>189998</th>\n",
       "      <td>189999</td>\n",
       "      <td>33.695617</td>\n",
       "      <td>2</td>\n",
       "      <td>0</td>\n",
       "      <td>1</td>\n",
       "      <td>33.714442</td>\n",
       "      <td>174.531355</td>\n",
       "      <td>102.698215</td>\n",
       "      <td>44.019914</td>\n",
       "      <td>196.772968</td>\n",
       "      <td>...</td>\n",
       "      <td>2</td>\n",
       "      <td>3</td>\n",
       "      <td>3</td>\n",
       "      <td>35</td>\n",
       "      <td>3.181818</td>\n",
       "      <td>1</td>\n",
       "      <td>client04</td>\n",
       "      <td>un09</td>\n",
       "      <td>mfc27</td>\n",
       "      <td>0.993789</td>\n",
       "    </tr>\n",
       "    <tr>\n",
       "      <th>189999</th>\n",
       "      <td>190000</td>\n",
       "      <td>36.940748</td>\n",
       "      <td>2</td>\n",
       "      <td>0</td>\n",
       "      <td>1</td>\n",
       "      <td>29.822344</td>\n",
       "      <td>172.905910</td>\n",
       "      <td>89.158232</td>\n",
       "      <td>47.916865</td>\n",
       "      <td>197.497975</td>\n",
       "      <td>...</td>\n",
       "      <td>2</td>\n",
       "      <td>1</td>\n",
       "      <td>2</td>\n",
       "      <td>31</td>\n",
       "      <td>2.818182</td>\n",
       "      <td>0</td>\n",
       "      <td>client05</td>\n",
       "      <td>un15</td>\n",
       "      <td>mfc51</td>\n",
       "      <td>0.524243</td>\n",
       "    </tr>\n",
       "  </tbody>\n",
       "</table>\n",
       "<p>5 rows × 46 columns</p>\n",
       "</div>"
      ],
      "text/plain": [
       "        id_patient  age_years  sex  number_of_children  flag_married  \\\n",
       "189995      189996  37.477772    2                   1             0   \n",
       "189996      189997  29.728572    2                   0             1   \n",
       "189997      189998  35.623458    2                   1             1   \n",
       "189998      189999  33.695617    2                   0             1   \n",
       "189999      190000  36.940748    2                   0             1   \n",
       "\n",
       "        bmi_kg_m2   height_cm   weight_kg  hdl_mg_dl   ldl_mg_dl  ...  \\\n",
       "189995  26.719491  176.665201   83.393115  36.669664  201.096868  ...   \n",
       "189996  27.589891  168.046891   77.913183  37.398074  201.755727  ...   \n",
       "189997  28.977089  175.010296   88.752778  39.300882  202.546749  ...   \n",
       "189998  33.714442  174.531355  102.698215  44.019914  196.772968  ...   \n",
       "189999  29.822344  172.905910   89.158232  47.916865  197.497975  ...   \n",
       "\n",
       "        index_systolic_blood_pressure  index_diastolic_blood_pressure  \\\n",
       "189995                              1                               2   \n",
       "189996                              3                               3   \n",
       "189997                              2                               2   \n",
       "189998                              2                               3   \n",
       "189999                              2                               1   \n",
       "\n",
       "        index_blood_pressure  sum_index_disease  avg_index_disease  \\\n",
       "189995                     3                 34           3.090909   \n",
       "189996                     3                 36           3.272727   \n",
       "189997                     3                 34           3.090909   \n",
       "189998                     3                 35           3.181818   \n",
       "189999                     2                 31           2.818182   \n",
       "\n",
       "        target_index_disease   clients  unidade    mfc  new_score  \n",
       "189995                     1  client05     un17  mfc56   0.625730  \n",
       "189996                     1  client04     un13  mfc47   0.990622  \n",
       "189997                     1  client02     un04  mfc05   0.950332  \n",
       "189998                     1  client04     un09  mfc27   0.993789  \n",
       "189999                     0  client05     un15  mfc51   0.524243  \n",
       "\n",
       "[5 rows x 46 columns]"
      ]
     },
     "execution_count": 13,
     "metadata": {},
     "output_type": "execute_result"
    }
   ],
   "source": [
    "df2.tail()"
   ]
  },
  {
   "cell_type": "code",
   "execution_count": 14,
   "metadata": {
    "ExecuteTime": {
     "end_time": "2020-11-28T11:58:22.891993Z",
     "start_time": "2020-11-28T11:58:22.511476Z"
    }
   },
   "outputs": [
    {
     "data": {
      "text/html": [
       "<div>\n",
       "<style scoped>\n",
       "    .dataframe tbody tr th:only-of-type {\n",
       "        vertical-align: middle;\n",
       "    }\n",
       "\n",
       "    .dataframe tbody tr th {\n",
       "        vertical-align: top;\n",
       "    }\n",
       "\n",
       "    .dataframe thead th {\n",
       "        text-align: right;\n",
       "    }\n",
       "</style>\n",
       "<table border=\"1\" class=\"dataframe\">\n",
       "  <thead>\n",
       "    <tr style=\"text-align: right;\">\n",
       "      <th></th>\n",
       "      <th>id_patient</th>\n",
       "      <th>age_years</th>\n",
       "      <th>sex</th>\n",
       "      <th>number_of_children</th>\n",
       "      <th>flag_married</th>\n",
       "      <th>bmi_kg_m2</th>\n",
       "      <th>height_cm</th>\n",
       "      <th>weight_kg</th>\n",
       "      <th>hdl_mg_dl</th>\n",
       "      <th>ldl_mg_dl</th>\n",
       "      <th>...</th>\n",
       "      <th>index_ldl_cholesterol</th>\n",
       "      <th>index_tryglicerides</th>\n",
       "      <th>index_ratio_total_cholest_hdl</th>\n",
       "      <th>index_systolic_blood_pressure</th>\n",
       "      <th>index_diastolic_blood_pressure</th>\n",
       "      <th>index_blood_pressure</th>\n",
       "      <th>sum_index_disease</th>\n",
       "      <th>avg_index_disease</th>\n",
       "      <th>target_index_disease</th>\n",
       "      <th>new_score</th>\n",
       "    </tr>\n",
       "  </thead>\n",
       "  <tbody>\n",
       "    <tr>\n",
       "      <th>count</th>\n",
       "      <td>190000.00000</td>\n",
       "      <td>190000.000000</td>\n",
       "      <td>190000.000000</td>\n",
       "      <td>190000.000000</td>\n",
       "      <td>190000.000000</td>\n",
       "      <td>190000.000000</td>\n",
       "      <td>190000.000000</td>\n",
       "      <td>190000.000000</td>\n",
       "      <td>190000.000000</td>\n",
       "      <td>190000.000000</td>\n",
       "      <td>...</td>\n",
       "      <td>190000.000000</td>\n",
       "      <td>190000.000000</td>\n",
       "      <td>190000.000000</td>\n",
       "      <td>190000.000000</td>\n",
       "      <td>190000.000000</td>\n",
       "      <td>190000.000000</td>\n",
       "      <td>190000.000000</td>\n",
       "      <td>190000.000000</td>\n",
       "      <td>190000.000000</td>\n",
       "      <td>1.900000e+05</td>\n",
       "    </tr>\n",
       "    <tr>\n",
       "      <th>mean</th>\n",
       "      <td>95000.50000</td>\n",
       "      <td>34.941918</td>\n",
       "      <td>1.500000</td>\n",
       "      <td>0.334853</td>\n",
       "      <td>0.488926</td>\n",
       "      <td>25.603217</td>\n",
       "      <td>166.302742</td>\n",
       "      <td>70.943894</td>\n",
       "      <td>61.844896</td>\n",
       "      <td>118.403513</td>\n",
       "      <td>...</td>\n",
       "      <td>1.631179</td>\n",
       "      <td>1.421053</td>\n",
       "      <td>1.631553</td>\n",
       "      <td>1.165684</td>\n",
       "      <td>1.801347</td>\n",
       "      <td>2.205405</td>\n",
       "      <td>20.362179</td>\n",
       "      <td>1.851107</td>\n",
       "      <td>0.184079</td>\n",
       "      <td>1.786354e-01</td>\n",
       "    </tr>\n",
       "    <tr>\n",
       "      <th>std</th>\n",
       "      <td>54848.41991</td>\n",
       "      <td>9.363898</td>\n",
       "      <td>0.500001</td>\n",
       "      <td>0.699076</td>\n",
       "      <td>0.499879</td>\n",
       "      <td>4.126614</td>\n",
       "      <td>5.507522</td>\n",
       "      <td>12.698595</td>\n",
       "      <td>13.756190</td>\n",
       "      <td>44.166214</td>\n",
       "      <td>...</td>\n",
       "      <td>1.222439</td>\n",
       "      <td>0.815367</td>\n",
       "      <td>1.223010</td>\n",
       "      <td>0.407563</td>\n",
       "      <td>0.822079</td>\n",
       "      <td>0.976631</td>\n",
       "      <td>7.276107</td>\n",
       "      <td>0.661464</td>\n",
       "      <td>0.387550</td>\n",
       "      <td>3.640132e-01</td>\n",
       "    </tr>\n",
       "    <tr>\n",
       "      <th>min</th>\n",
       "      <td>1.00000</td>\n",
       "      <td>12.125575</td>\n",
       "      <td>1.000000</td>\n",
       "      <td>0.000000</td>\n",
       "      <td>0.000000</td>\n",
       "      <td>8.870725</td>\n",
       "      <td>142.157209</td>\n",
       "      <td>22.991307</td>\n",
       "      <td>21.384712</td>\n",
       "      <td>59.888795</td>\n",
       "      <td>...</td>\n",
       "      <td>1.000000</td>\n",
       "      <td>1.000000</td>\n",
       "      <td>1.000000</td>\n",
       "      <td>1.000000</td>\n",
       "      <td>1.000000</td>\n",
       "      <td>1.000000</td>\n",
       "      <td>13.000000</td>\n",
       "      <td>1.181818</td>\n",
       "      <td>0.000000</td>\n",
       "      <td>7.060000e-15</td>\n",
       "    </tr>\n",
       "    <tr>\n",
       "      <th>25%</th>\n",
       "      <td>47500.75000</td>\n",
       "      <td>27.063148</td>\n",
       "      <td>1.000000</td>\n",
       "      <td>0.000000</td>\n",
       "      <td>0.000000</td>\n",
       "      <td>22.752224</td>\n",
       "      <td>162.148937</td>\n",
       "      <td>62.010717</td>\n",
       "      <td>59.990497</td>\n",
       "      <td>89.294132</td>\n",
       "      <td>...</td>\n",
       "      <td>1.000000</td>\n",
       "      <td>1.000000</td>\n",
       "      <td>1.000000</td>\n",
       "      <td>1.000000</td>\n",
       "      <td>1.000000</td>\n",
       "      <td>1.000000</td>\n",
       "      <td>15.000000</td>\n",
       "      <td>1.363636</td>\n",
       "      <td>0.000000</td>\n",
       "      <td>1.300000e-08</td>\n",
       "    </tr>\n",
       "    <tr>\n",
       "      <th>50%</th>\n",
       "      <td>95000.50000</td>\n",
       "      <td>33.957695</td>\n",
       "      <td>1.500000</td>\n",
       "      <td>0.000000</td>\n",
       "      <td>0.000000</td>\n",
       "      <td>25.433286</td>\n",
       "      <td>166.393740</td>\n",
       "      <td>70.253905</td>\n",
       "      <td>65.432790</td>\n",
       "      <td>98.183295</td>\n",
       "      <td>...</td>\n",
       "      <td>1.000000</td>\n",
       "      <td>1.000000</td>\n",
       "      <td>1.000000</td>\n",
       "      <td>1.000000</td>\n",
       "      <td>2.000000</td>\n",
       "      <td>3.000000</td>\n",
       "      <td>18.000000</td>\n",
       "      <td>1.636364</td>\n",
       "      <td>0.000000</td>\n",
       "      <td>3.900000e-07</td>\n",
       "    </tr>\n",
       "    <tr>\n",
       "      <th>75%</th>\n",
       "      <td>142500.25000</td>\n",
       "      <td>43.220932</td>\n",
       "      <td>2.000000</td>\n",
       "      <td>0.000000</td>\n",
       "      <td>1.000000</td>\n",
       "      <td>28.296175</td>\n",
       "      <td>170.504672</td>\n",
       "      <td>79.138069</td>\n",
       "      <td>71.072947</td>\n",
       "      <td>118.591025</td>\n",
       "      <td>...</td>\n",
       "      <td>1.000000</td>\n",
       "      <td>1.000000</td>\n",
       "      <td>1.000000</td>\n",
       "      <td>1.000000</td>\n",
       "      <td>2.000000</td>\n",
       "      <td>3.000000</td>\n",
       "      <td>19.000000</td>\n",
       "      <td>1.727273</td>\n",
       "      <td>0.000000</td>\n",
       "      <td>7.872500e-05</td>\n",
       "    </tr>\n",
       "    <tr>\n",
       "      <th>max</th>\n",
       "      <td>190000.00000</td>\n",
       "      <td>60.887159</td>\n",
       "      <td>2.000000</td>\n",
       "      <td>3.000000</td>\n",
       "      <td>1.000000</td>\n",
       "      <td>44.514849</td>\n",
       "      <td>187.250708</td>\n",
       "      <td>130.090262</td>\n",
       "      <td>89.385068</td>\n",
       "      <td>214.919552</td>\n",
       "      <td>...</td>\n",
       "      <td>4.000000</td>\n",
       "      <td>3.000000</td>\n",
       "      <td>4.000000</td>\n",
       "      <td>3.000000</td>\n",
       "      <td>4.000000</td>\n",
       "      <td>3.000000</td>\n",
       "      <td>39.000000</td>\n",
       "      <td>3.545455</td>\n",
       "      <td>1.000000</td>\n",
       "      <td>9.999995e-01</td>\n",
       "    </tr>\n",
       "  </tbody>\n",
       "</table>\n",
       "<p>8 rows × 42 columns</p>\n",
       "</div>"
      ],
      "text/plain": [
       "         id_patient      age_years            sex  number_of_children  \\\n",
       "count  190000.00000  190000.000000  190000.000000       190000.000000   \n",
       "mean    95000.50000      34.941918       1.500000            0.334853   \n",
       "std     54848.41991       9.363898       0.500001            0.699076   \n",
       "min         1.00000      12.125575       1.000000            0.000000   \n",
       "25%     47500.75000      27.063148       1.000000            0.000000   \n",
       "50%     95000.50000      33.957695       1.500000            0.000000   \n",
       "75%    142500.25000      43.220932       2.000000            0.000000   \n",
       "max    190000.00000      60.887159       2.000000            3.000000   \n",
       "\n",
       "        flag_married      bmi_kg_m2      height_cm      weight_kg  \\\n",
       "count  190000.000000  190000.000000  190000.000000  190000.000000   \n",
       "mean        0.488926      25.603217     166.302742      70.943894   \n",
       "std         0.499879       4.126614       5.507522      12.698595   \n",
       "min         0.000000       8.870725     142.157209      22.991307   \n",
       "25%         0.000000      22.752224     162.148937      62.010717   \n",
       "50%         0.000000      25.433286     166.393740      70.253905   \n",
       "75%         1.000000      28.296175     170.504672      79.138069   \n",
       "max         1.000000      44.514849     187.250708     130.090262   \n",
       "\n",
       "           hdl_mg_dl      ldl_mg_dl  ...  index_ldl_cholesterol  \\\n",
       "count  190000.000000  190000.000000  ...          190000.000000   \n",
       "mean       61.844896     118.403513  ...               1.631179   \n",
       "std        13.756190      44.166214  ...               1.222439   \n",
       "min        21.384712      59.888795  ...               1.000000   \n",
       "25%        59.990497      89.294132  ...               1.000000   \n",
       "50%        65.432790      98.183295  ...               1.000000   \n",
       "75%        71.072947     118.591025  ...               1.000000   \n",
       "max        89.385068     214.919552  ...               4.000000   \n",
       "\n",
       "       index_tryglicerides  index_ratio_total_cholest_hdl  \\\n",
       "count        190000.000000                  190000.000000   \n",
       "mean              1.421053                       1.631553   \n",
       "std               0.815367                       1.223010   \n",
       "min               1.000000                       1.000000   \n",
       "25%               1.000000                       1.000000   \n",
       "50%               1.000000                       1.000000   \n",
       "75%               1.000000                       1.000000   \n",
       "max               3.000000                       4.000000   \n",
       "\n",
       "       index_systolic_blood_pressure  index_diastolic_blood_pressure  \\\n",
       "count                  190000.000000                   190000.000000   \n",
       "mean                        1.165684                        1.801347   \n",
       "std                         0.407563                        0.822079   \n",
       "min                         1.000000                        1.000000   \n",
       "25%                         1.000000                        1.000000   \n",
       "50%                         1.000000                        2.000000   \n",
       "75%                         1.000000                        2.000000   \n",
       "max                         3.000000                        4.000000   \n",
       "\n",
       "       index_blood_pressure  sum_index_disease  avg_index_disease  \\\n",
       "count         190000.000000      190000.000000      190000.000000   \n",
       "mean               2.205405          20.362179           1.851107   \n",
       "std                0.976631           7.276107           0.661464   \n",
       "min                1.000000          13.000000           1.181818   \n",
       "25%                1.000000          15.000000           1.363636   \n",
       "50%                3.000000          18.000000           1.636364   \n",
       "75%                3.000000          19.000000           1.727273   \n",
       "max                3.000000          39.000000           3.545455   \n",
       "\n",
       "       target_index_disease     new_score  \n",
       "count         190000.000000  1.900000e+05  \n",
       "mean               0.184079  1.786354e-01  \n",
       "std                0.387550  3.640132e-01  \n",
       "min                0.000000  7.060000e-15  \n",
       "25%                0.000000  1.300000e-08  \n",
       "50%                0.000000  3.900000e-07  \n",
       "75%                0.000000  7.872500e-05  \n",
       "max                1.000000  9.999995e-01  \n",
       "\n",
       "[8 rows x 42 columns]"
      ]
     },
     "execution_count": 14,
     "metadata": {},
     "output_type": "execute_result"
    }
   ],
   "source": [
    "df2.describe()"
   ]
  },
  {
   "cell_type": "markdown",
   "metadata": {},
   "source": [
    "# Variáveis quantitativas e qualitativas"
   ]
  },
  {
   "cell_type": "markdown",
   "metadata": {},
   "source": [
    "## Variáveis quantitativas (contínua e discreta).\n",
    "\n",
    "**Variáveis Quantitativas:** são informações em uma tabela que podem ser medidas experimentalmente/empiricamente e possuem valores numéricos. Essas variáveis podem ser divididas em dois grupos, as variáveis quantitativas discretas e as contínuas. Abaixo seguem as definições de cada uma.\n",
    "\n",
    "***Variáveis discretas:*** são variáveis inteiras e positivas que em geral são resultados de alguma contagem, como por exemplo a quantidade de filhos da pessoa, ou quantidade de indivíduos em um experimento, etc. Também podem ser utilizadas de forma quantitativa, por exemplo dando graus sobre uma obervação, por exemplo notas onde 1 = ruim, 2 = bom, 3 = muito bom, 4 = excelente.\n",
    "\n",
    "***Variáveis contínuas:*** são variáveis no conjunto dos números reais dentro de uma escala contínua. Por exemplo peso de um objeto em quilogramas, tamanho de um objeto em centímetros, tempo de duração de um experimento em segundos, etc.\n",
    "\n",
    "### Exemplos:\n",
    "\n",
    "Abaixo criamos um histograma com a variável var_continua_1 para o dataframe instrucional (df1)."
   ]
  },
  {
   "cell_type": "code",
   "execution_count": 15,
   "metadata": {
    "ExecuteTime": {
     "end_time": "2020-11-28T11:58:23.046072Z",
     "start_time": "2020-11-28T11:58:22.892945Z"
    }
   },
   "outputs": [
    {
     "data": {
      "image/png": "[encoded data removed]",
      "text/plain": [
       "<Figure size 432x288 with 1 Axes>"
      ]
     },
     "metadata": {
      "needs_background": "light"
     },
     "output_type": "display_data"
    }
   ],
   "source": [
    "import matplotlib.pyplot as plt\n",
    "\n",
    "x = df1['var_continua_1']\n",
    "plt.hist(x, bins = 20)\n",
    "plt.show()"
   ]
  },
  {
   "cell_type": "code",
   "execution_count": 16,
   "metadata": {
    "ExecuteTime": {
     "end_time": "2020-11-28T11:58:23.919633Z",
     "start_time": "2020-11-28T11:58:23.047036Z"
    }
   },
   "outputs": [
    {
     "data": {
      "text/plain": [
       "<matplotlib.axes._subplots.AxesSubplot at 0x2173b9ea5b0>"
      ]
     },
     "execution_count": 16,
     "metadata": {},
     "output_type": "execute_result"
    },
    {
     "data": {
      "image/png": "[encoded data removed]",
      "text/plain": [
       "<Figure size 1152x288 with 2 Axes>"
      ]
     },
     "metadata": {
      "needs_background": "light"
     },
     "output_type": "display_data"
    }
   ],
   "source": [
    "import seaborn as sns\n",
    "\n",
    "fig, axes = plt.subplots(1, 2, figsize=(16, 4))\n",
    "\n",
    "sns.distplot(df1['var_continua_1'] , color = 'skyblue', label = 'var_continua_1', ax = axes[0])\n",
    "sns.distplot(df1['var_continua_2'] , color = 'red', label = 'var_continua_2', ax = axes[1])"
   ]
  },
  {
   "cell_type": "markdown",
   "metadata": {},
   "source": [
    "## Variáveis qualitativas (nominal e ordinal).\n",
    "\n",
    "**Variáveis Qualitativas (ou categóricas):** são as características que não possuem valores quantitativos, mas, ao contrário, são definidas por várias categorias, ou seja, representam uma classificação dos indivíduos. Podem ser nominais ou ordinais.\n",
    "\n",
    "***Variáveis nominais:*** são variáveis apresentadas em **grupos** e **categorias**, **sem nenhum tipo de ordenação**. Exemplos: sexo biológico da pessoa, religião, cor da pele, etc.\n",
    "\n",
    "***Variáveis ordinais:*** são variáveis apresentadas em **grupos** e **categorias** nos quais **existe uma ordenação**. Exemplos: escolaridade (1o, 2o, 3o graus), estágio da doença (inicial, intermediário, terminal), mês de observação (janeiro, fevereiro,..., dezembro)."
   ]
  },
  {
   "cell_type": "markdown",
   "metadata": {},
   "source": [
    "### Exemplos\n",
    "\n",
    "Abaixo vamos mostrar o uso da função groupby para demonstrar a variável nominal (nominal_1) para o dataframe instrucional (df1), mostrando quais são seus agrupamentos, e aproveitamos para mostrar a média para cada um dos agrupamentos os valores médios calculados para a variável var_continua_1."
   ]
  },
  {
   "cell_type": "code",
   "execution_count": 17,
   "metadata": {
    "ExecuteTime": {
     "end_time": "2020-11-28T11:58:23.931586Z",
     "start_time": "2020-11-28T11:58:23.920615Z"
    }
   },
   "outputs": [
    {
     "data": {
      "text/html": [
       "<div>\n",
       "<style scoped>\n",
       "    .dataframe tbody tr th:only-of-type {\n",
       "        vertical-align: middle;\n",
       "    }\n",
       "\n",
       "    .dataframe tbody tr th {\n",
       "        vertical-align: top;\n",
       "    }\n",
       "\n",
       "    .dataframe thead th {\n",
       "        text-align: right;\n",
       "    }\n",
       "</style>\n",
       "<table border=\"1\" class=\"dataframe\">\n",
       "  <thead>\n",
       "    <tr style=\"text-align: right;\">\n",
       "      <th></th>\n",
       "      <th>nominal_1</th>\n",
       "      <th>var_continua_1</th>\n",
       "    </tr>\n",
       "    <tr>\n",
       "      <th>nominal_1</th>\n",
       "      <th></th>\n",
       "      <th></th>\n",
       "    </tr>\n",
       "  </thead>\n",
       "  <tbody>\n",
       "    <tr>\n",
       "      <th>A</th>\n",
       "      <td>25</td>\n",
       "      <td>47.116000</td>\n",
       "    </tr>\n",
       "    <tr>\n",
       "      <th>B</th>\n",
       "      <td>13</td>\n",
       "      <td>53.253846</td>\n",
       "    </tr>\n",
       "    <tr>\n",
       "      <th>C</th>\n",
       "      <td>23</td>\n",
       "      <td>56.430435</td>\n",
       "    </tr>\n",
       "    <tr>\n",
       "      <th>D</th>\n",
       "      <td>19</td>\n",
       "      <td>47.773684</td>\n",
       "    </tr>\n",
       "    <tr>\n",
       "      <th>E</th>\n",
       "      <td>20</td>\n",
       "      <td>49.070000</td>\n",
       "    </tr>\n",
       "  </tbody>\n",
       "</table>\n",
       "</div>"
      ],
      "text/plain": [
       "           nominal_1  var_continua_1\n",
       "nominal_1                           \n",
       "A                 25       47.116000\n",
       "B                 13       53.253846\n",
       "C                 23       56.430435\n",
       "D                 19       47.773684\n",
       "E                 20       49.070000"
      ]
     },
     "execution_count": 17,
     "metadata": {},
     "output_type": "execute_result"
    }
   ],
   "source": [
    "df1.groupby(['nominal_1']).agg({'nominal_1':'count','var_continua_1':'mean'})"
   ]
  }
 ],
 "metadata": {
  "hide_input": false,
  "kernelspec": {
   "display_name": "Python 3",
   "language": "python",
   "name": "python3"
  },
  "language_info": {
   "codemirror_mode": {
    "name": "ipython",
    "version": 3
   },
   "file_extension": ".py",
   "mimetype": "text/x-python",
   "name": "python",
   "nbconvert_exporter": "python",
   "pygments_lexer": "ipython3",
   "version": "3.8.3"
  },
  "latex_envs": {
   "LaTeX_envs_menu_present": true,
   "autoclose": false,
   "autocomplete": true,
   "bibliofile": "biblio.bib",
   "cite_by": "apalike",
   "current_citInitial": 1,
   "eqLabelWithNumbers": true,
   "eqNumInitial": 1,
   "hotkeys": {
    "equation": "Ctrl-E",
    "itemize": "Ctrl-I"
   },
   "labels_anchors": false,
   "latex_user_defs": false,
   "report_style_numbering": false,
   "user_envs_cfg": false
  },
  "toc": {
   "base_numbering": 1,
   "nav_menu": {
    "height": "167px",
    "width": "352px"
   },
   "number_sections": true,
   "sideBar": true,
   "skip_h1_title": false,
   "title_cell": "Table of Contents",
   "title_sidebar": "Contents",
   "toc_cell": false,
   "toc_position": {
    "height": "calc(100% - 180px)",
    "left": "10px",
    "top": "150px",
    "width": "236px"
   },
   "toc_section_display": true,
   "toc_window_display": true
  },
  "varInspector": {
   "cols": {
    "lenName": 16,
    "lenType": 16,
    "lenVar": 40
   },
   "kernels_config": {
    "python": {
     "delete_cmd_postfix": "",
     "delete_cmd_prefix": "del ",
     "library": "var_list.py",
     "varRefreshCmd": "print(var_dic_list())"
    },
    "r": {
     "delete_cmd_postfix": ") ",
     "delete_cmd_prefix": "rm(",
     "library": "var_list.r",
     "varRefreshCmd": "cat(var_dic_list()) "
    }
   },
   "types_to_exclude": [
    "module",
    "function",
    "builtin_function_or_method",
    "instance",
    "_Feature"
   ],
   "window_display": false
  }
 },
 "nbformat": 4,
 "nbformat_minor": 2
}
