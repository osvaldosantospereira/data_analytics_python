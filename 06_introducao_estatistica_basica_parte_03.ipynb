{
 "cells": [
  {
   "cell_type": "markdown",
   "metadata": {},
   "source": [
    "# Medidas de dispersão\n",
    "\n",
    "Como demonstrado no Desafio II da aula passada, as **medidas de tendência central** possuem algumas **limitações** para a descrição dos dados. Para complementar a informação sobre os dados, podemos utilizar **medidas que avaliam a variabilidade dos dados**, que são as medidas de dispersão."
   ]
  },
  {
   "cell_type": "code",
   "execution_count": 1,
   "metadata": {
    "ExecuteTime": {
     "end_time": "2020-12-03T16:55:37.552385Z",
     "start_time": "2020-12-03T16:55:35.868896Z"
    }
   },
   "outputs": [],
   "source": [
    "import numpy as np\n",
    "import seaborn as sns\n",
    "import matplotlib.pyplot as plt\n",
    "import pandas as pd\n",
    "import statistics"
   ]
  },
  {
   "cell_type": "code",
   "execution_count": 2,
   "metadata": {
    "ExecuteTime": {
     "end_time": "2020-12-03T16:55:37.566348Z",
     "start_time": "2020-12-03T16:55:37.556375Z"
    }
   },
   "outputs": [
    {
     "data": {
      "text/plain": [
       "8.59"
      ]
     },
     "execution_count": 2,
     "metadata": {},
     "output_type": "execute_result"
    }
   ],
   "source": [
    "np.mean([0,8.7,8.7,9.0,9.5,10,10,10,10,10])"
   ]
  },
  {
   "cell_type": "code",
   "execution_count": 3,
   "metadata": {
    "ExecuteTime": {
     "end_time": "2020-12-03T16:55:37.577323Z",
     "start_time": "2020-12-03T16:55:37.569340Z"
    }
   },
   "outputs": [
    {
     "data": {
      "text/plain": [
       "9.75"
      ]
     },
     "execution_count": 3,
     "metadata": {},
     "output_type": "execute_result"
    }
   ],
   "source": [
    "np.median([0,8.7,8.7,9.0,9.5,10,10,10,10,10])"
   ]
  },
  {
   "cell_type": "code",
   "execution_count": 4,
   "metadata": {
    "ExecuteTime": {
     "end_time": "2020-12-03T16:55:37.821948Z",
     "start_time": "2020-12-03T16:55:37.580311Z"
    }
   },
   "outputs": [
    {
     "data": {
      "text/plain": [
       "Text(0.5, 1.0, 'Distribuição Notas na prova final do CFC')"
      ]
     },
     "execution_count": 4,
     "metadata": {},
     "output_type": "execute_result"
    },
    {
     "data": {
      "image/png": "[encoded data removed]",
      "text/plain": [
       "<Figure size 432x288 with 1 Axes>"
      ]
     },
     "metadata": {
      "needs_background": "light"
     },
     "output_type": "display_data"
    }
   ],
   "source": [
    "notas_finais_cfc = [0,8.7,8.7,9.0,9.5,10,10,10,10,10]\n",
    "\n",
    "sns.distplot(notas_finais_cfc, color = 'skyblue', \n",
    "             label = 'nota_final_CFC', bins = 20).set_title('Distribuição Notas na prova final do CFC')"
   ]
  },
  {
   "cell_type": "code",
   "execution_count": 5,
   "metadata": {
    "ExecuteTime": {
     "end_time": "2020-12-03T16:55:37.832954Z",
     "start_time": "2020-12-03T16:55:37.824941Z"
    }
   },
   "outputs": [
    {
     "data": {
      "text/plain": [
       "8.59"
      ]
     },
     "execution_count": 5,
     "metadata": {},
     "output_type": "execute_result"
    }
   ],
   "source": [
    "np.mean([0,8.7,8.7,9.0,9.5,10,10,10,10,10])"
   ]
  },
  {
   "cell_type": "code",
   "execution_count": 6,
   "metadata": {
    "ExecuteTime": {
     "end_time": "2020-12-03T16:55:37.845883Z",
     "start_time": "2020-12-03T16:55:37.836907Z"
    }
   },
   "outputs": [
    {
     "data": {
      "text/plain": [
       "9.75"
      ]
     },
     "execution_count": 6,
     "metadata": {},
     "output_type": "execute_result"
    }
   ],
   "source": [
    "np.median([0,8.7,8.7,9.0,9.5,10,10,10,10,10])"
   ]
  },
  {
   "cell_type": "code",
   "execution_count": 7,
   "metadata": {
    "ExecuteTime": {
     "end_time": "2020-12-03T16:55:39.596238Z",
     "start_time": "2020-12-03T16:55:37.849873Z"
    }
   },
   "outputs": [
    {
     "data": {
      "text/html": [
       "<div>\n",
       "<style scoped>\n",
       "    .dataframe tbody tr th:only-of-type {\n",
       "        vertical-align: middle;\n",
       "    }\n",
       "\n",
       "    .dataframe tbody tr th {\n",
       "        vertical-align: top;\n",
       "    }\n",
       "\n",
       "    .dataframe thead th {\n",
       "        text-align: right;\n",
       "    }\n",
       "</style>\n",
       "<table border=\"1\" class=\"dataframe\">\n",
       "  <thead>\n",
       "    <tr style=\"text-align: right;\">\n",
       "      <th></th>\n",
       "      <th>id_patient</th>\n",
       "      <th>age_years</th>\n",
       "      <th>sex</th>\n",
       "      <th>number_of_children</th>\n",
       "      <th>flag_married</th>\n",
       "      <th>bmi_kg_m2</th>\n",
       "      <th>height_cm</th>\n",
       "      <th>weight_kg</th>\n",
       "      <th>hdl_mg_dl</th>\n",
       "      <th>ldl_mg_dl</th>\n",
       "      <th>...</th>\n",
       "      <th>index_systolic_blood_pressure</th>\n",
       "      <th>index_diastolic_blood_pressure</th>\n",
       "      <th>index_blood_pressure</th>\n",
       "      <th>sum_index_disease</th>\n",
       "      <th>avg_index_disease</th>\n",
       "      <th>target_index_disease</th>\n",
       "      <th>clients</th>\n",
       "      <th>unidade</th>\n",
       "      <th>mfc</th>\n",
       "      <th>new_score</th>\n",
       "    </tr>\n",
       "  </thead>\n",
       "  <tbody>\n",
       "    <tr>\n",
       "      <th>0</th>\n",
       "      <td>1</td>\n",
       "      <td>23.600347</td>\n",
       "      <td>1</td>\n",
       "      <td>0</td>\n",
       "      <td>0</td>\n",
       "      <td>23.765629</td>\n",
       "      <td>151.049106</td>\n",
       "      <td>54.223261</td>\n",
       "      <td>67.119601</td>\n",
       "      <td>94.935636</td>\n",
       "      <td>...</td>\n",
       "      <td>1</td>\n",
       "      <td>2</td>\n",
       "      <td>3</td>\n",
       "      <td>18</td>\n",
       "      <td>1.636364</td>\n",
       "      <td>0</td>\n",
       "      <td>client04</td>\n",
       "      <td>un06</td>\n",
       "      <td>mfc21</td>\n",
       "      <td>0.000006</td>\n",
       "    </tr>\n",
       "    <tr>\n",
       "      <th>1</th>\n",
       "      <td>2</td>\n",
       "      <td>28.180492</td>\n",
       "      <td>1</td>\n",
       "      <td>0</td>\n",
       "      <td>0</td>\n",
       "      <td>22.891895</td>\n",
       "      <td>161.449691</td>\n",
       "      <td>59.670019</td>\n",
       "      <td>69.234692</td>\n",
       "      <td>95.230407</td>\n",
       "      <td>...</td>\n",
       "      <td>1</td>\n",
       "      <td>2</td>\n",
       "      <td>3</td>\n",
       "      <td>18</td>\n",
       "      <td>1.636364</td>\n",
       "      <td>0</td>\n",
       "      <td>client04</td>\n",
       "      <td>un12</td>\n",
       "      <td>mfc39</td>\n",
       "      <td>0.000006</td>\n",
       "    </tr>\n",
       "    <tr>\n",
       "      <th>2</th>\n",
       "      <td>3</td>\n",
       "      <td>24.916474</td>\n",
       "      <td>1</td>\n",
       "      <td>0</td>\n",
       "      <td>0</td>\n",
       "      <td>25.687941</td>\n",
       "      <td>156.140406</td>\n",
       "      <td>62.626754</td>\n",
       "      <td>60.938429</td>\n",
       "      <td>99.944524</td>\n",
       "      <td>...</td>\n",
       "      <td>1</td>\n",
       "      <td>2</td>\n",
       "      <td>3</td>\n",
       "      <td>20</td>\n",
       "      <td>1.818182</td>\n",
       "      <td>0</td>\n",
       "      <td>client04</td>\n",
       "      <td>un09</td>\n",
       "      <td>mfc27</td>\n",
       "      <td>0.037970</td>\n",
       "    </tr>\n",
       "    <tr>\n",
       "      <th>3</th>\n",
       "      <td>4</td>\n",
       "      <td>28.489040</td>\n",
       "      <td>1</td>\n",
       "      <td>0</td>\n",
       "      <td>0</td>\n",
       "      <td>22.802512</td>\n",
       "      <td>163.527442</td>\n",
       "      <td>60.976709</td>\n",
       "      <td>62.430110</td>\n",
       "      <td>94.763726</td>\n",
       "      <td>...</td>\n",
       "      <td>1</td>\n",
       "      <td>2</td>\n",
       "      <td>3</td>\n",
       "      <td>19</td>\n",
       "      <td>1.727273</td>\n",
       "      <td>0</td>\n",
       "      <td>client05</td>\n",
       "      <td>un15</td>\n",
       "      <td>mfc51</td>\n",
       "      <td>0.000040</td>\n",
       "    </tr>\n",
       "    <tr>\n",
       "      <th>4</th>\n",
       "      <td>5</td>\n",
       "      <td>23.580738</td>\n",
       "      <td>1</td>\n",
       "      <td>0</td>\n",
       "      <td>0</td>\n",
       "      <td>23.347263</td>\n",
       "      <td>162.206615</td>\n",
       "      <td>61.428950</td>\n",
       "      <td>64.926035</td>\n",
       "      <td>85.078514</td>\n",
       "      <td>...</td>\n",
       "      <td>1</td>\n",
       "      <td>1</td>\n",
       "      <td>1</td>\n",
       "      <td>16</td>\n",
       "      <td>1.454545</td>\n",
       "      <td>0</td>\n",
       "      <td>client06</td>\n",
       "      <td>un02</td>\n",
       "      <td>mfc59</td>\n",
       "      <td>0.000009</td>\n",
       "    </tr>\n",
       "  </tbody>\n",
       "</table>\n",
       "<p>5 rows × 46 columns</p>\n",
       "</div>"
      ],
      "text/plain": [
       "   id_patient  age_years  sex  number_of_children  flag_married  bmi_kg_m2  \\\n",
       "0           1  23.600347    1                   0             0  23.765629   \n",
       "1           2  28.180492    1                   0             0  22.891895   \n",
       "2           3  24.916474    1                   0             0  25.687941   \n",
       "3           4  28.489040    1                   0             0  22.802512   \n",
       "4           5  23.580738    1                   0             0  23.347263   \n",
       "\n",
       "    height_cm  weight_kg  hdl_mg_dl  ldl_mg_dl  ...  \\\n",
       "0  151.049106  54.223261  67.119601  94.935636  ...   \n",
       "1  161.449691  59.670019  69.234692  95.230407  ...   \n",
       "2  156.140406  62.626754  60.938429  99.944524  ...   \n",
       "3  163.527442  60.976709  62.430110  94.763726  ...   \n",
       "4  162.206615  61.428950  64.926035  85.078514  ...   \n",
       "\n",
       "   index_systolic_blood_pressure  index_diastolic_blood_pressure  \\\n",
       "0                              1                               2   \n",
       "1                              1                               2   \n",
       "2                              1                               2   \n",
       "3                              1                               2   \n",
       "4                              1                               1   \n",
       "\n",
       "   index_blood_pressure  sum_index_disease  avg_index_disease  \\\n",
       "0                     3                 18           1.636364   \n",
       "1                     3                 18           1.636364   \n",
       "2                     3                 20           1.818182   \n",
       "3                     3                 19           1.727273   \n",
       "4                     1                 16           1.454545   \n",
       "\n",
       "   target_index_disease   clients  unidade    mfc  new_score  \n",
       "0                     0  client04     un06  mfc21   0.000006  \n",
       "1                     0  client04     un12  mfc39   0.000006  \n",
       "2                     0  client04     un09  mfc27   0.037970  \n",
       "3                     0  client05     un15  mfc51   0.000040  \n",
       "4                     0  client06     un02  mfc59   0.000009  \n",
       "\n",
       "[5 rows x 46 columns]"
      ]
     },
     "execution_count": 7,
     "metadata": {},
     "output_type": "execute_result"
    }
   ],
   "source": [
    "df2 = pd.read_csv('carteira_medicina_familia_sintetica.csv',encoding='ISO-8859-1',delimiter=';',low_memory = False)\n",
    "df2.head()"
   ]
  },
  {
   "cell_type": "code",
   "execution_count": 8,
   "metadata": {
    "ExecuteTime": {
     "end_time": "2020-12-03T16:55:39.872766Z",
     "start_time": "2020-12-03T16:55:39.598550Z"
    }
   },
   "outputs": [
    {
     "data": {
      "text/plain": [
       "Text(0.5, 1.0, 'Distribuição de Altura na Carteira de Medicina Familiar')"
      ]
     },
     "execution_count": 8,
     "metadata": {},
     "output_type": "execute_result"
    },
    {
     "data": {
      "image/png": "[encoded data removed]",
      "text/plain": [
       "<Figure size 432x288 with 1 Axes>"
      ]
     },
     "metadata": {
      "needs_background": "light"
     },
     "output_type": "display_data"
    }
   ],
   "source": [
    "sns.distplot(df2['height_cm'] , color = 'darkblue', \n",
    "             label = 'var_continua_1', \n",
    "             bins=10, hist=True).set_title('Distribuição de Altura na Carteira de Medicina Familiar')"
   ]
  },
  {
   "cell_type": "markdown",
   "metadata": {},
   "source": [
    "## Variância\n",
    "\n",
    "A variância, comumente designada pela letra grega sigma ao quadrado $\\sigma^2$ ou pela letra $S$ ou simplesmente $\\text{ var}(x)$ sendo x uma variável aleatória, é uma medida de dispersão estatística, ou seja avalia como os dados em uma dada amostra populacional está espalhada. A fórmula matemática para o cálculo da variância é dada pela equação a seguir\n",
    "\n",
    "\\begin{equation}\n",
    "\\sigma^2 = \\frac{1}{n-1}\\sum_{i = 1}^{}(x_i − \\bar{x})^2,\n",
    "\\end{equation}\n",
    "\n",
    "sendo $\\bar{x} = \\frac{1}{n}\\sum_i x_i$ a média da amostra.\n",
    "\n",
    "### Exemplo 1"
   ]
  },
  {
   "cell_type": "code",
   "execution_count": 9,
   "metadata": {
    "ExecuteTime": {
     "end_time": "2020-12-03T16:55:39.881743Z",
     "start_time": "2020-12-03T16:55:39.874793Z"
    }
   },
   "outputs": [
    {
     "name": "stdout",
     "output_type": "stream",
     "text": [
      "Media:  8.76\n"
     ]
    }
   ],
   "source": [
    "x = [8, 1.8, 4.5, 4.5, 25]\n",
    "\n",
    "x_media = np.mean(x)\n",
    "print('Media: ', x_media)"
   ]
  },
  {
   "cell_type": "code",
   "execution_count": 10,
   "metadata": {
    "ExecuteTime": {
     "end_time": "2020-12-03T16:55:39.890760Z",
     "start_time": "2020-12-03T16:55:39.884733Z"
    }
   },
   "outputs": [
    {
     "name": "stdout",
     "output_type": "stream",
     "text": [
      "Somatoria:  349.052\n"
     ]
    }
   ],
   "source": [
    "x_soma = (8 - x_media)**2 + (1.8 - x_media)**2 + (4.5 - x_media)**2 + (4.5 - x_media)**2 + (25 - x_media)**2\n",
    "print('Somatoria: ', x_soma)"
   ]
  },
  {
   "cell_type": "code",
   "execution_count": 11,
   "metadata": {
    "ExecuteTime": {
     "end_time": "2020-12-03T16:55:39.899694Z",
     "start_time": "2020-12-03T16:55:39.894707Z"
    }
   },
   "outputs": [
    {
     "name": "stdout",
     "output_type": "stream",
     "text": [
      "0.0\n"
     ]
    }
   ],
   "source": [
    "# Modo incorreto:\n",
    "print((8 - x_media) + (1.8 - x_media) + (4.5 - x_media) + (4.5 - x_media) + (25 - x_media))\n",
    "# "
   ]
  },
  {
   "cell_type": "code",
   "execution_count": 12,
   "metadata": {
    "ExecuteTime": {
     "end_time": "2020-12-03T16:55:39.909709Z",
     "start_time": "2020-12-03T16:55:39.902719Z"
    }
   },
   "outputs": [
    {
     "data": {
      "text/plain": [
       "0.25"
      ]
     },
     "execution_count": 12,
     "metadata": {},
     "output_type": "execute_result"
    }
   ],
   "source": [
    "1 / (5 - 1)"
   ]
  },
  {
   "cell_type": "code",
   "execution_count": 13,
   "metadata": {
    "ExecuteTime": {
     "end_time": "2020-12-03T16:55:39.920637Z",
     "start_time": "2020-12-03T16:55:39.912659Z"
    }
   },
   "outputs": [
    {
     "data": {
      "text/plain": [
       "87.263"
      ]
     },
     "execution_count": 13,
     "metadata": {},
     "output_type": "execute_result"
    }
   ],
   "source": [
    "# Variância: \n",
    "0.25 * 349.052"
   ]
  },
  {
   "cell_type": "code",
   "execution_count": 14,
   "metadata": {
    "ExecuteTime": {
     "end_time": "2020-12-03T16:55:39.936628Z",
     "start_time": "2020-12-03T16:55:39.924627Z"
    }
   },
   "outputs": [
    {
     "name": "stdout",
     "output_type": "stream",
     "text": [
      "Media 8.76\n"
     ]
    },
    {
     "data": {
      "text/plain": [
       "87.263"
      ]
     },
     "execution_count": 14,
     "metadata": {},
     "output_type": "execute_result"
    }
   ],
   "source": [
    "x = [8, 1.8, 4.5, 4.5, 25]\n",
    "\n",
    "media_x = np.mean(x)\n",
    "\n",
    "print('Media', media_x)\n",
    "\n",
    "# Parte inicial da equação da variância\n",
    "val_1 = 1/(5-1)\n",
    "\n",
    "# Parte final da equação da variância\n",
    "val_2 = (8- media_x)**2 + (1.8 - media_x)**2 + (4.5 - media_x)**2 + (4.5 - media_x)**2 + (25 - media_x)**2\n",
    "\n",
    "# Modo errado, sem elevar ao quadrado\n",
    "#val_2 = (8- media_x) + (1.8 - media_x) + (4.5 - media_x) + (4.5 - media_x) + (25 - media_x)\n",
    "          \n",
    "\n",
    "# Variância\n",
    "val_1 * val_2"
   ]
  },
  {
   "cell_type": "code",
   "execution_count": 15,
   "metadata": {
    "ExecuteTime": {
     "end_time": "2020-12-03T16:55:39.966516Z",
     "start_time": "2020-12-03T16:55:39.940586Z"
    }
   },
   "outputs": [
    {
     "name": "stdout",
     "output_type": "stream",
     "text": [
      "87.263\n"
     ]
    }
   ],
   "source": [
    "x = [8, 1.8, 4.5, 4.5, 25]\n",
    "\n",
    "n = len(x)\n",
    "mean_ = sum(x) / n\n",
    "var_ = sum((item - mean_)**2 for item in x) / (n - 1)\n",
    "print(var_)"
   ]
  },
  {
   "cell_type": "code",
   "execution_count": 16,
   "metadata": {
    "ExecuteTime": {
     "end_time": "2020-12-03T16:55:39.991448Z",
     "start_time": "2020-12-03T16:55:39.981476Z"
    }
   },
   "outputs": [
    {
     "data": {
      "text/plain": [
       "87.263"
      ]
     },
     "execution_count": 16,
     "metadata": {},
     "output_type": "execute_result"
    }
   ],
   "source": [
    "# import statistics\n",
    "\n",
    "statistics.variance(x)"
   ]
  },
  {
   "cell_type": "code",
   "execution_count": 17,
   "metadata": {
    "ExecuteTime": {
     "end_time": "2020-12-03T16:55:40.007406Z",
     "start_time": "2020-12-03T16:55:39.996435Z"
    }
   },
   "outputs": [
    {
     "data": {
      "text/plain": [
       "87.263"
      ]
     },
     "execution_count": 17,
     "metadata": {},
     "output_type": "execute_result"
    }
   ],
   "source": [
    "def variancia(i):\n",
    "    media = np.mean(i)\n",
    "    soma = 0\n",
    "    for x in i:\n",
    "        soma += (x - media)**2\n",
    "    return soma / (len(i)-1)\n",
    "\n",
    "\n",
    "variancia(i = [8, 1.8, 4.5, 4.5, 25])"
   ]
  },
  {
   "cell_type": "markdown",
   "metadata": {},
   "source": [
    "### Exemplo 2\n",
    "\n",
    "Calculando a variância da altura da amostra Distribuição de Altura na Carteira de Medicina Familiar"
   ]
  },
  {
   "cell_type": "code",
   "execution_count": 18,
   "metadata": {
    "ExecuteTime": {
     "end_time": "2020-12-03T16:55:40.020373Z",
     "start_time": "2020-12-03T16:55:40.011396Z"
    }
   },
   "outputs": [
    {
     "data": {
      "text/plain": [
       "30.332794173289436"
      ]
     },
     "execution_count": 18,
     "metadata": {},
     "output_type": "execute_result"
    }
   ],
   "source": [
    "df2['height_cm'].var()"
   ]
  },
  {
   "cell_type": "code",
   "execution_count": 19,
   "metadata": {
    "ExecuteTime": {
     "end_time": "2020-12-03T16:55:40.043311Z",
     "start_time": "2020-12-03T16:55:40.025358Z"
    }
   },
   "outputs": [
    {
     "data": {
      "text/plain": [
       "0     151.049106\n",
       "1     161.449691\n",
       "2     156.140406\n",
       "3     163.527442\n",
       "4     162.206615\n",
       "5     158.539932\n",
       "6     159.664250\n",
       "7     161.319338\n",
       "8     157.023768\n",
       "9     162.745233\n",
       "10    161.192918\n",
       "11    164.688890\n",
       "12    160.282837\n",
       "13    160.427520\n",
       "14    156.625667\n",
       "15    159.050400\n",
       "16    163.166785\n",
       "17    164.668160\n",
       "18    155.142977\n",
       "19    160.278368\n",
       "Name: height_cm, dtype: float64"
      ]
     },
     "execution_count": 19,
     "metadata": {},
     "output_type": "execute_result"
    }
   ],
   "source": [
    "df2['height_cm'][:20]"
   ]
  },
  {
   "cell_type": "code",
   "execution_count": 20,
   "metadata": {
    "ExecuteTime": {
     "end_time": "2020-12-03T16:55:40.060264Z",
     "start_time": "2020-12-03T16:55:40.050291Z"
    }
   },
   "outputs": [
    {
     "data": {
      "text/plain": [
       "166.30274172077557"
      ]
     },
     "execution_count": 20,
     "metadata": {},
     "output_type": "execute_result"
    }
   ],
   "source": [
    "df2['height_cm'].mean()"
   ]
  },
  {
   "cell_type": "code",
   "execution_count": 21,
   "metadata": {
    "ExecuteTime": {
     "end_time": "2020-12-03T16:55:40.076222Z",
     "start_time": "2020-12-03T16:55:40.066249Z"
    }
   },
   "outputs": [
    {
     "data": {
      "text/plain": [
       "160.5"
      ]
     },
     "execution_count": 21,
     "metadata": {},
     "output_type": "execute_result"
    }
   ],
   "source": [
    "# Limite Inferior\n",
    "166 - 5.5"
   ]
  },
  {
   "cell_type": "code",
   "execution_count": 22,
   "metadata": {
    "ExecuteTime": {
     "end_time": "2020-12-03T16:55:40.091181Z",
     "start_time": "2020-12-03T16:55:40.080210Z"
    }
   },
   "outputs": [
    {
     "data": {
      "text/plain": [
       "171.5"
      ]
     },
     "execution_count": 22,
     "metadata": {},
     "output_type": "execute_result"
    }
   ],
   "source": [
    "# Limite Superior\n",
    "166 + 5.5"
   ]
  },
  {
   "cell_type": "code",
   "execution_count": 23,
   "metadata": {
    "ExecuteTime": {
     "end_time": "2020-12-03T16:55:40.106141Z",
     "start_time": "2020-12-03T16:55:40.095172Z"
    }
   },
   "outputs": [
    {
     "data": {
      "text/plain": [
       "0    151.049106\n",
       "1    161.449691\n",
       "2    156.140406\n",
       "3    163.527442\n",
       "4    162.206615\n",
       "5    158.539932\n",
       "6    159.664250\n",
       "7    161.319338\n",
       "8    157.023768\n",
       "9    162.745233\n",
       "Name: height_cm, dtype: float64"
      ]
     },
     "execution_count": 23,
     "metadata": {},
     "output_type": "execute_result"
    }
   ],
   "source": [
    "[160.5, 171.5]\n",
    "\n",
    "df2['height_cm'][:10]"
   ]
  },
  {
   "cell_type": "code",
   "execution_count": 24,
   "metadata": {
    "ExecuteTime": {
     "end_time": "2020-12-03T16:55:40.130090Z",
     "start_time": "2020-12-03T16:55:40.111128Z"
    }
   },
   "outputs": [
    {
     "data": {
      "text/plain": [
       "150    161.141250\n",
       "151    164.232163\n",
       "152    157.269379\n",
       "153    163.098530\n",
       "154    158.618594\n",
       "155    168.260732\n",
       "156    163.602296\n",
       "157    160.027963\n",
       "158    161.151716\n",
       "159    167.764784\n",
       "Name: height_cm, dtype: float64"
      ]
     },
     "execution_count": 24,
     "metadata": {},
     "output_type": "execute_result"
    }
   ],
   "source": [
    "df2['height_cm'][150:160]"
   ]
  },
  {
   "cell_type": "markdown",
   "metadata": {},
   "source": [
    "## Desvio Padrão\n",
    "\n",
    "O desvio padrão da amostra está relacionado diretamente a variância. Ele é calculado pela raiz quadrada da variância. É uma medida muito mais útil que a variância por está na mesma unidade que os dados, facilitando sua interpretação.\n",
    "\n",
    "\\begin{equation}\n",
    "\\sigma = \\sqrt{\\frac{1}{n-1}\\sum_{i=1}^{n}(x_i - \\bar{x})^2}.\n",
    "\\end{equation}\n",
    "\n",
    "### Exemplo 1"
   ]
  },
  {
   "cell_type": "code",
   "execution_count": 25,
   "metadata": {
    "ExecuteTime": {
     "end_time": "2020-12-03T16:55:40.208867Z",
     "start_time": "2020-12-03T16:55:40.137061Z"
    }
   },
   "outputs": [
    {
     "data": {
      "text/plain": [
       "5.5072679252057455"
      ]
     },
     "execution_count": 25,
     "metadata": {},
     "output_type": "execute_result"
    }
   ],
   "source": [
    "np.sqrt(30.33)"
   ]
  },
  {
   "cell_type": "code",
   "execution_count": 26,
   "metadata": {
    "ExecuteTime": {
     "end_time": "2020-12-03T16:55:40.232803Z",
     "start_time": "2020-12-03T16:55:40.213853Z"
    }
   },
   "outputs": [
    {
     "name": "stdout",
     "output_type": "stream",
     "text": [
      "9.341466694261667\n"
     ]
    }
   ],
   "source": [
    "x = [8, 1.8, 4.5, 4.5, 25]\n",
    "\n",
    "n = len(x)\n",
    "mean_ = sum(x) / n\n",
    "var_ = sum((item - mean_)**2 for item in x) / (n - 1)\n",
    "\n",
    "sd = var_ ** 0.5\n",
    "\n",
    "# ou\n",
    "\n",
    "sd = np.sqrt(var_)\n",
    "\n",
    "print(sd)"
   ]
  },
  {
   "cell_type": "code",
   "execution_count": 27,
   "metadata": {
    "ExecuteTime": {
     "end_time": "2020-12-03T16:55:40.244770Z",
     "start_time": "2020-12-03T16:55:40.235796Z"
    }
   },
   "outputs": [
    {
     "data": {
      "text/plain": [
       "9.341466694261667"
      ]
     },
     "execution_count": 27,
     "metadata": {},
     "output_type": "execute_result"
    }
   ],
   "source": [
    "statistics.variance(x) ** .5"
   ]
  },
  {
   "cell_type": "code",
   "execution_count": 28,
   "metadata": {
    "ExecuteTime": {
     "end_time": "2020-12-03T16:55:40.257738Z",
     "start_time": "2020-12-03T16:55:40.250754Z"
    }
   },
   "outputs": [
    {
     "data": {
      "text/plain": [
       "9.341466694261667"
      ]
     },
     "execution_count": 28,
     "metadata": {},
     "output_type": "execute_result"
    }
   ],
   "source": [
    "statistics.stdev(x)"
   ]
  },
  {
   "cell_type": "markdown",
   "metadata": {},
   "source": [
    "### Exemplo 2\n",
    "\n",
    "Calculando a variância da altura da amostra Distribuição de Altura na Carteira de Medicina Familiar"
   ]
  },
  {
   "cell_type": "code",
   "execution_count": 29,
   "metadata": {
    "ExecuteTime": {
     "end_time": "2020-12-03T16:55:40.270705Z",
     "start_time": "2020-12-03T16:55:40.260728Z"
    }
   },
   "outputs": [
    {
     "data": {
      "text/plain": [
       "5.507521599893135"
      ]
     },
     "execution_count": 29,
     "metadata": {},
     "output_type": "execute_result"
    }
   ],
   "source": [
    "df2['height_cm'].std()"
   ]
  },
  {
   "cell_type": "code",
   "execution_count": 30,
   "metadata": {
    "ExecuteTime": {
     "end_time": "2020-12-03T16:55:40.284666Z",
     "start_time": "2020-12-03T16:55:40.275689Z"
    }
   },
   "outputs": [
    {
     "data": {
      "text/plain": [
       "166.30274172077557"
      ]
     },
     "execution_count": 30,
     "metadata": {},
     "output_type": "execute_result"
    }
   ],
   "source": [
    "df2['height_cm'].mean()"
   ]
  },
  {
   "cell_type": "code",
   "execution_count": 31,
   "metadata": {
    "ExecuteTime": {
     "end_time": "2020-12-03T16:55:40.299624Z",
     "start_time": "2020-12-03T16:55:40.290649Z"
    }
   },
   "outputs": [
    {
     "data": {
      "text/plain": [
       "160.5"
      ]
     },
     "execution_count": 31,
     "metadata": {},
     "output_type": "execute_result"
    }
   ],
   "source": [
    "# Limite Inferior\n",
    "166-5.5"
   ]
  },
  {
   "cell_type": "code",
   "execution_count": 32,
   "metadata": {
    "ExecuteTime": {
     "end_time": "2020-12-03T16:55:40.312591Z",
     "start_time": "2020-12-03T16:55:40.305608Z"
    }
   },
   "outputs": [
    {
     "data": {
      "text/plain": [
       "171.5"
      ]
     },
     "execution_count": 32,
     "metadata": {},
     "output_type": "execute_result"
    }
   ],
   "source": [
    "# Limite Superior\n",
    "166+5.5"
   ]
  },
  {
   "cell_type": "markdown",
   "metadata": {},
   "source": [
    "# A Distribuição Normal\n",
    "\n",
    "Ou distribuição Gaussina, ou curva de sino, ou ..."
   ]
  },
  {
   "cell_type": "code",
   "execution_count": 33,
   "metadata": {
    "ExecuteTime": {
     "end_time": "2020-12-03T16:55:40.328547Z",
     "start_time": "2020-12-03T16:55:40.319573Z"
    }
   },
   "outputs": [
    {
     "name": "stdout",
     "output_type": "stream",
     "text": [
      "[168.83135603 159.31143113 173.23949805 170.35822802 165.72375986\n",
      " 166.47499456 166.05686776 163.25283283 161.0368232  163.86928335\n",
      " 177.78758108 162.5629493  162.37941328 169.67414487 164.96214039\n",
      " 153.54272829 160.70284024 169.17275947 166.21188294 165.01114496\n",
      " 165.73784858 163.37340627 167.32236672 156.36533717 159.76172472\n",
      " 164.09292241 167.95242077 173.72362014 157.9260824  169.16246068]\n"
     ]
    }
   ],
   "source": [
    "from numpy import random as rdn\n",
    "\n",
    "x = rdn.normal(loc = 166, scale = 5.5,size=30)\n",
    "\n",
    "print(x)"
   ]
  },
  {
   "cell_type": "code",
   "execution_count": 34,
   "metadata": {
    "ExecuteTime": {
     "end_time": "2020-12-03T16:55:40.343530Z",
     "start_time": "2020-12-03T16:55:40.332536Z"
    }
   },
   "outputs": [
    {
     "data": {
      "text/plain": [
       "array([1.83303167, 1.71097759, 1.6669225 , 1.78592523, 1.73670989,\n",
       "       1.6992852 , 1.69892766, 1.80308191, 1.86846678, 1.77831995,\n",
       "       1.89807448, 1.63668058, 1.74635592, 1.77866533, 1.74521535,\n",
       "       1.66518495, 1.7272564 , 1.83383643, 1.7367447 , 1.74660129])"
      ]
     },
     "execution_count": 34,
     "metadata": {},
     "output_type": "execute_result"
    }
   ],
   "source": [
    "# População Brasileira\n",
    "altura_media = 173.1/100\n",
    "desvio_padrao = 7.3/100\n",
    "\n",
    "x = rdn.normal(loc=altura_media, scale=desvio_padrao, size=1000)\n",
    "x[:20]"
   ]
  },
  {
   "cell_type": "code",
   "execution_count": 35,
   "metadata": {
    "ExecuteTime": {
     "end_time": "2020-12-03T16:55:40.600820Z",
     "start_time": "2020-12-03T16:55:40.348500Z"
    }
   },
   "outputs": [
    {
     "data": {
      "text/plain": [
       "<matplotlib.axes._subplots.AxesSubplot at 0x240d8439220>"
      ]
     },
     "execution_count": 35,
     "metadata": {},
     "output_type": "execute_result"
    },
    {
     "data": {
      "image/png": "[encoded data removed]",
      "text/plain": [
       "<Figure size 432x288 with 1 Axes>"
      ]
     },
     "metadata": {
      "needs_background": "light"
     },
     "output_type": "display_data"
    }
   ],
   "source": [
    "sns.distplot(x, hist=True, kde=False)"
   ]
  },
  {
   "cell_type": "code",
   "execution_count": 36,
   "metadata": {
    "ExecuteTime": {
     "end_time": "2020-12-03T16:55:40.854142Z",
     "start_time": "2020-12-03T16:55:40.603811Z"
    }
   },
   "outputs": [
    {
     "data": {
      "text/plain": [
       "<matplotlib.axes._subplots.AxesSubplot at 0x240d84d37c0>"
      ]
     },
     "execution_count": 36,
     "metadata": {},
     "output_type": "execute_result"
    },
    {
     "data": {
      "image/png": "[encoded data removed]",
      "text/plain": [
       "<Figure size 432x288 with 1 Axes>"
      ]
     },
     "metadata": {
      "needs_background": "light"
     },
     "output_type": "display_data"
    }
   ],
   "source": [
    "sns.distplot(x, hist=True, kde=True)"
   ]
  },
  {
   "cell_type": "code",
   "execution_count": 37,
   "metadata": {
    "ExecuteTime": {
     "end_time": "2020-12-03T16:55:40.864115Z",
     "start_time": "2020-12-03T16:55:40.856137Z"
    }
   },
   "outputs": [
    {
     "name": "stdout",
     "output_type": "stream",
     "text": [
      "Altura Media Curso: 1.714\n",
      "Desv Pad Curso: 0.09\n"
     ]
    }
   ],
   "source": [
    "# População Brasileira\n",
    "altura_media = 1.73\n",
    "desvio_padrao = 0.07\n",
    "\n",
    "# Amostra do Curso\n",
    "amostra_curso = [1.78, 1.88, 1.65, 1.70, 1.62, 1.55, 1.77, 1.82, 1.75, 1.75, 1.53, 1.58, 1.85, 1.75, 1.62, 1.76, 1.82, 1.68,\n",
    "1.78, 1.68, 1.60, 1.81, 1.60, 1.85, 1.83, 1.66, 1.64, 1.83, 1.57, 1.67, 1.75, 1.65, 1.79, 1.67, 1.75]\n",
    "\n",
    "altura_media_curso = np.mean(amostra_curso)\n",
    "print('Altura Media Curso:', altura_media_curso)\n",
    "\n",
    "desv_pad_curso = round(np.std(amostra_curso),2)\n",
    "print('Desv Pad Curso:', desv_pad_curso)"
   ]
  },
  {
   "cell_type": "code",
   "execution_count": 38,
   "metadata": {
    "ExecuteTime": {
     "end_time": "2020-12-03T16:55:41.132445Z",
     "start_time": "2020-12-03T16:55:40.866110Z"
    }
   },
   "outputs": [
    {
     "data": {
      "image/png": "[encoded data removed]",
      "text/plain": [
       "<Figure size 432x288 with 1 Axes>"
      ]
     },
     "metadata": {
      "needs_background": "light"
     },
     "output_type": "display_data"
    }
   ],
   "source": [
    "x = rdn.normal(loc=altura_media, scale=desvio_padrao, size=1000)\n",
    "x2 = rdn.normal(loc=1.51, scale=0.09, size=1000)\n",
    "\n",
    "sns.distplot(x, hist=True, kde=False)\n",
    "sns.distplot(x2, hist=True, kde=False);"
   ]
  },
  {
   "cell_type": "code",
   "execution_count": 39,
   "metadata": {
    "ExecuteTime": {
     "end_time": "2020-12-03T16:55:41.317936Z",
     "start_time": "2020-12-03T16:55:41.135389Z"
    }
   },
   "outputs": [
    {
     "data": {
      "image/png": "[encoded data removed]",
      "text/plain": [
       "<Figure size 432x288 with 1 Axes>"
      ]
     },
     "metadata": {
      "needs_background": "light"
     },
     "output_type": "display_data"
    }
   ],
   "source": [
    "sns.distplot(x, hist=False, kde=True)\n",
    "sns.distplot(x2, hist=False, kde=True);"
   ]
  },
  {
   "cell_type": "markdown",
   "metadata": {},
   "source": [
    "## Propriedades da Distribuição Normal"
   ]
  },
  {
   "cell_type": "code",
   "execution_count": 40,
   "metadata": {
    "ExecuteTime": {
     "end_time": "2020-12-03T16:55:41.325913Z",
     "start_time": "2020-12-03T16:55:41.319899Z"
    }
   },
   "outputs": [
    {
     "name": "stdout",
     "output_type": "stream",
     "text": [
      "Altura Media Curso: 1.714\n",
      "Desv Pad Curso: 0.09\n"
     ]
    }
   ],
   "source": [
    "altura_media_curso = np.mean(amostra_curso)\n",
    "print('Altura Media Curso:', altura_media_curso)\n",
    "\n",
    "desv_pad_curso = round(np.std(amostra_curso),2)\n",
    "print('Desv Pad Curso:', desv_pad_curso)"
   ]
  },
  {
   "cell_type": "code",
   "execution_count": 41,
   "metadata": {
    "ExecuteTime": {
     "end_time": "2020-12-03T16:55:41.336855Z",
     "start_time": "2020-12-03T16:55:41.329897Z"
    }
   },
   "outputs": [
    {
     "data": {
      "text/plain": [
       "1.534"
      ]
     },
     "execution_count": 41,
     "metadata": {},
     "output_type": "execute_result"
    }
   ],
   "source": [
    "# Limite inferior (2 sd)\n",
    "1.714 - 2 * 0.09"
   ]
  },
  {
   "cell_type": "code",
   "execution_count": 42,
   "metadata": {
    "ExecuteTime": {
     "end_time": "2020-12-03T16:55:41.348833Z",
     "start_time": "2020-12-03T16:55:41.339844Z"
    }
   },
   "outputs": [
    {
     "data": {
      "text/plain": [
       "1.894"
      ]
     },
     "execution_count": 42,
     "metadata": {},
     "output_type": "execute_result"
    }
   ],
   "source": [
    "# Limite Superior (2 sd)\n",
    "1.714 + 2 * 0.09"
   ]
  },
  {
   "cell_type": "code",
   "execution_count": 43,
   "metadata": {
    "ExecuteTime": {
     "end_time": "2020-12-03T16:55:41.358824Z",
     "start_time": "2020-12-03T16:55:41.352807Z"
    }
   },
   "outputs": [
    {
     "data": {
      "text/html": [
       "<img src=\"https://www.statisticshowto.com/wp-content/uploads/2013/02/standard-normal-distribution.jpg\"/>"
      ],
      "text/plain": [
       "<IPython.core.display.Image object>"
      ]
     },
     "execution_count": 43,
     "metadata": {},
     "output_type": "execute_result"
    }
   ],
   "source": [
    "#Mais detalhes: https://www.statisticshowto.com/probability-and-statistics/normal-distributions/\n",
    "from IPython.display import Image\n",
    "from IPython.core.display import HTML \n",
    "Image(url= \"https://www.statisticshowto.com/wp-content/uploads/2013/02/standard-normal-distribution.jpg\")\n"
   ]
  },
  {
   "cell_type": "markdown",
   "metadata": {},
   "source": [
    "* 68% dos estãos estão a 1 desvio padrão da média\n",
    "* 95% dos dados estão a 2 desvios padrão da média\n",
    "* 99.7% dos dados estão a 3 desvios padrão da média\n"
   ]
  },
  {
   "cell_type": "code",
   "execution_count": 44,
   "metadata": {
    "ExecuteTime": {
     "end_time": "2020-12-03T16:55:41.544328Z",
     "start_time": "2020-12-03T16:55:41.360787Z"
    }
   },
   "outputs": [
    {
     "data": {
      "image/png": "[encoded data removed]",
      "text/plain": [
       "<Figure size 432x288 with 1 Axes>"
      ]
     },
     "metadata": {
      "needs_background": "light"
     },
     "output_type": "display_data"
    }
   ],
   "source": [
    "# Simulando distribuições com pequenas amostras\n",
    "x1 = rdn.normal(loc=10, scale=1, size=300)\n",
    "x2 = rdn.normal(loc=8, scale=2, size=300)\n",
    "\n",
    "sns.distplot(x1, hist=False, kde=True)\n",
    "sns.distplot(x2, hist=False, kde=True);"
   ]
  },
  {
   "cell_type": "markdown",
   "metadata": {},
   "source": [
    "* Média, Moda e Mediana são iguais\n",
    "* A curva é simétrica no centro\n",
    "* A área total da curva é 1.\n",
    "\n",
    "Mas ... no mundo digital, cada vez mais vemos distribuições que não \"respeitam a normalidade\". Uma delas é Distribuição de Cauda Longa que agora com ferramentas de machine learning podem ser exploradas. Para mais detalhes, veja: https://pt.wikipedia.org/wiki/Cauda_longa"
   ]
  },
  {
   "cell_type": "markdown",
   "metadata": {
    "ExecuteTime": {
     "end_time": "2020-08-04T00:51:44.447330Z",
     "start_time": "2020-08-04T00:51:44.444369Z"
    }
   },
   "source": [
    "### Exemplo 1"
   ]
  },
  {
   "cell_type": "code",
   "execution_count": 45,
   "metadata": {
    "ExecuteTime": {
     "end_time": "2020-12-03T16:55:41.561250Z",
     "start_time": "2020-12-03T16:55:41.546323Z"
    }
   },
   "outputs": [
    {
     "data": {
      "text/plain": [
       "25%    25.10\n",
       "50%    54.65\n",
       "75%    75.55\n",
       "Name: var_continua_1, dtype: float64"
      ]
     },
     "execution_count": 45,
     "metadata": {},
     "output_type": "execute_result"
    }
   ],
   "source": [
    "# Importando a arquivo .csv como um dataframe do pandas\n",
    "df1 = pd.read_csv('dataset_instrucional.csv',encoding='ISO-8859-1',delimiter=';',low_memory = False)\n",
    "\n",
    "df1['var_continua_1'].describe()[['25%', '50%', '75%']]"
   ]
  },
  {
   "cell_type": "markdown",
   "metadata": {},
   "source": [
    "### Exemplo 2\n"
   ]
  },
  {
   "cell_type": "code",
   "execution_count": 46,
   "metadata": {
    "ExecuteTime": {
     "end_time": "2020-12-03T16:55:41.581196Z",
     "start_time": "2020-12-03T16:55:41.563245Z"
    }
   },
   "outputs": [
    {
     "data": {
      "text/plain": [
       "25%    162.148937\n",
       "50%    166.393740\n",
       "75%    170.504672\n",
       "Name: height_cm, dtype: float64"
      ]
     },
     "execution_count": 46,
     "metadata": {},
     "output_type": "execute_result"
    }
   ],
   "source": [
    "df2['height_cm'].describe()[['25%', '50%', '75%']]"
   ]
  },
  {
   "cell_type": "markdown",
   "metadata": {},
   "source": [
    "## Percentis\n",
    "Os 3 quartis são muito úteis na descrição dos dados, mas as vezes temos a necessidade de fazer novos cortes nos dados. Para isso podemos utilizar outros percentis.\n",
    "\n",
    "### Exemplo 1\n"
   ]
  },
  {
   "cell_type": "code",
   "execution_count": 47,
   "metadata": {
    "ExecuteTime": {
     "end_time": "2020-12-03T16:55:41.589209Z",
     "start_time": "2020-12-03T16:55:41.583191Z"
    }
   },
   "outputs": [
    {
     "data": {
      "text/plain": [
       "[0, 8.7, 8.7, 9.0, 9.5, 10, 10, 10, 10, 10]"
      ]
     },
     "execution_count": 47,
     "metadata": {},
     "output_type": "execute_result"
    }
   ],
   "source": [
    "notas_finais_cfc"
   ]
  },
  {
   "cell_type": "code",
   "execution_count": 48,
   "metadata": {
    "ExecuteTime": {
     "end_time": "2020-12-03T16:55:41.599150Z",
     "start_time": "2020-12-03T16:55:41.591178Z"
    }
   },
   "outputs": [
    {
     "data": {
      "text/plain": [
       "7.829999999999999"
      ]
     },
     "execution_count": 48,
     "metadata": {},
     "output_type": "execute_result"
    }
   ],
   "source": [
    "np.quantile(notas_finais_cfc,.10)"
   ]
  },
  {
   "cell_type": "code",
   "execution_count": 49,
   "metadata": {
    "ExecuteTime": {
     "end_time": "2020-12-03T16:55:41.609123Z",
     "start_time": "2020-12-03T16:55:41.602140Z"
    }
   },
   "outputs": [
    {
     "data": {
      "text/plain": [
       "9.3"
      ]
     },
     "execution_count": 49,
     "metadata": {},
     "output_type": "execute_result"
    }
   ],
   "source": [
    "np.quantile(notas_finais_cfc,.40)"
   ]
  },
  {
   "cell_type": "code",
   "execution_count": 50,
   "metadata": {
    "ExecuteTime": {
     "end_time": "2020-12-03T16:55:41.620093Z",
     "start_time": "2020-12-03T16:55:41.612113Z"
    }
   },
   "outputs": [
    {
     "data": {
      "text/plain": [
       "10.0"
      ]
     },
     "execution_count": 50,
     "metadata": {},
     "output_type": "execute_result"
    }
   ],
   "source": [
    "np.quantile(notas_finais_cfc,.60)"
   ]
  },
  {
   "cell_type": "code",
   "execution_count": 51,
   "metadata": {
    "ExecuteTime": {
     "end_time": "2020-12-03T16:55:41.632063Z",
     "start_time": "2020-12-03T16:55:41.623085Z"
    }
   },
   "outputs": [
    {
     "data": {
      "text/plain": [
       "10.0"
      ]
     },
     "execution_count": 51,
     "metadata": {},
     "output_type": "execute_result"
    }
   ],
   "source": [
    "np.quantile(notas_finais_cfc,.80)"
   ]
  },
  {
   "cell_type": "markdown",
   "metadata": {},
   "source": [
    "### Exemplo 2\n"
   ]
  },
  {
   "cell_type": "code",
   "execution_count": 52,
   "metadata": {
    "ExecuteTime": {
     "end_time": "2020-12-03T16:55:41.654001Z",
     "start_time": "2020-12-03T16:55:41.636051Z"
    }
   },
   "outputs": [
    {
     "data": {
      "text/plain": [
       "177.833996924"
      ]
     },
     "execution_count": 52,
     "metadata": {},
     "output_type": "execute_result"
    }
   ],
   "source": [
    "df2['height_cm'].quantile(.99)"
   ]
  },
  {
   "cell_type": "markdown",
   "metadata": {},
   "source": [
    "# Representação Gráfica\n",
    "\n",
    "## BoxPlot\n",
    "Ao invés de ficarmos plotando medidas descritivas e de variância dos dados, podemos agilizar a compreensão da distribuição dos dados utiliando gráficos com o boxplot. Esse gráfico apresenta distribuição de dados quantitativos e facilita a comparações de variáveis, muito mais que um resultado de tabela agregada com o .describe() do pandas. A caixa mostra os 3 quantis, com o 3º quantil (percentil 75%) na parte superior, a mediana no meio e o 1º quantil (percentil 25%) na parte inferior. Os \"bigodes\" ou *whiskers* demonstram a amplitude inter-quartis (Q3-Q1) multiplicado por um fator (normalmente 1,5) somada ao quartil superior e subtraída do quartil inferior, indicando o grau de espalhamento dos dados. Os pontos fora dos whiskers são considerados outliers. \n",
    "\n",
    "### Exemplo 1\n"
   ]
  },
  {
   "cell_type": "code",
   "execution_count": 53,
   "metadata": {
    "ExecuteTime": {
     "end_time": "2020-12-03T16:55:41.803634Z",
     "start_time": "2020-12-03T16:55:41.658026Z"
    }
   },
   "outputs": [
    {
     "name": "stdout",
     "output_type": "stream",
     "text": [
      "Notas finais cfc:  [0, 8.7, 8.7, 9.0, 9.5, 10, 10, 10, 10, 10]\n"
     ]
    },
    {
     "data": {
      "image/png": "[encoded data removed]",
      "text/plain": [
       "<Figure size 360x576 with 1 Axes>"
      ]
     },
     "metadata": {
      "needs_background": "light"
     },
     "output_type": "display_data"
    }
   ],
   "source": [
    "print('Notas finais cfc: ', notas_finais_cfc)\n",
    "fig, axes = plt.subplots(1, 1, figsize=(5, 8))\n",
    "sns.boxplot(y= notas_finais_cfc);"
   ]
  },
  {
   "cell_type": "markdown",
   "metadata": {},
   "source": [
    "### Exemplo 2"
   ]
  },
  {
   "cell_type": "code",
   "execution_count": 54,
   "metadata": {
    "ExecuteTime": {
     "end_time": "2020-12-03T16:55:41.843495Z",
     "start_time": "2020-12-03T16:55:41.806593Z"
    }
   },
   "outputs": [
    {
     "data": {
      "text/html": [
       "<div>\n",
       "<style scoped>\n",
       "    .dataframe tbody tr th:only-of-type {\n",
       "        vertical-align: middle;\n",
       "    }\n",
       "\n",
       "    .dataframe tbody tr th {\n",
       "        vertical-align: top;\n",
       "    }\n",
       "\n",
       "    .dataframe thead th {\n",
       "        text-align: right;\n",
       "    }\n",
       "</style>\n",
       "<table border=\"1\" class=\"dataframe\">\n",
       "  <thead>\n",
       "    <tr style=\"text-align: right;\">\n",
       "      <th></th>\n",
       "      <th>height_cm</th>\n",
       "    </tr>\n",
       "  </thead>\n",
       "  <tbody>\n",
       "    <tr>\n",
       "      <th>count</th>\n",
       "      <td>190000.000000</td>\n",
       "    </tr>\n",
       "    <tr>\n",
       "      <th>mean</th>\n",
       "      <td>166.302742</td>\n",
       "    </tr>\n",
       "    <tr>\n",
       "      <th>std</th>\n",
       "      <td>5.507522</td>\n",
       "    </tr>\n",
       "    <tr>\n",
       "      <th>min</th>\n",
       "      <td>142.157209</td>\n",
       "    </tr>\n",
       "    <tr>\n",
       "      <th>25%</th>\n",
       "      <td>162.148937</td>\n",
       "    </tr>\n",
       "    <tr>\n",
       "      <th>50%</th>\n",
       "      <td>166.393740</td>\n",
       "    </tr>\n",
       "    <tr>\n",
       "      <th>75%</th>\n",
       "      <td>170.504672</td>\n",
       "    </tr>\n",
       "    <tr>\n",
       "      <th>max</th>\n",
       "      <td>187.250708</td>\n",
       "    </tr>\n",
       "  </tbody>\n",
       "</table>\n",
       "</div>"
      ],
      "text/plain": [
       "           height_cm\n",
       "count  190000.000000\n",
       "mean      166.302742\n",
       "std         5.507522\n",
       "min       142.157209\n",
       "25%       162.148937\n",
       "50%       166.393740\n",
       "75%       170.504672\n",
       "max       187.250708"
      ]
     },
     "execution_count": 54,
     "metadata": {},
     "output_type": "execute_result"
    }
   ],
   "source": [
    "df2[['height_cm']].describe()"
   ]
  },
  {
   "cell_type": "code",
   "execution_count": 55,
   "metadata": {
    "ExecuteTime": {
     "end_time": "2020-12-03T16:55:41.980128Z",
     "start_time": "2020-12-03T16:55:41.846486Z"
    }
   },
   "outputs": [
    {
     "data": {
      "text/plain": [
       "<matplotlib.axes._subplots.AxesSubplot at 0x240d89388b0>"
      ]
     },
     "execution_count": 55,
     "metadata": {},
     "output_type": "execute_result"
    },
    {
     "data": {
      "image/png": "[encoded data removed]",
      "text/plain": [
       "<Figure size 432x288 with 1 Axes>"
      ]
     },
     "metadata": {
      "needs_background": "light"
     },
     "output_type": "display_data"
    }
   ],
   "source": [
    "sns.boxplot(y= df2['height_cm'])"
   ]
  },
  {
   "cell_type": "markdown",
   "metadata": {},
   "source": [
    "### Exemplo 3"
   ]
  },
  {
   "cell_type": "code",
   "execution_count": 56,
   "metadata": {
    "ExecuteTime": {
     "end_time": "2020-12-03T16:55:42.228786Z",
     "start_time": "2020-12-03T16:55:41.982123Z"
    }
   },
   "outputs": [
    {
     "data": {
      "text/plain": [
       "Text(0.5, 1.0, 'Boxplot: bar_continua_2')"
      ]
     },
     "execution_count": 56,
     "metadata": {},
     "output_type": "execute_result"
    },
    {
     "data": {
      "image/png": "[encoded data removed]",
      "text/plain": [
       "<Figure size 720x432 with 2 Axes>"
      ]
     },
     "metadata": {
      "needs_background": "light"
     },
     "output_type": "display_data"
    }
   ],
   "source": [
    "fig, axes = plt.subplots(1, 2, figsize=(10, 6))\n",
    "\n",
    "sns.boxplot(y = df1['var_continua_1'] , color = 'skyblue', ax = axes[0]).set_title('Boxplot: bar_continua_1')\n",
    "sns.boxplot(y = df1['var_continua_2'] , color = 'red', ax = axes[1]).set_title('Boxplot: bar_continua_2')"
   ]
  },
  {
   "cell_type": "markdown",
   "metadata": {},
   "source": [
    "## Violinplot\n",
    "O Gráfico de violino plota um box e adiciona um gráfico de densidade rotacionado em 90 graus a figura. É muito util pois além da informação sobre quartis e outliers, mostra a distribuição completa dos dados.\n",
    "\n",
    "### Exemplo 1"
   ]
  },
  {
   "cell_type": "code",
   "execution_count": 57,
   "metadata": {
    "ExecuteTime": {
     "end_time": "2020-12-03T16:55:42.383715Z",
     "start_time": "2020-12-03T16:55:42.230781Z"
    }
   },
   "outputs": [
    {
     "name": "stdout",
     "output_type": "stream",
     "text": [
      "Notas finais cfc:  [0, 8.7, 8.7, 9.0, 9.5, 10, 10, 10, 10, 10]\n"
     ]
    },
    {
     "data": {
      "image/png": "[encoded data removed]",
      "text/plain": [
       "<Figure size 360x576 with 1 Axes>"
      ]
     },
     "metadata": {
      "needs_background": "light"
     },
     "output_type": "display_data"
    }
   ],
   "source": [
    "print('Notas finais cfc: ', notas_finais_cfc)\n",
    "fig, axes = plt.subplots(1, 1, figsize=(5, 8))\n",
    "sns.violinplot(y= notas_finais_cfc); "
   ]
  },
  {
   "cell_type": "markdown",
   "metadata": {},
   "source": [
    "### Exemplo 2\n"
   ]
  },
  {
   "cell_type": "code",
   "execution_count": 58,
   "metadata": {
    "ExecuteTime": {
     "end_time": "2020-12-03T16:55:42.409526Z",
     "start_time": "2020-12-03T16:55:42.383715Z"
    }
   },
   "outputs": [
    {
     "data": {
      "text/html": [
       "<div>\n",
       "<style scoped>\n",
       "    .dataframe tbody tr th:only-of-type {\n",
       "        vertical-align: middle;\n",
       "    }\n",
       "\n",
       "    .dataframe tbody tr th {\n",
       "        vertical-align: top;\n",
       "    }\n",
       "\n",
       "    .dataframe thead th {\n",
       "        text-align: right;\n",
       "    }\n",
       "</style>\n",
       "<table border=\"1\" class=\"dataframe\">\n",
       "  <thead>\n",
       "    <tr style=\"text-align: right;\">\n",
       "      <th></th>\n",
       "      <th>height_cm</th>\n",
       "    </tr>\n",
       "  </thead>\n",
       "  <tbody>\n",
       "    <tr>\n",
       "      <th>count</th>\n",
       "      <td>190000.000000</td>\n",
       "    </tr>\n",
       "    <tr>\n",
       "      <th>mean</th>\n",
       "      <td>166.302742</td>\n",
       "    </tr>\n",
       "    <tr>\n",
       "      <th>std</th>\n",
       "      <td>5.507522</td>\n",
       "    </tr>\n",
       "    <tr>\n",
       "      <th>min</th>\n",
       "      <td>142.157209</td>\n",
       "    </tr>\n",
       "    <tr>\n",
       "      <th>25%</th>\n",
       "      <td>162.148937</td>\n",
       "    </tr>\n",
       "    <tr>\n",
       "      <th>50%</th>\n",
       "      <td>166.393740</td>\n",
       "    </tr>\n",
       "    <tr>\n",
       "      <th>75%</th>\n",
       "      <td>170.504672</td>\n",
       "    </tr>\n",
       "    <tr>\n",
       "      <th>max</th>\n",
       "      <td>187.250708</td>\n",
       "    </tr>\n",
       "  </tbody>\n",
       "</table>\n",
       "</div>"
      ],
      "text/plain": [
       "           height_cm\n",
       "count  190000.000000\n",
       "mean      166.302742\n",
       "std         5.507522\n",
       "min       142.157209\n",
       "25%       162.148937\n",
       "50%       166.393740\n",
       "75%       170.504672\n",
       "max       187.250708"
      ]
     },
     "execution_count": 58,
     "metadata": {},
     "output_type": "execute_result"
    }
   ],
   "source": [
    "df2[['height_cm']].describe()"
   ]
  },
  {
   "cell_type": "code",
   "execution_count": 59,
   "metadata": {
    "ExecuteTime": {
     "end_time": "2020-12-03T16:55:43.371427Z",
     "start_time": "2020-12-03T16:55:42.411487Z"
    }
   },
   "outputs": [
    {
     "data": {
      "text/plain": [
       "<matplotlib.axes._subplots.AxesSubplot at 0x240d8a92c70>"
      ]
     },
     "execution_count": 59,
     "metadata": {},
     "output_type": "execute_result"
    },
    {
     "data": {
      "image/png": "[encoded data removed]",
      "text/plain": [
       "<Figure size 432x288 with 1 Axes>"
      ]
     },
     "metadata": {
      "needs_background": "light"
     },
     "output_type": "display_data"
    }
   ],
   "source": [
    "sns.violinplot(y= df2['height_cm'])"
   ]
  },
  {
   "cell_type": "markdown",
   "metadata": {},
   "source": [
    "### Exemplo 3"
   ]
  },
  {
   "cell_type": "code",
   "execution_count": 60,
   "metadata": {
    "ExecuteTime": {
     "end_time": "2020-12-03T16:55:43.619404Z",
     "start_time": "2020-12-03T16:55:43.373446Z"
    }
   },
   "outputs": [
    {
     "data": {
      "text/plain": [
       "Text(0.5, 1.0, 'Violinplot: bar_continua_2')"
      ]
     },
     "execution_count": 60,
     "metadata": {},
     "output_type": "execute_result"
    },
    {
     "data": {
      "image/png": "[encoded data removed]",
      "text/plain": [
       "<Figure size 720x432 with 2 Axes>"
      ]
     },
     "metadata": {
      "needs_background": "light"
     },
     "output_type": "display_data"
    }
   ],
   "source": [
    "fig, axes = plt.subplots(1, 2, figsize=(10, 6))\n",
    "\n",
    "sns.violinplot(y = df1['var_continua_1'] , color = 'skyblue', ax = axes[0]).set_title('Violinplot: bar_continua_1')\n",
    "sns.violinplot(y = df1['var_continua_2'] , color = 'red', ax = axes[1]).set_title('Violinplot: bar_continua_2')"
   ]
  },
  {
   "cell_type": "markdown",
   "metadata": {},
   "source": [
    "## Gráfico de barras\n",
    "\n",
    "Gráficos de barras representam dados categóricos com barras retangulares de comprimento proporcionais aos valores que elas representam. É uma forma de comparar categorias discretas.\n",
    "\n",
    "* https://pandas.pydata.org/pandas-docs/stable/reference/api/pandas.DataFrame.plot.bar.html"
   ]
  },
  {
   "cell_type": "code",
   "execution_count": 61,
   "metadata": {
    "ExecuteTime": {
     "end_time": "2020-12-03T16:55:43.627384Z",
     "start_time": "2020-12-03T16:55:43.621398Z"
    }
   },
   "outputs": [
    {
     "data": {
      "text/plain": [
       "Index(['ID', 'nominal_1', 'nominal_2', 'var_continua_1', 'var_continua_2',\n",
       "       'var_discreta_1', 'var_discreta_2', 'flag_1', 'flag_2', 'peso_1',\n",
       "       'peso_2'],\n",
       "      dtype='object')"
      ]
     },
     "execution_count": 61,
     "metadata": {},
     "output_type": "execute_result"
    }
   ],
   "source": [
    "df1.columns"
   ]
  },
  {
   "cell_type": "markdown",
   "metadata": {},
   "source": [
    "### Exemplo 1"
   ]
  },
  {
   "cell_type": "code",
   "execution_count": 62,
   "metadata": {
    "ExecuteTime": {
     "end_time": "2020-12-03T16:55:43.823471Z",
     "start_time": "2020-12-03T16:55:43.629377Z"
    }
   },
   "outputs": [
    {
     "data": {
      "text/plain": [
       "<seaborn.axisgrid.FacetGrid at 0x240d9b5a6a0>"
      ]
     },
     "execution_count": 62,
     "metadata": {},
     "output_type": "execute_result"
    },
    {
     "data": {
      "image/png": "[encoded data removed]",
      "text/plain": [
       "<Figure size 432x432 with 1 Axes>"
      ]
     },
     "metadata": {
      "needs_background": "light"
     },
     "output_type": "display_data"
    }
   ],
   "source": [
    "sns.catplot(y=\"flag_1\", data=df1,\n",
    "                height=6, kind=\"bar\", palette=\"muted\")"
   ]
  },
  {
   "cell_type": "markdown",
   "metadata": {},
   "source": [
    "### Exemplo 2\n"
   ]
  },
  {
   "cell_type": "code",
   "execution_count": 63,
   "metadata": {
    "ExecuteTime": {
     "end_time": "2020-12-03T16:55:46.197850Z",
     "start_time": "2020-12-03T16:55:43.825433Z"
    }
   },
   "outputs": [
    {
     "data": {
      "text/plain": [
       "<seaborn.axisgrid.FacetGrid at 0x240d855dc40>"
      ]
     },
     "execution_count": 63,
     "metadata": {},
     "output_type": "execute_result"
    },
    {
     "data": {
      "image/png": "[encoded data removed]",
      "text/plain": [
       "<Figure size 432x432 with 1 Axes>"
      ]
     },
     "metadata": {
      "needs_background": "light"
     },
     "output_type": "display_data"
    }
   ],
   "source": [
    "sns.catplot(x = 'sex', y=\"height_cm\", data=df2, height=6, kind=\"bar\", palette=\"muted\")"
   ]
  },
  {
   "cell_type": "markdown",
   "metadata": {},
   "source": [
    "### Exemplo 3\n"
   ]
  },
  {
   "cell_type": "code",
   "execution_count": 64,
   "metadata": {
    "ExecuteTime": {
     "end_time": "2020-12-03T16:55:48.551560Z",
     "start_time": "2020-12-03T16:55:46.199746Z"
    }
   },
   "outputs": [
    {
     "data": {
      "text/plain": [
       "<seaborn.axisgrid.FacetGrid at 0x240d7b8bca0>"
      ]
     },
     "execution_count": 64,
     "metadata": {},
     "output_type": "execute_result"
    },
    {
     "data": {
      "image/png": "[encoded data removed]",
      "text/plain": [
       "<Figure size 432x432 with 1 Axes>"
      ]
     },
     "metadata": {
      "needs_background": "light"
     },
     "output_type": "display_data"
    }
   ],
   "source": [
    "sns.catplot(x = 'carhill_score', y=\"height_cm\", data=df2, height=6, kind=\"bar\", palette=\"muted\")"
   ]
  },
  {
   "cell_type": "markdown",
   "metadata": {},
   "source": [
    "### Exemplo 4"
   ]
  },
  {
   "cell_type": "code",
   "execution_count": 65,
   "metadata": {
    "ExecuteTime": {
     "end_time": "2020-12-03T16:55:48.629996Z",
     "start_time": "2020-12-03T16:55:48.554197Z"
    }
   },
   "outputs": [],
   "source": [
    "sns.catplot?"
   ]
  },
  {
   "cell_type": "code",
   "execution_count": 66,
   "metadata": {
    "ExecuteTime": {
     "end_time": "2020-12-03T16:55:51.432519Z",
     "start_time": "2020-12-03T16:55:48.632983Z"
    }
   },
   "outputs": [
    {
     "data": {
      "text/plain": [
       "<seaborn.axisgrid.FacetGrid at 0x240d8a2fe80>"
      ]
     },
     "execution_count": 66,
     "metadata": {},
     "output_type": "execute_result"
    },
    {
     "data": {
      "image/png": "[encoded data removed]",
      "text/plain": [
       "<Figure size 474.375x432 with 1 Axes>"
      ]
     },
     "metadata": {
      "needs_background": "light"
     },
     "output_type": "display_data"
    }
   ],
   "source": [
    "sns.catplot(x = 'carhill_score', y=\"height_cm\", hue = 'sex', data=df2, height=6, kind=\"bar\", palette=\"muted\")"
   ]
  },
  {
   "cell_type": "markdown",
   "metadata": {},
   "source": [
    "### Pirâmide Etária"
   ]
  },
  {
   "cell_type": "code",
   "execution_count": 67,
   "metadata": {
    "ExecuteTime": {
     "end_time": "2020-12-03T16:55:51.456456Z",
     "start_time": "2020-12-03T16:55:51.434477Z"
    }
   },
   "outputs": [
    {
     "data": {
      "text/html": [
       "<div>\n",
       "<style scoped>\n",
       "    .dataframe tbody tr th:only-of-type {\n",
       "        vertical-align: middle;\n",
       "    }\n",
       "\n",
       "    .dataframe tbody tr th {\n",
       "        vertical-align: top;\n",
       "    }\n",
       "\n",
       "    .dataframe thead th {\n",
       "        text-align: right;\n",
       "    }\n",
       "</style>\n",
       "<table border=\"1\" class=\"dataframe\">\n",
       "  <thead>\n",
       "    <tr style=\"text-align: right;\">\n",
       "      <th></th>\n",
       "      <th>idade</th>\n",
       "      <th>homem</th>\n",
       "      <th>mulher</th>\n",
       "    </tr>\n",
       "  </thead>\n",
       "  <tbody>\n",
       "    <tr>\n",
       "      <th>0</th>\n",
       "      <td>0-4</td>\n",
       "      <td>-49228000</td>\n",
       "      <td>52367000</td>\n",
       "    </tr>\n",
       "    <tr>\n",
       "      <th>1</th>\n",
       "      <td>5-9</td>\n",
       "      <td>-61283000</td>\n",
       "      <td>64959000</td>\n",
       "    </tr>\n",
       "    <tr>\n",
       "      <th>2</th>\n",
       "      <td>10-14</td>\n",
       "      <td>-64391000</td>\n",
       "      <td>67161000</td>\n",
       "    </tr>\n",
       "    <tr>\n",
       "      <th>3</th>\n",
       "      <td>15-19</td>\n",
       "      <td>-52437000</td>\n",
       "      <td>55388000</td>\n",
       "    </tr>\n",
       "    <tr>\n",
       "      <th>4</th>\n",
       "      <td>20-24</td>\n",
       "      <td>-42955000</td>\n",
       "      <td>45448000</td>\n",
       "    </tr>\n",
       "    <tr>\n",
       "      <th>5</th>\n",
       "      <td>25-29</td>\n",
       "      <td>-44667000</td>\n",
       "      <td>47129000</td>\n",
       "    </tr>\n",
       "    <tr>\n",
       "      <th>6</th>\n",
       "      <td>30-34</td>\n",
       "      <td>-31570000</td>\n",
       "      <td>33436000</td>\n",
       "    </tr>\n",
       "    <tr>\n",
       "      <th>7</th>\n",
       "      <td>35-39</td>\n",
       "      <td>-23887000</td>\n",
       "      <td>26710000</td>\n",
       "    </tr>\n",
       "    <tr>\n",
       "      <th>8</th>\n",
       "      <td>40-44</td>\n",
       "      <td>-22390000</td>\n",
       "      <td>25627000</td>\n",
       "    </tr>\n",
       "    <tr>\n",
       "      <th>9</th>\n",
       "      <td>45-49</td>\n",
       "      <td>-20971000</td>\n",
       "      <td>23612000</td>\n",
       "    </tr>\n",
       "  </tbody>\n",
       "</table>\n",
       "</div>"
      ],
      "text/plain": [
       "   idade     homem    mulher\n",
       "0    0-4 -49228000  52367000\n",
       "1    5-9 -61283000  64959000\n",
       "2  10-14 -64391000  67161000\n",
       "3  15-19 -52437000  55388000\n",
       "4  20-24 -42955000  45448000\n",
       "5  25-29 -44667000  47129000\n",
       "6  30-34 -31570000  33436000\n",
       "7  35-39 -23887000  26710000\n",
       "8  40-44 -22390000  25627000\n",
       "9  45-49 -20971000  23612000"
      ]
     },
     "execution_count": 67,
     "metadata": {},
     "output_type": "execute_result"
    }
   ],
   "source": [
    "idade = ['0-4','5-9','10-14','15-19','20-24','25-29','30-34',\n",
    "       '35-39','40-44','45-49','50-54','55-59','60-64',\n",
    "       '65-69','70-74','75-79','80-84','85-89','90-94',\n",
    "       '95-99','100+']\n",
    "\n",
    "homem = [-49228000, -61283000, -64391000, -52437000, -42955000, \n",
    "        -44667000, -31570000, -23887000, -22390000, -20971000, \n",
    "        -17685000, -15450000, -13932000, -11020000, -7611000, \n",
    "        -4653000, -1952000, -625000, -116000, -14000, -1000]\n",
    "\n",
    "mulher = [52367000, 64959000, 67161000, 55388000, 45448000, \n",
    "          47129000, 33436000, 26710000, 25627000, 23612000, \n",
    "          20075000, 16368000, 14220000, 10125000, 5984000, \n",
    "          3131000, 1151000, 312000, 49000, 4000, 0]\n",
    "\n",
    "dfpiramideetaria = {'idade':idade, 'homem':homem, 'mulher':mulher}\n",
    "\n",
    "dfpiramideetaria = pd.DataFrame(dfpiramideetaria)\n",
    "\n",
    "dfpiramideetaria.head(10)"
   ]
  },
  {
   "cell_type": "code",
   "execution_count": 68,
   "metadata": {
    "ExecuteTime": {
     "end_time": "2020-12-03T16:55:51.911203Z",
     "start_time": "2020-12-03T16:55:51.459413Z"
    }
   },
   "outputs": [
    {
     "data": {
      "image/png": "[encoded data removed]",
      "text/plain": [
       "<Figure size 864x432 with 1 Axes>"
      ]
     },
     "metadata": {
      "needs_background": "light"
     },
     "output_type": "display_data"
    }
   ],
   "source": [
    "faixaidade = ['100+','95-99','90-94','85-89','80-84','75-79',\n",
    "              '70-74','65-69','60-64','55-59','50-54','45-49',\n",
    "              '40-44','35-39','30-34','25-29','20-24','15-19',\n",
    "              '10-14','5-9','0-4']\n",
    "\n",
    "f, ax = plt.subplots(figsize = (12,6))\n",
    "\n",
    "plot_piramide = sns.barplot(x='homem', y='idade', data=dfpiramideetaria, order=faixaidade)\n",
    "\n",
    "plot_piramide = sns.barplot(x='mulher', y='idade', data=dfpiramideetaria, order=faixaidade)\n",
    "\n",
    "plot_piramide.set(xlabel=\"População (centenas de milhões)\", \n",
    "                  ylabel=\"Faixa de idade\", title = \"Pirâmide Populacional\")\n",
    "\n",
    "plt.show()"
   ]
  }
 ],
 "metadata": {
  "hide_input": false,
  "kernelspec": {
   "display_name": "Python 3",
   "language": "python",
   "name": "python3"
  },
  "language_info": {
   "codemirror_mode": {
    "name": "ipython",
    "version": 3
   },
   "file_extension": ".py",
   "mimetype": "text/x-python",
   "name": "python",
   "nbconvert_exporter": "python",
   "pygments_lexer": "ipython3",
   "version": "3.8.3"
  },
  "latex_envs": {
   "LaTeX_envs_menu_present": true,
   "autoclose": false,
   "autocomplete": true,
   "bibliofile": "biblio.bib",
   "cite_by": "apalike",
   "current_citInitial": 1,
   "eqLabelWithNumbers": true,
   "eqNumInitial": 1,
   "hotkeys": {
    "equation": "Ctrl-E",
    "itemize": "Ctrl-I"
   },
   "labels_anchors": false,
   "latex_user_defs": false,
   "report_style_numbering": false,
   "user_envs_cfg": false
  },
  "toc": {
   "base_numbering": 1,
   "nav_menu": {
    "height": "167px",
    "width": "352px"
   },
   "number_sections": true,
   "sideBar": true,
   "skip_h1_title": false,
   "title_cell": "Table of Contents",
   "title_sidebar": "Contents",
   "toc_cell": false,
   "toc_position": {
    "height": "calc(100% - 180px)",
    "left": "10px",
    "top": "150px",
    "width": "236px"
   },
   "toc_section_display": true,
   "toc_window_display": true
  },
  "varInspector": {
   "cols": {
    "lenName": 16,
    "lenType": 16,
    "lenVar": 40
   },
   "kernels_config": {
    "python": {
     "delete_cmd_postfix": "",
     "delete_cmd_prefix": "del ",
     "library": "var_list.py",
     "varRefreshCmd": "print(var_dic_list())"
    },
    "r": {
     "delete_cmd_postfix": ") ",
     "delete_cmd_prefix": "rm(",
     "library": "var_list.r",
     "varRefreshCmd": "cat(var_dic_list()) "
    }
   },
   "types_to_exclude": [
    "module",
    "function",
    "builtin_function_or_method",
    "instance",
    "_Feature"
   ],
   "window_display": false
  }
 },
 "nbformat": 4,
 "nbformat_minor": 2
}
